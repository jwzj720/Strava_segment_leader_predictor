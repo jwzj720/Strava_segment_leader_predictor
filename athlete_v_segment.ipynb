{
 "cells": [
  {
   "attachments": {},
   "cell_type": "markdown",
   "metadata": {},
   "source": [
    "Take in athlete PR\n",
    "Convert to percentage of world record\n",
    "Create other expected perfomances for different races\n",
    "Plot on graph\n",
    "Take GAP of Segment\n",
    "Plot gap on graph, see if over or under curve"
   ]
  },
  {
   "cell_type": "code",
   "execution_count": 4,
   "metadata": {},
   "outputs": [],
   "source": [
    "import datetime\n",
    "WR_800 = datetime.timedelta(minutes=1,seconds=40)\n",
    "WR_MILE = datetime.timedelta(minutes=3,seconds=43)\n",
    "WR_2K = datetime.timedelta(minutes=4,seconds=44) \n",
    "WR_3K = datetime.timedelta(minutes=7,seconds=20)\n",
    "WR_5K = datetime.timedelta(minutes=12,seconds=35)\n",
    "WR_10K = datetime.timedelta(minutes=26,seconds=24)\n",
    "WR_10M = datetime.timedelta(minutes=44,seconds=24)\n",
    "WR_MARATHON = datetime.timedelta(hours=2,minutes=1,seconds=39)\n",
    "\n",
    "def pr_to_wr_percentage(athlete_pr:datetime.time):  \n",
    "    return WR_5K.total_seconds() / athlete_pr.total_seconds()\n",
    "\n",
    "def get_equivalent_time_all_records(wr_percentage):\n",
    "    rigels_constant = 1 # helps with accuracy\n",
    "    t_0 = 0\n",
    "    t_800 = WR_800.total_seconds() + (WR_800.total_seconds() * (1-wr_percentage)) * rigels_constant\n",
    "    t_mile = WR_MILE.total_seconds() + (WR_MILE.total_seconds() * (1-wr_percentage))* rigels_constant\n",
    "    t_2k = WR_2K.total_seconds() + (WR_2K.total_seconds() * (1-wr_percentage))* rigels_constant\n",
    "    t_3k = WR_3K.total_seconds() + (WR_3K.total_seconds() * (1-wr_percentage))* rigels_constant\n",
    "    t_5k = WR_5K.total_seconds() + (WR_5K.total_seconds() * (1-wr_percentage))* rigels_constant\n",
    "    t_10k = WR_10K.total_seconds() + (WR_10K.total_seconds() * (1-wr_percentage))* rigels_constant\n",
    "    t_10m = WR_10M.total_seconds() + (WR_10M.total_seconds() * (1-wr_percentage))* rigels_constant\n",
    "    t_mara = WR_MARATHON.total_seconds() + (WR_MARATHON.total_seconds() * (1-wr_percentage))* rigels_constant\n",
    "    return t_0,t_800,t_mile,t_2k,t_3k,t_5k,t_10k,t_10m,t_mara\n"
   ]
  },
  {
   "cell_type": "code",
   "execution_count": 5,
   "metadata": {},
   "outputs": [],
   "source": [
    "pr = datetime.timedelta(minutes=14,seconds=46)\n",
    "percentage = pr_to_wr_percentage(pr)"
   ]
  },
  {
   "cell_type": "code",
   "execution_count": 6,
   "metadata": {},
   "outputs": [
    {
     "name": "stdout",
     "output_type": "stream",
     "text": [
      "(0, 115.6726862302483, 257.95009029345374, 328.5104288939052, 508.95981941309253, 873.3287810383747, 1832.2553498871332, 3081.520361173815, 8442.949367945825)\n"
     ]
    }
   ],
   "source": [
    "print(get_equivalent_time_all_records(percentage))"
   ]
  },
  {
   "cell_type": "code",
   "execution_count": 7,
   "metadata": {},
   "outputs": [
    {
     "data": {
      "image/png": "[encoded data removed]",
      "text/plain": [
       "<Figure size 432x288 with 1 Axes>"
      ]
     },
     "metadata": {
      "needs_background": "light"
     },
     "output_type": "display_data"
    }
   ],
   "source": [
    "from matplotlib import pyplot as plt\n",
    "distances = [0,800,1609,2000,3000,5000,10000,16093.4,42164.81]\n",
    "def graph_distance_v_time(equivalent_event_times):\n",
    "    meters = distances\n",
    "    time = equivalent_event_times\n",
    "    plt.xlabel(\"Distance (Meters)\")\n",
    "    plt.ylabel(\"Time (Seconds)\")\n",
    "    plt.plot(meters,time)\n",
    "    plt.show()\n",
    "    return meters,time\n",
    "    \n",
    "\n",
    "plot_data = graph_distance_v_time(get_equivalent_time_all_records(percentage))\n"
   ]
  },
  {
   "cell_type": "code",
   "execution_count": 8,
   "metadata": {},
   "outputs": [],
   "source": [
    "# Gap is 10s per 44ft per 1609.34m\n",
    "# So GAP pace change = -10 * ((elevation gain/drop/#miles) * (#miles)/44) \n",
    "# In meteres = -10 * ((elevation gain/drop/(distance/1609.44)) * ((distance/1609.4)/44) \n",
    "# Break down a run into 10m stretches\n",
    "# GAP is 10/160.09 seconds per 44/160.09 ft gain/drop per 10m\n",
    "# So for a 10m run in "
   ]
  },
  {
   "cell_type": "code",
   "execution_count": 9,
   "metadata": {},
   "outputs": [],
   "source": [
    "def calc_GAP(distance,time,elevation_gain):\n",
    "    # presume distance in meterss and elevation_gain in meters\n",
    "    meters_to_miles_conversion = 1/1609.44\n",
    "    ft_to_meters_conversion = 1/3.281\n",
    "    pace = time/distance\n",
    "    GAP_addition = -10 * (elevation_gain/(distance*meters_to_miles_conversion)) * ((distance*meters_to_miles_conversion)/(44*ft_to_meters_conversion)) \n",
    "    GAP = pace + GAP_addition/1609.44\n",
    "    return GAP\n",
    "\n"
   ]
  },
  {
   "cell_type": "code",
   "execution_count": 86,
   "metadata": {},
   "outputs": [],
   "source": [
    "import numpy as np\n",
    "def calc_pace_for_segment(plot_data,segment_data):\n",
    "    athlete_time = np.interp(segment_data[0],plot_data[0],plot_data[1])\n",
    "    \n",
    "    athlete_pace = athlete_time/(segment_data[0]/1000) # pace in seconds/km\n",
    "    segment_pace =  segment_data[1]/(segment_data[0]/1000) # pace in seconds/km\n",
    "    return str(datetime.timedelta(seconds=athlete_pace)),str(datetime.timedelta(seconds=segment_pace))"
   ]
  },
  {
   "cell_type": "code",
   "execution_count": 78,
   "metadata": {},
   "outputs": [],
   "source": [
    "# Need to determine whether a point is above or below graph line\n",
    "def graph_segment_on_athlete_curve(plot_data,segment_data,segment_name):\n",
    "    plt.xlabel(\"Distance (Meters)\")\n",
    "    plt.ylabel(\"Time (Seconds)\")\n",
    "    plot_x_nearest_to_segment = min(plot_data[0], key=lambda x:abs(x-segment_data[0]))\n",
    "    plot_y_nearest_to_segment = min(plot_data[1], key=lambda x:abs(x-segment_data[1]))\n",
    "    # find a good axis window\n",
    "    axis_range = 1000\n",
    "    plt.axis([segment_data[0]-axis_range,segment_data[0]+axis_range,\n",
    "    min(plot_x_nearest_to_segment,segment_data[1]-axis_range),max(plot_y_nearest_to_segment,segment_data[1]+axis_range)])\n",
    "    plt.scatter([segment_data[0]],[segment_data[1]],color=\"red\",label=f\"{segment_name} Segment\")\n",
    "    plt.plot(plot_data[0],plot_data[1],label=\"Athlete\")\n",
    "    plt.legend()\n",
    "    plt.show()\n",
    "\n",
    "    # calculate the paces for each\n",
    "    athlete_pace,segment_pace = calc_pace_for_segment(plot_data,segment_data)\n",
    "    print(f\"Athlete pace: {athlete_pace} km/s\")\n",
    "    print(f\"Segment pace: {segment_pace} km/s\")\n",
    "\n",
    "\n",
    "def calc_above_or_below_plt_line(plot_data,segment_data):\n",
    "    # Calculate cross product\n",
    "    xA = segment_data[0]\n",
    "    yA = segment_data[1]\n",
    "    x1 = 0\n",
    "    x2 = 0\n",
    "    y1 = 0\n",
    "    y2 = 0\n",
    "    for distance_index in range(len(plot_data[0])):\n",
    "        if plot_data[0][distance_index] > xA:\n",
    "            x1 = plot_data[0][distance_index]\n",
    "            y1 = plot_data[1][distance_index]\n",
    "            x2 = plot_data[0][distance_index-1]\n",
    "            y2 = plot_data[1][distance_index-1]\n",
    "            break\n",
    "    v1 = (x2-x1, y2-y1)   \n",
    "    v2 = (x2-xA, y2-yA)   \n",
    "    cross_product = v1[0]*v2[1] - v1[1]*v2[0] \n",
    "    if cross_product > 0:\n",
    "        print('Athlete is faster than segment')\n",
    "    elif cross_product < 0:\n",
    "        print('Athlete is slower than segment')\n",
    "    else:\n",
    "        print('Athlete is exactly as fast as segment')\n",
    "        \n"
   ]
  },
  {
   "cell_type": "code",
   "execution_count": 31,
   "metadata": {},
   "outputs": [],
   "source": [
    "import json\n",
    "import datetime\n",
    "def get_segment_data_from_file(filename,segment_id):\n",
    "        with open(filename,\"r\") as file:\n",
    "                segment_data_dict = json.load(file)\n",
    "        return segment_data_dict[segment_id]\n",
    "\n",
    "def convert_segment_data_to_floats(segment_data:list):\n",
    "        meters = float(segment_data[0][:-2])*1000\n",
    "        hours_10s  = int(segment_data[1][-8]) if len(segment_data[1]) > 7 else 0\n",
    "        hours_1s  = int(segment_data[1][-7]) if len(segment_data[1]) > 6 else 0\n",
    "        mins_10s =  int(segment_data[1][-5]) if len(segment_data[1]) > 4 else 0\n",
    "        mins_1s  = int(segment_data[1][-4]) if len(segment_data[1]) > 3 else 0\n",
    "        seconds_10s = int(segment_data[1][-2]) if len(segment_data[1]) > 1 else 0\n",
    "        seconds_1s = int(segment_data[1][-1]) if len(segment_data[1]) > 0 else 0\n",
    "        total_seconds = (36000*hours_10s)+(3600*hours_1s)+(600*mins_10s)+(60*mins_1s)+ (10*seconds_10s) + seconds_1s\n",
    "        evelation_gain = int(segment_data[2][:-1])\n",
    "        return meters,total_seconds,evelation_gain\n"
   ]
  },
  {
   "cell_type": "code",
   "execution_count": 32,
   "metadata": {},
   "outputs": [
    {
     "name": "stdout",
     "output_type": "stream",
     "text": [
      "['1.88km', '5:40', '4m']\n",
      "1880.0 340 4\n",
      "336.5158519281693\n"
     ]
    }
   ],
   "source": [
    "\n",
    "segment_data = get_segment_data_from_file(\"data/scraped_segment_data.json\",\"1439652\")\n",
    "print(segment_data)\n",
    "distance,time,gain = convert_segment_data_to_floats(segment_data)\n",
    "print(distance,time,gain)\n",
    "grade_adjusted_time = calc_GAP(distance,time,gain) * distance\n",
    "print(grade_adjusted_time)\n",
    "\n",
    "\n"
   ]
  },
  {
   "cell_type": "code",
   "execution_count": 46,
   "metadata": {},
   "outputs": [
    {
     "name": "stdout",
     "output_type": "stream",
     "text": [
      "Athlete is faster than segment\n"
     ]
    },
    {
     "data": {
      "image/png": "[encoded data removed]",
      "text/plain": [
       "<Figure size 432x288 with 1 Axes>"
      ]
     },
     "metadata": {
      "needs_background": "light"
     },
     "output_type": "display_data"
    },
    {
     "name": "stdout",
     "output_type": "stream",
     "text": [
      "Athlete pace: 0:02:38.567084 km/s\n",
      "Segment pace: 0:02:58.997794 km/s\n"
     ]
    }
   ],
   "source": [
    "segment_data = (distance,grade_adjusted_time) # distance,time\n",
    "calc_above_or_below_plt_line(plot_data,segment_data)\n",
    "graph_segment_on_athlete_curve(plot_data,segment_data,\"Memorial Park Loop\")"
   ]
  },
  {
   "attachments": {},
   "cell_type": "markdown",
   "metadata": {},
   "source": [
    "# GAP 1.0 conclusions\n"
   ]
  },
  {
   "cell_type": "code",
   "execution_count": 14,
   "metadata": {},
   "outputs": [],
   "source": [
    "# pr given as timedelta object\n",
    "def get_athlete_vs_segment(athlete_5k_pr,segment_id,segment_name):\n",
    "    #pr = datetime.timedelta(minutes=14,seconds=46)\n",
    "    percentage = pr_to_wr_percentage(pr)\n",
    "    equivalent_times = get_equivalent_time_all_records(percentage)\n",
    "    plot_distances = [0,800,1609,2000,3000,5000,10000,16093.4,42164.81]\n",
    "    segment_data = get_segment_data_from_file(\"data/scraped_segment_data.json\",segment_id)\n",
    "    print(segment_data)\n",
    "    distance,time,gain = convert_segment_data_to_floats(segment_data)\n",
    "    grade_adjusted_time = calc_GAP(distance,time,gain) * distance\n",
    "    print(time)\n",
    "    print(grade_adjusted_time)\n",
    "    segment_data = (distance,grade_adjusted_time) # distance,time\n",
    "    calc_above_or_below_plt_line((distances,equivalent_times),segment_data)\n",
    "    graph_segment_on_athlete_curve((distances,equivalent_times),segment_data,segment_name)\n",
    "    "
   ]
  },
  {
   "cell_type": "code",
   "execution_count": 25,
   "metadata": {},
   "outputs": [
    {
     "name": "stdout",
     "output_type": "stream",
     "text": [
      "['4.96km', '15:16', '38m']\n",
      "916\n",
      "828.6739057741146\n",
      "Athlete is slower than segment\n",
      "[    0.     800.    1609.    2000.    3000.    5000.   10000.   16093.4\n",
      " 42164.81]\n",
      "[   0.          115.67268623  257.95009029  328.51042889  508.95981941\n",
      "  873.32878104 1832.25534989 3081.52036117 8442.94936795]\n"
     ]
    },
    {
     "data": {
      "image/png": "[encoded data removed]",
      "text/plain": [
       "<Figure size 432x288 with 1 Axes>"
      ]
     },
     "metadata": {
      "needs_background": "light"
     },
     "output_type": "display_data"
    }
   ],
   "source": [
    "pr = datetime.timedelta(minutes=14,seconds=46)\n",
    "segment_id = \"6105319\"\n",
    "segment_name = \"Claremont Turkey Trot\"\n",
    "get_athlete_vs_segment(pr,segment_id,segment_name)\n"
   ]
  },
  {
   "attachments": {},
   "cell_type": "markdown",
   "metadata": {},
   "source": [
    "# Conclusions:\n",
    "Looks like this GAP formula is pretty agressive. I think it probably works better for larger elevations, but it seems unfair to drop 30s per mile on a 3 mile run with 132ft gain. I think I'll need to find a way to find tune this model"
   ]
  },
  {
   "attachments": {},
   "cell_type": "markdown",
   "metadata": {},
   "source": [
    "# GAP Equation 2.0\n",
    "This equation says that for every 1% grade in elevation, there is a 12-15s decrease per mile\n",
    "In km's that 7.46-9.32s"
   ]
  },
  {
   "cell_type": "code",
   "execution_count": 16,
   "metadata": {},
   "outputs": [],
   "source": [
    "# TODO Am i accounting for negative grade? I am not, this needs to change\n",
    "# returns an upper and lower bound for GAP\n",
    "def calc_GAP_2(distance,time,elevation_gain):\n",
    "    grade = (elevation_gain/distance) * 100\n",
    "    grade_adjusted_time_low = time - ((grade * 7.46/1000) * distance)  \n",
    "    grade_adjusted_time_high = time - ((grade * 9.32/1000) * distance)\n",
    "    return grade_adjusted_time_low,grade_adjusted_time_high"
   ]
  },
  {
   "cell_type": "code",
   "execution_count": 17,
   "metadata": {},
   "outputs": [],
   "source": [
    "# pr given as timedelta object\n",
    "def get_athlete_vs_segment_v2(athlete_5k_pr,segment_id,segment_name):\n",
    "    #pr = datetime.timedelta(minutes=14,seconds=46)\n",
    "    percentage = pr_to_wr_percentage(pr)\n",
    "    equivalent_times = get_equivalent_time_all_records(percentage)\n",
    "    plot_distances = [0,800,1609,2000,3000,5000,10000,16093.4,42164.81]\n",
    "    segment_data = get_segment_data_from_file(\"data/scraped_segment_data.json\",segment_id)\n",
    "    print(f\"Segment data: {segment_data}\")\n",
    "    distance,time,gain = convert_segment_data_to_floats(segment_data)\n",
    "    grade_adjusted_time,time2 = calc_GAP_2(distance,time,gain)\n",
    "    print(f\"Seconds: {time}\")\n",
    "    print(f\"Grade Adjusted Seconds {grade_adjusted_time}\")\n",
    "    print(f\"Time reduction {time-grade_adjusted_time}\")\n",
    "    segment_data = (distance,grade_adjusted_time) # distance,time\n",
    "    calc_above_or_below_plt_line((distances,equivalent_times),segment_data)\n",
    "    graph_segment_on_athlete_curve((distances,equivalent_times),segment_data,segment_name)"
   ]
  },
  {
   "cell_type": "code",
   "execution_count": 18,
   "metadata": {},
   "outputs": [
    {
     "name": "stdout",
     "output_type": "stream",
     "text": [
      "Segment data: ['6.25km', '18:22', '66m']\n",
      "Seconds: 1102\n",
      "Grade Adjusted Seconds 1052.764\n",
      "Time reduction 49.236000000000104\n",
      "Athlete is slower than segment\n"
     ]
    },
    {
     "data": {
      "image/png": "[encoded data removed]",
      "text/plain": [
       "<Figure size 432x288 with 1 Axes>"
      ]
     },
     "metadata": {
      "needs_background": "light"
     },
     "output_type": "display_data"
    }
   ],
   "source": [
    "pr = datetime.timedelta(minutes=14,seconds=46)\n",
    "segment_id = \"2588795\"\n",
    "segment_name = \"Claremont Turkey Trot\"\n",
    "get_athlete_vs_segment_v2(pr,segment_id,segment_name)"
   ]
  },
  {
   "attachments": {},
   "cell_type": "markdown",
   "metadata": {},
   "source": [
    "# Putting it all together\n",
    "On demand find a segment and see if an athlete can get it"
   ]
  },
  {
   "cell_type": "code",
   "execution_count": 69,
   "metadata": {},
   "outputs": [],
   "source": [
    "\n",
    "import selenium\n",
    "from selenium import webdriver\n",
    "from selenium.webdriver.common.by import By\n",
    "\n",
    "def get_segment_distance_time_grade(segment_id):\n",
    "    driver = webdriver.Chrome('/Users/James/Downloads/chromedriver')\n",
    "    url = f\"https://www.strava.com/segments/{segment_id}?filter=overall\"\n",
    "    driver.get(url)\n",
    "    #login_to_strava()\n",
    "    distance_element = driver.find_element(By.XPATH,'//*[@id=\"segment\"]/div/div[3]/ul/li[1]/div/b')\n",
    "    grade_element = driver.find_element(By.XPATH,'//*[@id=\"segment\"]/div/div[3]/ul/li[3]/div/b')\n",
    "    try:\n",
    "        # check if there is a VAM\n",
    "         leader_time_element = driver.find_element(By.XPATH,'//*[@id=\"segment-leaderboard\"]/div/table/tbody/tr[1]/td[5]')\n",
    "    except Exception:\n",
    "         leader_time_element = driver.find_element(By.XPATH,'//*[@id=\"segment-leaderboard\"]/div/table/tbody/tr[1]/td[4]')\n",
    "    \n",
    "    return distance_element.text,leader_time_element.text,grade_element.text\n"
   ]
  },
  {
   "cell_type": "code",
   "execution_count": 64,
   "metadata": {},
   "outputs": [],
   "source": [
    "def convert_segment_data_to_floats_v2(segment_data:list):\n",
    "        # remove all commas\n",
    "        new_segment_data = []\n",
    "        for data in segment_data:\n",
    "                new_segment_data.append(data.replace(\",\",\"\"))\n",
    "        segment_data = new_segment_data\n",
    "        \n",
    "        meters = float(segment_data[0][:-2])*1000\n",
    "        hours_10s  = int(segment_data[1][-8]) if len(segment_data[1]) > 7 else 0\n",
    "        hours_1s  = int(segment_data[1][-7]) if len(segment_data[1]) > 6 else 0\n",
    "        mins_10s =  int(segment_data[1][-5]) if len(segment_data[1]) > 4 else 0\n",
    "        mins_1s  = int(segment_data[1][-4]) if len(segment_data[1]) > 3 else 0\n",
    "        seconds_10s = int(segment_data[1][-2]) if len(segment_data[1]) > 1 else 0\n",
    "        seconds_1s = int(segment_data[1][-1]) if len(segment_data[1]) > 0 else 0\n",
    "        total_seconds = (36000*hours_10s)+(3600*hours_1s)+(600*mins_10s)+(60*mins_1s)+ (10*seconds_10s) + seconds_1s\n",
    "        avg_grade = float(segment_data[2][:-1])\n",
    "        return meters,total_seconds,avg_grade"
   ]
  },
  {
   "cell_type": "code",
   "execution_count": 21,
   "metadata": {},
   "outputs": [],
   "source": [
    "def gap_v2_with_grade(distance,time,grade):\n",
    "    if grade < 0:\n",
    "        grade_adjusted_time_low = time - ((grade * 4.97/1000) * distance)  \n",
    "        grade_adjusted_time_high = grade_adjusted_time_low\n",
    "    else:\n",
    "        grade_adjusted_time_low = time - ((grade * 7.46/1000) * distance)  \n",
    "        grade_adjusted_time_high = time - ((grade * 9.32/1000) * distance)\n",
    "    return grade_adjusted_time_low,grade_adjusted_time_high\n",
    "    "
   ]
  },
  {
   "cell_type": "code",
   "execution_count": 22,
   "metadata": {},
   "outputs": [],
   "source": [
    "def get_athlete_v_segment(pr_5k,segment_id,segment_name=\"\"):\n",
    "    # get segment data\n",
    "    distance,time,grade = get_segment_distance_time_grade(segment_id)\n",
    "    distance,time,grade = convert_segment_data_to_floats_v2([distance,time,grade])\n",
    "    grade_adjusted_time_low,grade_adjusted_time_high = gap_v2_with_grade(distance,time,grade)\n",
    "    # get athlete data\n",
    "    percentage = pr_to_wr_percentage(pr)\n",
    "    equivalent_times = get_equivalent_time_all_records(percentage)\n",
    "    # graph both\n",
    "    plot_distances = [0,800,1609,2000,3000,5000,10000,16093.4,42164.81]\n",
    "    segment_data = (distance,grade_adjusted_time_low)\n",
    "    calc_above_or_below_plt_line((plot_distances,equivalent_times),segment_data)\n",
    "    graph_segment_on_athlete_curve((plot_distances,equivalent_times),segment_data,segment_name)  "
   ]
  },
  {
   "cell_type": "code",
   "execution_count": 89,
   "metadata": {},
   "outputs": [
    {
     "name": "stderr",
     "output_type": "stream",
     "text": [
      "C:\\Users\\James\\AppData\\Local\\Temp\\ipykernel_27920\\2936833739.py:6: DeprecationWarning: executable_path has been deprecated, please pass in a Service object\n",
      "  driver = webdriver.Chrome('/Users/James/Downloads/chromedriver')\n"
     ]
    },
    {
     "name": "stdout",
     "output_type": "stream",
     "text": [
      "Athlete is faster than segment\n"
     ]
    },
    {
     "data": {
      "image/png": "[encoded data removed]",
      "text/plain": [
       "<Figure size 432x288 with 1 Axes>"
      ]
     },
     "metadata": {
      "needs_background": "light"
     },
     "output_type": "display_data"
    },
    {
     "name": "stdout",
     "output_type": "stream",
     "text": [
      "Athlete pace: 0:03:05.170704 km/s\n",
      "Segment pace: 0:04:17.861454 km/s\n"
     ]
    }
   ],
   "source": [
    "import datetime\n",
    "pr = datetime.timedelta(minutes=14,seconds=46)\n",
    "segment_id = \"2298308\"\n",
    "segment_name = \"Mt.Baldy Run to the Top\"\n",
    "get_athlete_v_segment(pr,segment_id,segment_name)"
   ]
  },
  {
   "cell_type": "code",
   "execution_count": 90,
   "metadata": {},
   "outputs": [
    {
     "name": "stderr",
     "output_type": "stream",
     "text": [
      "C:\\Users\\James\\AppData\\Local\\Temp\\ipykernel_27920\\2936833739.py:6: DeprecationWarning: executable_path has been deprecated, please pass in a Service object\n",
      "  driver = webdriver.Chrome('/Users/James/Downloads/chromedriver')\n"
     ]
    },
    {
     "name": "stdout",
     "output_type": "stream",
     "text": [
      "Athlete is faster than segment\n"
     ]
    },
    {
     "data": {
      "image/png": "[encoded data removed]",
      "text/plain": [
       "<Figure size 432x288 with 1 Axes>"
      ]
     },
     "metadata": {
      "needs_background": "light"
     },
     "output_type": "display_data"
    },
    {
     "name": "stdout",
     "output_type": "stream",
     "text": [
      "Athlete pace: 0:03:03.839744 km/s\n",
      "Segment pace: 0:03:55.482423 km/s\n"
     ]
    }
   ],
   "source": [
    "segment_id = \"27001396\"\n",
    "segment_name = \"Ute Valley Park\"\n",
    "get_athlete_v_segment(pr,segment_id,segment_name)"
   ]
  },
  {
   "cell_type": "code",
   "execution_count": 88,
   "metadata": {},
   "outputs": [
    {
     "name": "stderr",
     "output_type": "stream",
     "text": [
      "C:\\Users\\James\\AppData\\Local\\Temp\\ipykernel_27920\\2936833739.py:6: DeprecationWarning: executable_path has been deprecated, please pass in a Service object\n",
      "  driver = webdriver.Chrome('/Users/James/Downloads/chromedriver')\n"
     ]
    },
    {
     "name": "stdout",
     "output_type": "stream",
     "text": [
      "Athlete is faster than segment\n"
     ]
    },
    {
     "data": {
      "image/png": "[encoded data removed]",
      "text/plain": [
       "<Figure size 432x288 with 1 Axes>"
      ]
     },
     "metadata": {
      "needs_background": "light"
     },
     "output_type": "display_data"
    },
    {
     "name": "stdout",
     "output_type": "stream",
     "text": [
      "Athlete pace: 0:03:10.514522 km/s\n",
      "Segment pace: 0:04:17.861454 km/s\n"
     ]
    }
   ],
   "source": [
    "# Lets see if walt can get it \n",
    "pr = datetime.timedelta(minutes=15,seconds=20)\n",
    "segment_id = \"2298308\"\n",
    "segment_name = \"Mt.Baldy Run to the Top\"\n",
    "get_athlete_v_segment(pr,segment_id,segment_name)"
   ]
  },
  {
   "cell_type": "code",
   "execution_count": 95,
   "metadata": {},
   "outputs": [
    {
     "name": "stderr",
     "output_type": "stream",
     "text": [
      "C:\\Users\\James\\AppData\\Local\\Temp\\ipykernel_27920\\2936833739.py:6: DeprecationWarning: executable_path has been deprecated, please pass in a Service object\n",
      "  driver = webdriver.Chrome('/Users/James/Downloads/chromedriver')\n"
     ]
    },
    {
     "name": "stdout",
     "output_type": "stream",
     "text": [
      "Athlete is faster than segment\n"
     ]
    },
    {
     "data": {
      "image/png": "[encoded data removed]",
      "text/plain": [
       "<Figure size 432x288 with 1 Axes>"
      ]
     },
     "metadata": {
      "needs_background": "light"
     },
     "output_type": "display_data"
    },
    {
     "name": "stdout",
     "output_type": "stream",
     "text": [
      "Athlete pace: 0:02:54.605121 km/s\n",
      "Segment pace: 0:03:04.677419 km/s\n"
     ]
    }
   ],
   "source": [
    "pr = datetime.timedelta(minutes=14,seconds=46)\n",
    "segment_id = \"6105319\"\n",
    "segment_name = \"Claremont Turkey Trot\"\n",
    "get_athlete_v_segment(pr,segment_id,segment_name)"
   ]
  },
  {
   "cell_type": "code",
   "execution_count": null,
   "metadata": {},
   "outputs": [],
   "source": []
  }
 ],
 "metadata": {
  "kernelspec": {
   "display_name": "Python 3",
   "language": "python",
   "name": "python3"
  },
  "language_info": {
   "codemirror_mode": {
    "name": "ipython",
    "version": 3
   },
   "file_extension": ".py",
   "mimetype": "text/x-python",
   "name": "python",
   "nbconvert_exporter": "python",
   "pygments_lexer": "ipython3",
   "version": "3.10.9"
  },
  "orig_nbformat": 4,
  "vscode": {
   "interpreter": {
    "hash": "d34d725948053c7a95e258f944622a02d1a2ae882c5d40870d270a2cf9d8eb9c"
   }
  }
 },
 "nbformat": 4,
 "nbformat_minor": 2
}
