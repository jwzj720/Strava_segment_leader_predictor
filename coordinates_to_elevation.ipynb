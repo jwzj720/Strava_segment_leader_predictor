{
 "cells": [
  {
   "cell_type": "code",
   "execution_count": 2,
   "metadata": {},
   "outputs": [
    {
     "name": "stdout",
     "output_type": "stream",
     "text": [
      "Requirement already satisfied: gpxpy in /Users/wjones/opt/anaconda3/envs/dsa/lib/python3.9/site-packages (1.5.0)\n",
      "Requirement already satisfied: geopy in /Users/wjones/opt/anaconda3/envs/dsa/lib/python3.9/site-packages (2.3.0)\n",
      "Requirement already satisfied: geographiclib<3,>=1.52 in /Users/wjones/opt/anaconda3/envs/dsa/lib/python3.9/site-packages (from geopy) (2.0)\n"
     ]
    }
   ],
   "source": [
    "import scipy as sc\n",
    "import numpy as np\n",
    "!pip install gpxpy\n",
    "import gpxpy\n",
    "import requests\n",
    "import urllib\n",
    "import pandas as pd\n",
    "import math\n",
    "!pip install geopy"
   ]
  },
  {
   "cell_type": "code",
   "execution_count": 3,
   "metadata": {},
   "outputs": [],
   "source": [
    "# points must have elevation data established to call this method\n",
    "from geopy import distance\n",
    "def distanceBetweenPoints(p1, p2):\n",
    "    flat_distance = distance.distance(p1[:2], p2[:2]).km\n",
    "    # print(flat_distance)\n",
    "    euclidian_distance = math.sqrt(flat_distance**2 + (p2[2] - p1[2])**2)\n",
    "    return euclidian_distance"
   ]
  },
  {
   "cell_type": "code",
   "execution_count": 4,
   "metadata": {},
   "outputs": [],
   "source": [
    "# coordinates with known elevation \n",
    "# these are the coordinates we want to get elevations from\n",
    "lat = [48.633, 48.733, 45.1947, 45.1962]\n",
    "lon = [-93.9667, -94.6167, -93.3257, -93.2755]\n",
    "\n",
    "# create data frame\n",
    "df = pd.DataFrame({\n",
    "    'lat': lat,\n",
    "    'lon': lon\n",
    "})"
   ]
  },
  {
   "cell_type": "code",
   "execution_count": 10,
   "metadata": {},
   "outputs": [
    {
     "data": {
      "text/html": [
       "<div>\n",
       "<style scoped>\n",
       "    .dataframe tbody tr th:only-of-type {\n",
       "        vertical-align: middle;\n",
       "    }\n",
       "\n",
       "    .dataframe tbody tr th {\n",
       "        vertical-align: top;\n",
       "    }\n",
       "\n",
       "    .dataframe thead th {\n",
       "        text-align: right;\n",
       "    }\n",
       "</style>\n",
       "<table border=\"1\" class=\"dataframe\">\n",
       "  <thead>\n",
       "    <tr style=\"text-align: right;\">\n",
       "      <th></th>\n",
       "      <th>lat</th>\n",
       "      <th>lon</th>\n",
       "      <th>elev_meters</th>\n",
       "    </tr>\n",
       "  </thead>\n",
       "  <tbody>\n",
       "    <tr>\n",
       "      <th>0</th>\n",
       "      <td>48.6330</td>\n",
       "      <td>-93.9667</td>\n",
       "      <td>341.14</td>\n",
       "    </tr>\n",
       "    <tr>\n",
       "      <th>1</th>\n",
       "      <td>48.7330</td>\n",
       "      <td>-94.6167</td>\n",
       "      <td>328.80</td>\n",
       "    </tr>\n",
       "    <tr>\n",
       "      <th>2</th>\n",
       "      <td>45.1947</td>\n",
       "      <td>-93.3257</td>\n",
       "      <td>262.68</td>\n",
       "    </tr>\n",
       "    <tr>\n",
       "      <th>3</th>\n",
       "      <td>45.1962</td>\n",
       "      <td>-93.2755</td>\n",
       "      <td>272.64</td>\n",
       "    </tr>\n",
       "  </tbody>\n",
       "</table>\n",
       "</div>"
      ],
      "text/plain": [
       "       lat      lon  elev_meters\n",
       "0  48.6330 -93.9667       341.14\n",
       "1  48.7330 -94.6167       328.80\n",
       "2  45.1947 -93.3257       262.68\n",
       "3  45.1962 -93.2755       272.64"
      ]
     },
     "execution_count": 10,
     "metadata": {},
     "output_type": "execute_result"
    }
   ],
   "source": [
    "\n",
    "\n",
    "# USGS Elevation Point Query Service\n",
    "url = r'https://nationalmap.gov/epqs/pqs.php?'\n",
    "\n",
    "\n",
    "\n",
    "def elevation_function(df, lat_column, lon_column):\n",
    "    \"\"\"Query service using lat, lon. add the elevation values as a new column.\"\"\"\n",
    "    elevations = []\n",
    "    for lat, lon in zip(df[lat_column], df[lon_column]):\n",
    "\n",
    "        # define rest query params\n",
    "        params = {\n",
    "            'output': 'json',\n",
    "            'x': lon,\n",
    "            'y': lat,\n",
    "            'units': 'Meters'\n",
    "        }\n",
    "\n",
    "        # format query string and return query value\n",
    "        result = requests.get((url + urllib.parse.urlencode(params)))\n",
    "        elevations.append(result.json()['USGS_Elevation_Point_Query_Service']['Elevation_Query']['Elevation'])        \n",
    "\n",
    "    df['elev_meters'] = elevations\n",
    "\n",
    "elevation_function(df, 'lat', 'lon')\n",
    "df.head()"
   ]
  },
  {
   "cell_type": "code",
   "execution_count": 15,
   "metadata": {},
   "outputs": [
    {
     "name": "stdout",
     "output_type": "stream",
     "text": [
      "(0, 48.633, -93.9667, 341.14)\n",
      "(1, 48.733, -94.6167, 328.8)\n",
      "(2, 45.1947, -93.3257, 262.68)\n",
      "(3, 45.1962, -93.2755, 272.64)\n"
     ]
    }
   ],
   "source": [
    "# list of point objects\n",
    "points = df.to_records()\n",
    "for p in points:\n",
    "    print(p)"
   ]
  },
  {
   "cell_type": "code",
   "execution_count": 14,
   "metadata": {},
   "outputs": [
    {
     "ename": "IndexError",
     "evalue": "too many indices for array: array is 0-dimensional, but 1 were indexed",
     "output_type": "error",
     "traceback": [
      "\u001b[0;31m---------------------------------------------------------------------------\u001b[0m",
      "\u001b[0;31mIndexError\u001b[0m                                Traceback (most recent call last)",
      "Cell \u001b[0;32mIn[14], line 5\u001b[0m\n\u001b[1;32m      3\u001b[0m p2 \u001b[39m=\u001b[39m points[\u001b[39m1\u001b[39m]\n\u001b[1;32m      4\u001b[0m \u001b[39mfor\u001b[39;00m p \u001b[39min\u001b[39;00m points:\n\u001b[0;32m----> 5\u001b[0m     distances\u001b[39m.\u001b[39mappend(distanceBetweenPoints(p1, p2))\n\u001b[1;32m      6\u001b[0m     p1 \u001b[39m=\u001b[39m p2\n\u001b[1;32m      7\u001b[0m     p2 \u001b[39m=\u001b[39m p\n",
      "Cell \u001b[0;32mIn[3], line 4\u001b[0m, in \u001b[0;36mdistanceBetweenPoints\u001b[0;34m(p1, p2)\u001b[0m\n\u001b[1;32m      3\u001b[0m \u001b[39mdef\u001b[39;00m \u001b[39mdistanceBetweenPoints\u001b[39m(p1, p2):\n\u001b[0;32m----> 4\u001b[0m     flat_distance \u001b[39m=\u001b[39m distance\u001b[39m.\u001b[39mdistance(p1[:\u001b[39m2\u001b[39;49m], p2[:\u001b[39m2\u001b[39m])\u001b[39m.\u001b[39mkm\n\u001b[1;32m      5\u001b[0m     \u001b[39m# print(flat_distance)\u001b[39;00m\n\u001b[1;32m      6\u001b[0m     euclidian_distance \u001b[39m=\u001b[39m math\u001b[39m.\u001b[39msqrt(flat_distance\u001b[39m*\u001b[39m\u001b[39m*\u001b[39m\u001b[39m2\u001b[39m \u001b[39m+\u001b[39m (p2[\u001b[39m2\u001b[39m] \u001b[39m-\u001b[39m p1[\u001b[39m2\u001b[39m])\u001b[39m*\u001b[39m\u001b[39m*\u001b[39m\u001b[39m2\u001b[39m)\n",
      "File \u001b[0;32m~/opt/anaconda3/envs/dsa/lib/python3.9/site-packages/numpy/core/records.py:282\u001b[0m, in \u001b[0;36mrecord.__getitem__\u001b[0;34m(self, indx)\u001b[0m\n\u001b[1;32m    281\u001b[0m \u001b[39mdef\u001b[39;00m \u001b[39m__getitem__\u001b[39m(\u001b[39mself\u001b[39m, indx):\n\u001b[0;32m--> 282\u001b[0m     obj \u001b[39m=\u001b[39m nt\u001b[39m.\u001b[39;49mvoid\u001b[39m.\u001b[39;49m\u001b[39m__getitem__\u001b[39;49m(\u001b[39mself\u001b[39;49m, indx)\n\u001b[1;32m    284\u001b[0m     \u001b[39m# copy behavior of record.__getattribute__,\u001b[39;00m\n\u001b[1;32m    285\u001b[0m     \u001b[39mif\u001b[39;00m \u001b[39misinstance\u001b[39m(obj, nt\u001b[39m.\u001b[39mvoid) \u001b[39mand\u001b[39;00m obj\u001b[39m.\u001b[39mdtype\u001b[39m.\u001b[39mnames \u001b[39mis\u001b[39;00m \u001b[39mnot\u001b[39;00m \u001b[39mNone\u001b[39;00m:\n",
      "\u001b[0;31mIndexError\u001b[0m: too many indices for array: array is 0-dimensional, but 1 were indexed"
     ]
    }
   ],
   "source": [
    "distances = []\n",
    "p1 = points[0]\n",
    "p2 = points[1]\n",
    "for p in points:\n",
    "    distances.append(distanceBetweenPoints(p1, p2))\n",
    "    p1 = p2\n",
    "    p2 = p"
   ]
  },
  {
   "cell_type": "code",
   "execution_count": null,
   "metadata": {},
   "outputs": [],
   "source": []
  }
 ],
 "metadata": {
  "kernelspec": {
   "display_name": "dsa",
   "language": "python",
   "name": "python3"
  },
  "language_info": {
   "codemirror_mode": {
    "name": "ipython",
    "version": 3
   },
   "file_extension": ".py",
   "mimetype": "text/x-python",
   "name": "python",
   "nbconvert_exporter": "python",
   "pygments_lexer": "ipython3",
   "version": "3.9.15"
  },
  "orig_nbformat": 4,
  "vscode": {
   "interpreter": {
    "hash": "60a029060c274fe779a2fcc7bb51dacc2ea85f5b99cbc3686fa63f7965c9aff9"
   }
  }
 },
 "nbformat": 4,
 "nbformat_minor": 2
}
