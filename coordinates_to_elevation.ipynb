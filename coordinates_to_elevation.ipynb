{
 "cells": [
  {
   "cell_type": "code",
   "execution_count": 22,
   "metadata": {},
   "outputs": [
    {
     "name": "stdout",
     "output_type": "stream",
     "text": [
      "Requirement already satisfied: gpxpy in /Users/wjones/opt/anaconda3/envs/dsa/lib/python3.9/site-packages (1.5.0)\n",
      "Requirement already satisfied: geopy in /Users/wjones/opt/anaconda3/envs/dsa/lib/python3.9/site-packages (2.3.0)\n",
      "Requirement already satisfied: geographiclib<3,>=1.52 in /Users/wjones/opt/anaconda3/envs/dsa/lib/python3.9/site-packages (from geopy) (2.0)\n"
     ]
    }
   ],
   "source": [
    "import scipy as sc\n",
    "import numpy as np\n",
    "!pip install gpxpy\n",
    "import gpxpy\n",
    "import requests\n",
    "import urllib\n",
    "import pandas as pd\n",
    "import math\n",
    "!pip install geopy"
   ]
  },
  {
   "cell_type": "code",
   "execution_count": 23,
   "metadata": {},
   "outputs": [],
   "source": [
    "# points must have elevation data established to call this method\n",
    "from geopy import distance\n",
    "def distanceBetweenPoints(p1, p2):\n",
    "    flat_distance = distance.distance(p1[:2], p2[:2]).km\n",
    "    # print(flat_distance)\n",
    "    euclidian_distance = math.sqrt(flat_distance**2 + (p2[2] - p1[2])**2)\n",
    "    return euclidian_distance"
   ]
  },
  {
   "cell_type": "code",
   "execution_count": 24,
   "metadata": {},
   "outputs": [],
   "source": [
    "# coordinates with known elevation \n",
    "# these are the coordinates we want to get elevations from\n",
    "lat = [48.633, 48.733, 45.1947, 45.1962]\n",
    "lon = [-93.9667, -94.6167, -93.3257, -93.2755]\n",
    "\n",
    "# create data frame\n",
    "df = pd.DataFrame({\n",
    "    'lat': lat,\n",
    "    'lon': lon\n",
    "})"
   ]
  },
  {
   "cell_type": "code",
   "execution_count": 25,
   "metadata": {},
   "outputs": [
    {
     "data": {
      "text/html": [
       "<div>\n",
       "<style scoped>\n",
       "    .dataframe tbody tr th:only-of-type {\n",
       "        vertical-align: middle;\n",
       "    }\n",
       "\n",
       "    .dataframe tbody tr th {\n",
       "        vertical-align: top;\n",
       "    }\n",
       "\n",
       "    .dataframe thead th {\n",
       "        text-align: right;\n",
       "    }\n",
       "</style>\n",
       "<table border=\"1\" class=\"dataframe\">\n",
       "  <thead>\n",
       "    <tr style=\"text-align: right;\">\n",
       "      <th></th>\n",
       "      <th>lat</th>\n",
       "      <th>lon</th>\n",
       "      <th>elev_meters</th>\n",
       "    </tr>\n",
       "  </thead>\n",
       "  <tbody>\n",
       "    <tr>\n",
       "      <th>0</th>\n",
       "      <td>48.6330</td>\n",
       "      <td>-93.9667</td>\n",
       "      <td>341.14</td>\n",
       "    </tr>\n",
       "    <tr>\n",
       "      <th>1</th>\n",
       "      <td>48.7330</td>\n",
       "      <td>-94.6167</td>\n",
       "      <td>328.80</td>\n",
       "    </tr>\n",
       "    <tr>\n",
       "      <th>2</th>\n",
       "      <td>45.1947</td>\n",
       "      <td>-93.3257</td>\n",
       "      <td>262.68</td>\n",
       "    </tr>\n",
       "    <tr>\n",
       "      <th>3</th>\n",
       "      <td>45.1962</td>\n",
       "      <td>-93.2755</td>\n",
       "      <td>272.64</td>\n",
       "    </tr>\n",
       "  </tbody>\n",
       "</table>\n",
       "</div>"
      ],
      "text/plain": [
       "       lat      lon  elev_meters\n",
       "0  48.6330 -93.9667       341.14\n",
       "1  48.7330 -94.6167       328.80\n",
       "2  45.1947 -93.3257       262.68\n",
       "3  45.1962 -93.2755       272.64"
      ]
     },
     "execution_count": 25,
     "metadata": {},
     "output_type": "execute_result"
    }
   ],
   "source": [
    "\n",
    "\n",
    "# USGS Elevation Point Query Service\n",
    "url = r'https://nationalmap.gov/epqs/pqs.php?'\n",
    "\n",
    "\n",
    "\n",
    "def elevation_function(df, lat_column, lon_column):\n",
    "    \"\"\"Query service using lat, lon. add the elevation values as a new column.\"\"\"\n",
    "    elevations = []\n",
    "    for lat, lon in zip(df[lat_column], df[lon_column]):\n",
    "\n",
    "        # define rest query params\n",
    "        params = {\n",
    "            'output': 'json',\n",
    "            'x': lon,\n",
    "            'y': lat,\n",
    "            'units': 'Meters'\n",
    "        }\n",
    "\n",
    "        # format query string and return query value\n",
    "        result = requests.get((url + urllib.parse.urlencode(params)))\n",
    "        elevations.append(result.json()['USGS_Elevation_Point_Query_Service']['Elevation_Query']['Elevation'])        \n",
    "\n",
    "    df['elev_meters'] = elevations\n",
    "\n",
    "elevation_function(df, 'lat', 'lon')\n",
    "df.head()"
   ]
  },
  {
   "cell_type": "code",
   "execution_count": 30,
   "metadata": {},
   "outputs": [],
   "source": [
    "# list of point objects\n",
    "pointsArr = df.to_records()\n",
    "pointsList = []\n",
    "for p in pointsArr:\n",
    "    newPoint = (p.lat, p.lon, p.elev_meters)\n",
    "    pointsList.append(newPoint)"
   ]
  },
  {
   "cell_type": "code",
   "execution_count": 32,
   "metadata": {},
   "outputs": [
    {
     "data": {
      "text/html": [
       "<div>\n",
       "<style scoped>\n",
       "    .dataframe tbody tr th:only-of-type {\n",
       "        vertical-align: middle;\n",
       "    }\n",
       "\n",
       "    .dataframe tbody tr th {\n",
       "        vertical-align: top;\n",
       "    }\n",
       "\n",
       "    .dataframe thead th {\n",
       "        text-align: right;\n",
       "    }\n",
       "</style>\n",
       "<table border=\"1\" class=\"dataframe\">\n",
       "  <thead>\n",
       "    <tr style=\"text-align: right;\">\n",
       "      <th></th>\n",
       "      <th>lat</th>\n",
       "      <th>lon</th>\n",
       "      <th>elev_meters</th>\n",
       "      <th>distance</th>\n",
       "    </tr>\n",
       "  </thead>\n",
       "  <tbody>\n",
       "    <tr>\n",
       "      <th>0</th>\n",
       "      <td>48.6330</td>\n",
       "      <td>-93.9667</td>\n",
       "      <td>341.14</td>\n",
       "      <td>0.000000</td>\n",
       "    </tr>\n",
       "    <tr>\n",
       "      <th>1</th>\n",
       "      <td>48.7330</td>\n",
       "      <td>-94.6167</td>\n",
       "      <td>328.80</td>\n",
       "      <td>50.663258</td>\n",
       "    </tr>\n",
       "    <tr>\n",
       "      <th>2</th>\n",
       "      <td>45.1947</td>\n",
       "      <td>-93.3257</td>\n",
       "      <td>262.68</td>\n",
       "      <td>410.778145</td>\n",
       "    </tr>\n",
       "    <tr>\n",
       "      <th>3</th>\n",
       "      <td>45.1962</td>\n",
       "      <td>-93.2755</td>\n",
       "      <td>272.64</td>\n",
       "      <td>10.713986</td>\n",
       "    </tr>\n",
       "  </tbody>\n",
       "</table>\n",
       "</div>"
      ],
      "text/plain": [
       "       lat      lon  elev_meters    distance\n",
       "0  48.6330 -93.9667       341.14    0.000000\n",
       "1  48.7330 -94.6167       328.80   50.663258\n",
       "2  45.1947 -93.3257       262.68  410.778145\n",
       "3  45.1962 -93.2755       272.64   10.713986"
      ]
     },
     "execution_count": 32,
     "metadata": {},
     "output_type": "execute_result"
    }
   ],
   "source": [
    "\n",
    "last_element = None\n",
    "distances = []\n",
    "for p in pointsList:\n",
    "    if last_element is not None:\n",
    "        d = distanceBetweenPoints(last_element, p)\n",
    "        distances.append(d)\n",
    "    else:\n",
    "        distances.append(0)\n",
    "    last_element = p\n",
    "df['distance'] = distances\n",
    "#print(distances)\n",
    "df.head()"
   ]
  },
  {
   "cell_type": "code",
   "execution_count": null,
   "metadata": {},
   "outputs": [],
   "source": []
  }
 ],
 "metadata": {
  "kernelspec": {
   "display_name": "dsa",
   "language": "python",
   "name": "python3"
  },
  "language_info": {
   "codemirror_mode": {
    "name": "ipython",
    "version": 3
   },
   "file_extension": ".py",
   "mimetype": "text/x-python",
   "name": "python",
   "nbconvert_exporter": "python",
   "pygments_lexer": "ipython3",
   "version": "3.9.15"
  },
  "orig_nbformat": 4,
  "vscode": {
   "interpreter": {
    "hash": "60a029060c274fe779a2fcc7bb51dacc2ea85f5b99cbc3686fa63f7965c9aff9"
   }
  }
 },
 "nbformat": 4,
 "nbformat_minor": 2
}
