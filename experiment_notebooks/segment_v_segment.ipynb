{
 "cells": [
  {
   "cell_type": "code",
   "execution_count": 497,
   "metadata": {},
   "outputs": [
    {
     "name": "stdout",
     "output_type": "stream",
     "text": [
      "Requirement already satisfied: fit2gpx in /Users/wjones/opt/anaconda3/envs/dsa/lib/python3.9/site-packages (0.0.6)\n",
      "Requirement already satisfied: pandas in /Users/wjones/opt/anaconda3/envs/dsa/lib/python3.9/site-packages (from fit2gpx) (1.5.2)\n",
      "Requirement already satisfied: fitdecode in /Users/wjones/opt/anaconda3/envs/dsa/lib/python3.9/site-packages (from fit2gpx) (0.10.0)\n",
      "Requirement already satisfied: gpxpy in /Users/wjones/opt/anaconda3/envs/dsa/lib/python3.9/site-packages (from fit2gpx) (1.5.0)\n",
      "Requirement already satisfied: python-dateutil>=2.8.1 in /Users/wjones/opt/anaconda3/envs/dsa/lib/python3.9/site-packages (from pandas->fit2gpx) (2.8.2)\n",
      "Requirement already satisfied: pytz>=2020.1 in /Users/wjones/opt/anaconda3/envs/dsa/lib/python3.9/site-packages (from pandas->fit2gpx) (2022.1)\n",
      "Requirement already satisfied: numpy>=1.20.3 in /Users/wjones/opt/anaconda3/envs/dsa/lib/python3.9/site-packages (from pandas->fit2gpx) (1.23.4)\n",
      "Requirement already satisfied: six>=1.5 in /Users/wjones/opt/anaconda3/envs/dsa/lib/python3.9/site-packages (from python-dateutil>=2.8.1->pandas->fit2gpx) (1.16.0)\n"
     ]
    }
   ],
   "source": [
    "import scipy as sc\n",
    "import numpy as np\n",
    "#!pip install gpxpy\n",
    "import gpxpy\n",
    "from geopy import distance\n",
    "import json\n",
    "import pandas as pd\n",
    "import math\n",
    "!pip install fit2gpx\n",
    "from fit2gpx import Converter"
   ]
  },
  {
   "attachments": {},
   "cell_type": "markdown",
   "metadata": {},
   "source": [
    "# Putting it all together:"
   ]
  },
  {
   "attachments": {},
   "cell_type": "markdown",
   "metadata": {},
   "source": [
    "1. read gpx file(s) into an array with elevations and coordinates\n",
    "2. read segement data into array with elevations and coordinates\n",
    "3. get total distance and total elevation difference from segment\n",
    "4. sweep through gpx arrays to find sections that roughly fit the segment\n",
    "5. calculate elapsed times for those sections\n",
    "6. use DTW to see if segments are actually similar\n",
    "    - if they are, compare times.\n",
    "\n",
    "- Thought - skip the prelim data sweep and just use DTW"
   ]
  },
  {
   "cell_type": "code",
   "execution_count": 498,
   "metadata": {},
   "outputs": [],
   "source": [
    "def dtw(s, t, window):\n",
    "    n, m = len(s), len(t)\n",
    "    w = np.max([window, abs(n-m)])\n",
    "    dtw_matrix = np.zeros((n+1, m+1))\n",
    "    \n",
    "    for i in range(n+1):\n",
    "        for j in range(m+1):\n",
    "            dtw_matrix[i, j] = np.inf\n",
    "    dtw_matrix[0, 0] = 0\n",
    "    \n",
    "    for i in range(1, n+1):\n",
    "        for j in range(np.max([1, i-w]), np.min([m, i+w])+1):\n",
    "            dtw_matrix[i, j] = 0\n",
    "    \n",
    "    for i in range(1, n+1):\n",
    "        for j in range(np.max([1, i-w]), np.min([m, i+w])+1):\n",
    "            cost = abs(s[i-1] - t[j-1])\n",
    "            #print(cost)\n",
    "            # take last min from a square box\n",
    "            prev_min = np.min([dtw_matrix[i-1, j], dtw_matrix[i, j-1], dtw_matrix[i-1, j-1]])\n",
    "            dtw_matrix[i, j] = cost + prev_min\n",
    "    return dtw_matrix"
   ]
  },
  {
   "cell_type": "code",
   "execution_count": 499,
   "metadata": {},
   "outputs": [],
   "source": [
    "def dtw(s, t):\n",
    "    n, m = len(s), len(t)\n",
    "    dtw_matrix = np.zeros((n+1, m+1))\n",
    "    for i in range(n+1):\n",
    "        for j in range(m+1):\n",
    "            dtw_matrix[i, j] = np.inf\n",
    "    dtw_matrix[0, 0] = 0\n",
    "    \n",
    "    for i in range(1, n+1):\n",
    "        for j in range(1, m+1):\n",
    "            cost = abs(s[i-1] - t[j-1])\n",
    "            # take last min from a square box\n",
    "            prev_min = np.min([dtw_matrix[i-1, j], dtw_matrix[i, j-1], dtw_matrix[i-1, j-1]])\n",
    "            dtw_matrix[i, j] = cost + prev_min\n",
    "    return dtw_matrix"
   ]
  },
  {
   "cell_type": "code",
   "execution_count": 500,
   "metadata": {},
   "outputs": [],
   "source": [
    "from geopy import distance\n",
    "import math\n",
    "# method to calculate distances between point\n",
    "def distanceBetweenPoints(p1, p2):\n",
    "    flat_distance = distance.distance(p1[:2], p2[:2]).m\n",
    "    # print(flat_distance)\n",
    "    euclidian_distance = math.sqrt(flat_distance**2 + (p2[2] - p1[2])**2)\n",
    "    return euclidian_distance"
   ]
  },
  {
   "cell_type": "code",
   "execution_count": 501,
   "metadata": {},
   "outputs": [],
   "source": [
    "from geopy import Point\n",
    "import math\n",
    "# method to make GPX file into array of elevations, times, distances\n",
    "def file_to_elevation_arr(fileName):\n",
    "        gpx_file = open(fileName, 'r')\n",
    "        gpx = gpxpy.parse(gpx_file)\n",
    "        elevevation_time_and_distance = []\n",
    "        pointOne = None\n",
    "        for track in gpx.tracks:\n",
    "            for segment in track.segments:\n",
    "                for point in segment.points:\n",
    "                    pointTwo = point\n",
    "                    distance = 0\n",
    "                    if pointOne:\n",
    "                        p1 = Point([pointOne.latitude, pointOne.longitude, pointOne.elevation])\n",
    "                        p2 = Point([pointTwo.latitude, pointTwo.longitude, pointTwo.elevation])\n",
    "                        distance = distanceBetweenPoints(p1, p2)\n",
    "                    pointOne = point\n",
    "                    #print('Point at ({0},{1}) -> {2}'.format(point.latitude, point.longitude, point.elevation))\n",
    "                    elevevation_time_and_distance.append((point.elevation,point.time, distance))\n",
    "        return elevevation_time_and_distance"
   ]
  },
  {
   "cell_type": "code",
   "execution_count": 502,
   "metadata": {},
   "outputs": [],
   "source": [
    "fileOne = \"data/Walt's Strava/activities/5378707142.gpx\"\n",
    "fileTwo  = \"data/Walt's Strava/activities/4812864781.gpx\""
   ]
  },
  {
   "cell_type": "code",
   "execution_count": 503,
   "metadata": {},
   "outputs": [],
   "source": [
    "arrOne = file_to_elevation_arr(fileOne)\n",
    "arrTwo = file_to_elevation_arr(fileTwo)"
   ]
  },
  {
   "cell_type": "code",
   "execution_count": 504,
   "metadata": {},
   "outputs": [],
   "source": [
    "segment = \"data/Elevation JSON/segment_location_data_elevation_0.json\""
   ]
  },
  {
   "cell_type": "code",
   "execution_count": 505,
   "metadata": {},
   "outputs": [],
   "source": [
    "def dataframe_segment_to_list(df):\n",
    "    sg =[]\n",
    "    # Iterate over each row\n",
    "    for index, rows in df.iterrows():\n",
    "        # Create list for the current row\n",
    "        my_list =[rows[2], rows[3]]\n",
    "        #print(my_list)\n",
    "        \n",
    "        # append the list to the final list\n",
    "        sg.append(my_list)\n",
    "    return sg\n",
    "  "
   ]
  },
  {
   "cell_type": "code",
   "execution_count": 506,
   "metadata": {},
   "outputs": [],
   "source": [
    "#print(segment_data)\n",
    "def total_segment_elevation(segment_data):\n",
    "    total_elev = segment_data[len(segment_data)-1][0] - segment_data[0][0]\n",
    "    return total_elev\n",
    "\n",
    "def total_segment_distance(segment_data):\n",
    "    total_distance = 0\n",
    "    for i in segment_data:\n",
    "        total_distance += i[1].item()\n",
    "    return total_distance"
   ]
  },
  {
   "cell_type": "code",
   "execution_count": 507,
   "metadata": {},
   "outputs": [],
   "source": [
    "def sweep_user_activity_old(user_data, segement_data, x):\n",
    "    list_of_matches = [] # list of lists\n",
    "\n",
    "    seg_distance = total_segment_distance(segement_data)\n",
    "\n",
    "    #print(seg_distance)\n",
    "    seg_elevation = total_segment_elevation(segement_data)\n",
    "    #print(seg_elevation)\n",
    "    \n",
    "    user_distance = 0\n",
    "    user_elev = user_data[0][0]\n",
    "    user_start_elev = user_data[0][0]\n",
    "    first_window = 0\n",
    "    while user_distance < seg_distance and first_window < len(user_data):\n",
    "        # until we get to the window \n",
    "        user_elev = user_data[first_window][0]-user_start_elev\n",
    "        user_distance += user_data[first_window][2]\n",
    "        first_window += 1\n",
    "    delta_distance = user_distance - user_data[0][2]\n",
    "    # now we have the window, so we need to iterate through and see if the profiles match\n",
    "    second_window = 0\n",
    "    second_distance = 0\n",
    "    user_elev_two = user_data[0][0]\n",
    "    while user_distance < user_data[-1][2] and first_window < len(user_data):\n",
    "        user_elev_two = user_data[first_window][0]\n",
    "        user_elev = user_data[second_window][0]\n",
    "        if user_elev_two - user_elev > seg_elevation-5 and  user_elev_two - user_elev < seg_elevation+5:\n",
    "            list_of_matches.append(user_data[second_window:first_window])\n",
    "            #print(first_window, second_window)\n",
    "            # add match to list\n",
    "        user_distance += user_data[first_window][2]\n",
    "        second_distance += user_data[second_window][2]\n",
    "        first_window +=1\n",
    "        second_window +=1\n",
    "    return list_of_matches\n",
    "\n",
    "\n"
   ]
  },
  {
   "cell_type": "code",
   "execution_count": 508,
   "metadata": {},
   "outputs": [],
   "source": [
    "# What does this need to do?\n",
    "# Go to segment distance, when the segment distance matches the user window, compare elevations\n",
    "def sweep_user_activity(user_data, segement_data, window):\n",
    "    list_of_matches = [] # list of lists\n",
    "    seg_distance = total_segment_distance(segement_data) # total segment distance\n",
    "    seg_elevation = total_segment_elevation(segement_data) # total segment elevation\n",
    "    \n",
    "    # go to the correct distance in user\n",
    "    user_distance = 0\n",
    "    user_elev = user_data[0][0]\n",
    "    user_start_elev = user_data[0][0]\n",
    "    first_window = 0\n",
    "    while user_distance < seg_distance and first_window < len(user_data):\n",
    "        user_elev = user_data[first_window][0]-user_start_elev\n",
    "        user_distance += user_data[first_window][2]\n",
    "        first_window+=1\n",
    "    second_window = 0 \n",
    "    second_distance = 0\n",
    "    while first_window < len(user_data)-1: \n",
    "        while user_distance-second_distance < seg_distance and first_window < len(user_data)-1:\n",
    "            user_distance += user_data[first_window][2]\n",
    "            first_window+=1\n",
    "        user_elev_two = user_data[first_window][0]\n",
    "        user_elev = user_data[second_window][0]\n",
    "        second_distance += user_data[second_window][2]\n",
    "        if first_window % 100 == 0:\n",
    "            if user_elev_two - user_elev > seg_elevation-window and  user_elev_two - user_elev < seg_elevation+window:\n",
    "                list_of_matches.append(user_data[second_window:first_window])\n",
    "        second_window+= 1\n",
    "    return list_of_matches\n",
    "        \n"
   ]
  },
  {
   "cell_type": "code",
   "execution_count": 509,
   "metadata": {},
   "outputs": [],
   "source": [
    "def sweep_user_activity_old(user_data, segement_data, window):\n",
    "    list_of_matches = [] # list of lists\n",
    "    seg_distance = total_segment_distance(segement_data) # total segment distance\n",
    "    seg_elevation = total_segment_elevation(segement_data) # total segment elevation\n",
    "    \n",
    "    # go to the correct distance in user\n",
    "    user_distance = 0\n",
    "    user_elev = user_data[0][0]\n",
    "    user_start_elev = user_data[0][0]\n",
    "    first_window = 0\n",
    "    while user_distance < seg_distance and first_window < len(user_data):\n",
    "        user_elev = user_data[first_window][0]-user_start_elev\n",
    "        user_distance += user_data[first_window][2]\n",
    "        first_window+=1\n",
    "    "
   ]
  },
  {
   "cell_type": "code",
   "execution_count": 510,
   "metadata": {},
   "outputs": [],
   "source": [
    "def read_segment(segmentFile):\n",
    "    segment = segmentFile\n",
    "    df = pd.read_json(segment)\n",
    "    df.head()\n",
    "    seg = dataframe_segment_to_list(df)\n",
    "    return seg"
   ]
  },
  {
   "cell_type": "code",
   "execution_count": 511,
   "metadata": {},
   "outputs": [],
   "source": [
    "claremont_turkey_trot = read_segment('data/Elevation JSON/segment_location_data_elevation_0.json')\n"
   ]
  },
  {
   "cell_type": "code",
   "execution_count": 512,
   "metadata": {},
   "outputs": [],
   "source": [
    "#print(arr[0])"
   ]
  },
  {
   "cell_type": "code",
   "execution_count": 513,
   "metadata": {},
   "outputs": [],
   "source": [
    "import matplotlib.pyplot as plt\n",
    "    "
   ]
  },
  {
   "cell_type": "code",
   "execution_count": 514,
   "metadata": {},
   "outputs": [],
   "source": [
    "import numpy as np\n",
    "import matplotlib.pyplot as plt\n",
    "def graphing(user, segment):\n",
    "    total_user_distance = 0\n",
    "    total_segment_distance1 = 0\n",
    "    user_start_elev = user[0][0]\n",
    "    segment_start_elev = segment[0][0]\n",
    "    user_dtw_list = []\n",
    "    segment_dtw_list = []\n",
    "    user_dtw_distance = []\n",
    "    seg_dtw_distance = []\n",
    "    for i in range(len(user)):\n",
    "        total_user_distance += user[i][2]\n",
    "        user_dtw_distance.append(total_user_distance)\n",
    "        user_dtw_list.append(user[i][0]-user_start_elev)\n",
    "        #plt.scatter(total_user_distance, user[i][0])\n",
    "        #print(arr[0][i][0])\n",
    "    for j in range (len(segment)):\n",
    "         total_segment_distance1 += segment[j][1]\n",
    "         seg_dtw_distance.append(total_segment_distance1)\n",
    "         segment_dtw_list.append(segment[j][0]-segment_start_elev)\n",
    "         #plt.scatter(total_segment_distance1, segment[j][0])\n",
    "    #plt.draw()\n",
    "    return ((user_dtw_list,user_dtw_distance), (segment_dtw_list,seg_dtw_distance))"
   ]
  },
  {
   "cell_type": "code",
   "execution_count": 515,
   "metadata": {},
   "outputs": [],
   "source": [
    "from scipy.interpolate import interp1d\n",
    "import numpy as np\n",
    "# this is to correct the length of the segment for use in better DTW algorithms, like \n",
    "# the ones I have imported. My implementation does mot require this. \n",
    "def correct_segment(l):\n",
    "    #l = graphing(arr[0], claremont_turkey_trot) #(elev, distance), (elev, distance)\n",
    "    #print(l[0][1])\n",
    "    #plt.plot(l[0][1],l[0][0],'o')\n",
    "    f = interp1d(l[1][1],l[1][0], kind='cubic')\n",
    "    segment_corrected_length = []\n",
    "    desired_length = len(l[0][0])\n",
    "    divided = l[1][1][-1]//desired_length\n",
    "    for i in range(desired_length-1):\n",
    "        segment_corrected_length.append(f(i*divided))\n",
    "    #plt.plot(l[1][1], f(l[1][1]), '-')\n",
    "    #plt.show()\n",
    "    return segment_corrected_length\n"
   ]
  },
  {
   "cell_type": "code",
   "execution_count": 516,
   "metadata": {},
   "outputs": [],
   "source": [
    "from scipy.interpolate import interp1d\n",
    "import numpy as np\n",
    "#!pip install dtaidistance\n",
    "#from dtaidistance import dtw\n",
    "#from dtaidistance import dtw_visualisation as dtwvis\n",
    "#l = graphing(arr[0], claremont_turkey_trot)\n",
    "def DTW_comparison(user, segment):\n",
    "    distances = []\n",
    "    user_times = []\n",
    "    d_t = []\n",
    "    for pot in range(len(user)-1):\n",
    "        t1 = user[pot][0][1]\n",
    "        t2 = user[pot][-1][1]\n",
    "        #print(t1)\n",
    "        user_times.append((t2-t1).total_seconds())\n",
    "        l = graphing(user[pot], segment) #(elev, distance), (elev, distance)\n",
    "        first = l[0][0]\n",
    "        second = l[1][0]\n",
    "        #f2 = interp1d(l[0][0], l[0][1], kind='cubic')\n",
    "        tempDTW = dtw(first, second)\n",
    "        distances.append(tempDTW[-1][-1])\n",
    "        #distances.append(dtw.distance(first, second))\n",
    "\n",
    "    \n",
    "    for d in range(len(distances)):\n",
    "        d_t.append((distances[d],user_times[d]))\n",
    "    return d_t\n",
    "    \n"
   ]
  },
  {
   "attachments": {},
   "cell_type": "markdown",
   "metadata": {},
   "source": [
    "[(20697.829999999834, 1682.0), (20697.829999999834, 1681.0)]"
   ]
  },
  {
   "cell_type": "code",
   "execution_count": 517,
   "metadata": {},
   "outputs": [],
   "source": [
    "#DTW_comparison(arr, claremont_turkey_trot)"
   ]
  },
  {
   "cell_type": "code",
   "execution_count": 518,
   "metadata": {},
   "outputs": [],
   "source": [
    "#!pip install dtaidistance\n",
    "#from dtaidistance import dtw\n",
    "#from dtaidistance import dtw_visualisation as dtwvis\n",
    "#s = correct_segment(l)\n",
    "#path = dtw.warping_path(l[0][0], s)\n",
    "#dtwvis.plot_warping(l[0][0], s, path, filename=\"warp.png\")\n",
    "#distance = dtw.distance(l[0][0], s)"
   ]
  },
  {
   "cell_type": "code",
   "execution_count": 519,
   "metadata": {},
   "outputs": [],
   "source": [
    "conv = Converter() \n",
    "def fit_to_gpx(fileDirectory):\n",
    "    conv.fit_to_gpx_bulk(dir_in=fileDirectory, dir_out='data/User')\n",
    "\n"
   ]
  },
  {
   "cell_type": "code",
   "execution_count": 520,
   "metadata": {},
   "outputs": [],
   "source": [
    "#fit_to_gpx('data/james_activities')"
   ]
  },
  {
   "cell_type": "code",
   "execution_count": 523,
   "metadata": {},
   "outputs": [],
   "source": [
    "import os\n",
    "def compare_user_activities_to_segment(segmentName):\n",
    "    # scrape for segment\n",
    "    data = []\n",
    "    seg = read_segment(segmentName)\n",
    "    # go through user's activities\n",
    "    directory = os.fsencode('/Users/wjones/School/DSA/HunterXKOM/data/Mix_data')    \n",
    "    for file in os.listdir(directory):\n",
    "        filename = os.fsdecode(file)\n",
    "        if filename.endswith(\".gpx\"): \n",
    "            arrOne = file_to_elevation_arr('/Users/wjones/School/DSA/HunterXKOM/data/Mix_data/'+filename)\n",
    "            arr = sweep_user_activity(arrOne, seg, 5)\n",
    "            data += DTW_comparison(arr, seg)\n",
    "        else:\n",
    "            continue\n",
    "    return data"
   ]
  },
  {
   "cell_type": "code",
   "execution_count": 524,
   "metadata": {},
   "outputs": [
    {
     "data": {
      "text/plain": [
       "[(1558.5400000000052, 1378.0),\n",
       " (2373.210000000043, 1719.0),\n",
       " (4469.0300000000125, 1682.0),\n",
       " (2601.7699999999927, 1650.0),\n",
       " (2620.7100000000023, 1613.0),\n",
       " (2919.589999999998, 1590.0),\n",
       " (2839.3200000000134, 1579.0),\n",
       " (2882.2500000000136, 1061.0),\n",
       " (3211.1799999999953, 1062.0),\n",
       " (3249.1099999999938, 1061.0),\n",
       " (2494.5899999999983, 1061.0),\n",
       " (2498.4700000000116, 1061.0),\n",
       " (2665.029999999992, 1061.0),\n",
       " (2936.779999999985, 1062.0),\n",
       " (2649.20000000003, 1077.0),\n",
       " (2739.149999999981, 1095.0),\n",
       " (2879.200000000007, 1093.0),\n",
       " (2879.200000000007, 1092.0),\n",
       " (2656.58000000001, 1068.0),\n",
       " (2646.6600000000058, 1102.0),\n",
       " (2821.209999999996, 1128.0),\n",
       " (2495.5199999999863, 1151.0)]"
      ]
     },
     "execution_count": 524,
     "metadata": {},
     "output_type": "execute_result"
    }
   ],
   "source": [
    "compare_user_activities_to_segment('data/Elevation JSON/segment_location_data_elevation_0.json')"
   ]
  },
  {
   "cell_type": "code",
   "execution_count": null,
   "metadata": {},
   "outputs": [],
   "source": []
  }
 ],
 "metadata": {
  "kernelspec": {
   "display_name": "dsa",
   "language": "python",
   "name": "python3"
  },
  "language_info": {
   "codemirror_mode": {
    "name": "ipython",
    "version": 3
   },
   "file_extension": ".py",
   "mimetype": "text/x-python",
   "name": "python",
   "nbconvert_exporter": "python",
   "pygments_lexer": "ipython3",
   "version": "3.9.15 (main, Nov 24 2022, 08:29:02) \n[Clang 14.0.6 ]"
  },
  "orig_nbformat": 4,
  "vscode": {
   "interpreter": {
    "hash": "60a029060c274fe779a2fcc7bb51dacc2ea85f5b99cbc3686fa63f7965c9aff9"
   }
  }
 },
 "nbformat": 4,
 "nbformat_minor": 2
}
