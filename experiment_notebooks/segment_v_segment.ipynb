{
 "cells": [
  {
   "cell_type": "code",
   "execution_count": 32,
   "metadata": {},
   "outputs": [
    {
     "name": "stdout",
     "output_type": "stream",
     "text": [
      "Requirement already satisfied: fit2gpx in /Users/wjones/opt/anaconda3/envs/dsa/lib/python3.9/site-packages (0.0.6)\n",
      "Requirement already satisfied: fitdecode in /Users/wjones/opt/anaconda3/envs/dsa/lib/python3.9/site-packages (from fit2gpx) (0.10.0)\n",
      "Requirement already satisfied: gpxpy in /Users/wjones/opt/anaconda3/envs/dsa/lib/python3.9/site-packages (from fit2gpx) (1.5.0)\n",
      "Requirement already satisfied: pandas in /Users/wjones/opt/anaconda3/envs/dsa/lib/python3.9/site-packages (from fit2gpx) (1.5.2)\n",
      "Requirement already satisfied: python-dateutil>=2.8.1 in /Users/wjones/opt/anaconda3/envs/dsa/lib/python3.9/site-packages (from pandas->fit2gpx) (2.8.2)\n",
      "Requirement already satisfied: pytz>=2020.1 in /Users/wjones/opt/anaconda3/envs/dsa/lib/python3.9/site-packages (from pandas->fit2gpx) (2022.1)\n",
      "Requirement already satisfied: numpy>=1.20.3 in /Users/wjones/opt/anaconda3/envs/dsa/lib/python3.9/site-packages (from pandas->fit2gpx) (1.23.4)\n",
      "Requirement already satisfied: six>=1.5 in /Users/wjones/opt/anaconda3/envs/dsa/lib/python3.9/site-packages (from python-dateutil>=2.8.1->pandas->fit2gpx) (1.16.0)\n"
     ]
    }
   ],
   "source": [
    "import scipy as sc\n",
    "import numpy as np\n",
    "#!pip install gpxpy\n",
    "import gpxpy\n",
    "from geopy import distance\n",
    "import json\n",
    "import pandas as pd\n",
    "import math\n",
    "!pip install fit2gpx\n",
    "from fit2gpx import Converter\n"
   ]
  },
  {
   "cell_type": "code",
   "execution_count": 118,
   "metadata": {},
   "outputs": [
    {
     "name": "stdout",
     "output_type": "stream",
     "text": [
      "Collecting selenium\n",
      "  Downloading selenium-4.7.2-py3-none-any.whl (6.3 MB)\n",
      "\u001b[2K     \u001b[90m━━━━━━━━━━━━━━━━━━━━━━━━━━━━━━━━━━━━━━━━\u001b[0m \u001b[32m6.3/6.3 MB\u001b[0m \u001b[31m24.4 MB/s\u001b[0m eta \u001b[36m0:00:00\u001b[0ma \u001b[36m0:00:01\u001b[0m\n",
      "\u001b[?25hRequirement already satisfied: urllib3[socks]~=1.26 in /Users/wjones/opt/anaconda3/envs/dsa/lib/python3.9/site-packages (from selenium) (1.26.13)\n",
      "Collecting trio-websocket~=0.9\n",
      "  Downloading trio_websocket-0.9.2-py3-none-any.whl (16 kB)\n",
      "Collecting trio~=0.17\n",
      "  Downloading trio-0.22.0-py3-none-any.whl (384 kB)\n",
      "\u001b[2K     \u001b[90m━━━━━━━━━━━━━━━━━━━━━━━━━━━━━━━━━━━━━━\u001b[0m \u001b[32m384.9/384.9 kB\u001b[0m \u001b[31m17.4 MB/s\u001b[0m eta \u001b[36m0:00:00\u001b[0m\n",
      "\u001b[?25hRequirement already satisfied: certifi>=2021.10.8 in /Users/wjones/opt/anaconda3/envs/dsa/lib/python3.9/site-packages (from selenium) (2022.9.24)\n",
      "Collecting async-generator>=1.9\n",
      "  Downloading async_generator-1.10-py3-none-any.whl (18 kB)\n",
      "Requirement already satisfied: attrs>=19.2.0 in /Users/wjones/opt/anaconda3/envs/dsa/lib/python3.9/site-packages (from trio~=0.17->selenium) (22.1.0)\n",
      "Requirement already satisfied: idna in /Users/wjones/opt/anaconda3/envs/dsa/lib/python3.9/site-packages (from trio~=0.17->selenium) (3.4)\n",
      "Requirement already satisfied: sniffio in /Users/wjones/opt/anaconda3/envs/dsa/lib/python3.9/site-packages (from trio~=0.17->selenium) (1.2.0)\n",
      "Collecting sortedcontainers\n",
      "  Downloading sortedcontainers-2.4.0-py2.py3-none-any.whl (29 kB)\n",
      "Collecting exceptiongroup>=1.0.0rc9\n",
      "  Downloading exceptiongroup-1.0.4-py3-none-any.whl (14 kB)\n",
      "Collecting outcome\n",
      "  Downloading outcome-1.2.0-py2.py3-none-any.whl (9.7 kB)\n",
      "Collecting wsproto>=0.14\n",
      "  Downloading wsproto-1.2.0-py3-none-any.whl (24 kB)\n",
      "Requirement already satisfied: PySocks!=1.5.7,<2.0,>=1.5.6 in /Users/wjones/opt/anaconda3/envs/dsa/lib/python3.9/site-packages (from urllib3[socks]~=1.26->selenium) (1.7.1)\n",
      "Collecting h11<1,>=0.9.0\n",
      "  Downloading h11-0.14.0-py3-none-any.whl (58 kB)\n",
      "\u001b[2K     \u001b[90m━━━━━━━━━━━━━━━━━━━━━━━━━━━━━━━━━━━━━━━━\u001b[0m \u001b[32m58.3/58.3 kB\u001b[0m \u001b[31m6.7 MB/s\u001b[0m eta \u001b[36m0:00:00\u001b[0m\n",
      "\u001b[?25hInstalling collected packages: sortedcontainers, outcome, h11, exceptiongroup, async-generator, wsproto, trio, trio-websocket, selenium\n",
      "Successfully installed async-generator-1.10 exceptiongroup-1.0.4 h11-0.14.0 outcome-1.2.0 selenium-4.7.2 sortedcontainers-2.4.0 trio-0.22.0 trio-websocket-0.9.2 wsproto-1.2.0\n"
     ]
    }
   ],
   "source": [
    "!pip install selenium"
   ]
  },
  {
   "attachments": {},
   "cell_type": "markdown",
   "metadata": {},
   "source": [
    "# Putting it all together:"
   ]
  },
  {
   "attachments": {},
   "cell_type": "markdown",
   "metadata": {},
   "source": [
    "1. read gpx file(s) into an array with elevations and coordinates\n",
    "2. read segement data into array with elevations and coordinates\n",
    "3. get total distance and total elevation difference from segment\n",
    "4. sweep through gpx arrays to find sections that roughly fit the segment\n",
    "5. calculate elapsed times for those sections\n",
    "6. use DTW to see if segments are actually similar\n",
    "    - if they are, compare times.\n",
    "\n",
    "- Thought - skip the prelim data sweep and just use DTW"
   ]
  },
  {
   "cell_type": "code",
   "execution_count": 96,
   "metadata": {},
   "outputs": [],
   "source": [
    "def dtw_window(s, t, window):\n",
    "    lenS, lenT = len(s), len(t)\n",
    "    w = np.max([window, abs(lenS-lenT)])\n",
    "    dtw_matrix = np.zeros((lenS+1, lenT+1))\n",
    "    \n",
    "    for i in range(lenS+1):\n",
    "        for j in range(lenT+1):\n",
    "            dtw_matrix[i, j] = np.inf\n",
    "    dtw_matrix[0, 0] = 0\n",
    "    \n",
    "    for i in range(1, lenS+1):\n",
    "        for j in range(np.max([1, i-w]), np.min([lenT, i+w])+1):\n",
    "            dtw_matrix[i, j] = 0\n",
    "    \n",
    "    for i in range(1, lenS+1):\n",
    "        for j in range(np.max([1, i-w]), np.min([lenT, i+w])+1):\n",
    "            cost = abs(s[i-1] - t[j-1])\n",
    "            #print(cost)\n",
    "            prev_min = np.min([dtw_matrix[i-1, j], dtw_matrix[i, j-1], dtw_matrix[i-1, j-1]])\n",
    "            dtw_matrix[i, j] = cost + prev_min\n",
    "    return dtw_matrix"
   ]
  },
  {
   "cell_type": "code",
   "execution_count": 34,
   "metadata": {},
   "outputs": [],
   "source": [
    "def dtw(s, t):\n",
    "    lenS, lenT = len(s), len(t)\n",
    "    dtw_matrix = np.zeros((lenS+1, lenT+1))\n",
    "    for i in range(lenS+1):\n",
    "        for j in range(lenT+1):\n",
    "            dtw_matrix[i, j] = np.inf\n",
    "    dtw_matrix[0, 0] = 0\n",
    "    \n",
    "    for i in range(1, lenS+1):\n",
    "        for j in range(1, lenT+1):\n",
    "            cost = abs(s[i-1] - t[j-1]) # cost from box\n",
    "            prev_min = np.min([dtw_matrix[i-1, j], dtw_matrix[i, j-1], dtw_matrix[i-1, j-1]]) # get last min\n",
    "            dtw_matrix[i, j] = cost + prev_min # calculate cost/distance - last element is total distance\n",
    "    return dtw_matrix"
   ]
  },
  {
   "cell_type": "code",
   "execution_count": 35,
   "metadata": {},
   "outputs": [],
   "source": [
    "from geopy import distance\n",
    "import math\n",
    "# method to calculate distances between point\n",
    "def distanceBetweenPoints(p1, p2):\n",
    "    flat_distance = distance.distance(p1[:2], p2[:2]).m\n",
    "    # print(flat_distance)\n",
    "    euclidian_distance = math.sqrt(flat_distance**2 + (p2[2] - p1[2])**2)\n",
    "    return euclidian_distance"
   ]
  },
  {
   "cell_type": "code",
   "execution_count": 36,
   "metadata": {},
   "outputs": [],
   "source": [
    "from geopy import Point\n",
    "import math\n",
    "# method to make GPX file into array of elevations, times, distances\n",
    "def file_to_elevation_arr(fileName):\n",
    "        gpx_file = open(fileName, 'r')\n",
    "        gpx = gpxpy.parse(gpx_file)\n",
    "        elevevation_time_and_distance = []\n",
    "        pointOne = None\n",
    "        for track in gpx.tracks:\n",
    "            for segment in track.segments:\n",
    "                for point in segment.points:\n",
    "                    pointTwo = point\n",
    "                    distance = 0\n",
    "                    if pointOne:\n",
    "                        p1 = Point([pointOne.latitude, pointOne.longitude, pointOne.elevation])\n",
    "                        p2 = Point([pointTwo.latitude, pointTwo.longitude, pointTwo.elevation])\n",
    "                        distance = distanceBetweenPoints(p1, p2)\n",
    "                    pointOne = point\n",
    "                    #print('Point at ({0},{1}) -> {2}'.format(point.latitude, point.longitude, point.elevation))\n",
    "                    elevevation_time_and_distance.append((point.elevation,point.time, distance))\n",
    "        return elevevation_time_and_distance"
   ]
  },
  {
   "cell_type": "code",
   "execution_count": 39,
   "metadata": {},
   "outputs": [],
   "source": [
    "#segment = \"data/Elevation JSON/segment_location_data_elevation_0.json\""
   ]
  },
  {
   "cell_type": "code",
   "execution_count": 40,
   "metadata": {},
   "outputs": [],
   "source": [
    "# takes a panda dataframe and converts to list of tuples\n",
    "def dataframe_segment_to_list(df):\n",
    "    sg =[]\n",
    "    # Iterate over each row\n",
    "    for index, rows in df.iterrows():\n",
    "        # Create list for the current row\n",
    "        my_list =[rows[2], rows[3]]\n",
    "        #print(my_list)\n",
    "        \n",
    "        # append the list to the final list\n",
    "        sg.append(my_list)\n",
    "    return sg\n",
    "  "
   ]
  },
  {
   "cell_type": "code",
   "execution_count": 41,
   "metadata": {},
   "outputs": [],
   "source": [
    "#iterates through segment to give total elevation gain/loss\n",
    "def total_segment_elevation(segment_data):\n",
    "    total_elev = segment_data[len(segment_data)-1][0] - segment_data[0][0]\n",
    "    return total_elev\n",
    "\n",
    "#iterates through segment to give total distance gain\n",
    "def total_segment_distance(segment_data):\n",
    "    total_distance = 0\n",
    "    for i in segment_data:\n",
    "        total_distance += i[1].item()\n",
    "    return total_distance"
   ]
  },
  {
   "cell_type": "code",
   "execution_count": 42,
   "metadata": {},
   "outputs": [],
   "source": [
    "# old method that is slow - sweeps over every single point\n",
    "def sweep_user_activity_old(user_data, segement_data, x):\n",
    "    list_of_matches = [] # list of lists\n",
    "\n",
    "    seg_distance = total_segment_distance(segement_data)\n",
    "\n",
    "    #print(seg_distance)\n",
    "    seg_elevation = total_segment_elevation(segement_data)\n",
    "    #print(seg_elevation)\n",
    "    \n",
    "    user_distance = 0\n",
    "    user_elev = user_data[0][0]\n",
    "    user_start_elev = user_data[0][0]\n",
    "    first_window = 0\n",
    "    while user_distance < seg_distance and first_window < len(user_data):\n",
    "        # until we get to the window \n",
    "        user_elev = user_data[first_window][0]-user_start_elev\n",
    "        user_distance += user_data[first_window][2]\n",
    "        first_window += 1\n",
    "    delta_distance = user_distance - user_data[0][2]\n",
    "    # now we have the window, so we need to iterate through and see if the profiles match\n",
    "    second_window = 0\n",
    "    second_distance = 0\n",
    "    user_elev_two = user_data[0][0]\n",
    "    while user_distance < user_data[-1][2] and first_window < len(user_data):\n",
    "        user_elev_two = user_data[first_window][0]\n",
    "        user_elev = user_data[second_window][0]\n",
    "        if user_elev_two - user_elev > seg_elevation-5 and  user_elev_two - user_elev < seg_elevation+5:\n",
    "            list_of_matches.append(user_data[second_window:first_window])\n",
    "            #print(first_window, second_window)\n",
    "            # add match to list\n",
    "        user_distance += user_data[first_window][2]\n",
    "        second_distance += user_data[second_window][2]\n",
    "        first_window +=1\n",
    "        second_window +=1\n",
    "    return list_of_matches\n",
    "\n",
    "\n"
   ]
  },
  {
   "cell_type": "code",
   "execution_count": 95,
   "metadata": {},
   "outputs": [],
   "source": [
    "\n",
    "# Go to segment distance, when the segment distance matches the user window, compare elevations\n",
    "# this method only compares elevations every 100 GPS points\n",
    "def sweep_user_activity(user_data, segement_data, window):\n",
    "    list_of_matches = [] # list of lists\n",
    "    seg_distance = total_segment_distance(segement_data) # total segment distance\n",
    "    seg_elevation = total_segment_elevation(segement_data) # total segment elevation\n",
    "    \n",
    "    # go to the correct distance in user\n",
    "    user_distance = 0\n",
    "    user_elev = user_data[0][0]\n",
    "    user_start_elev = user_data[0][0]\n",
    "    first_window = 0\n",
    "    while user_distance < seg_distance and first_window < len(user_data):\n",
    "        user_elev = user_data[first_window][0]-user_start_elev\n",
    "        user_distance += user_data[first_window][2]\n",
    "        first_window+=1\n",
    "    second_window = 0 \n",
    "    second_distance = 0\n",
    "    while first_window < len(user_data)-1: \n",
    "        while user_distance-second_distance < seg_distance and first_window < len(user_data)-1:\n",
    "            user_distance += user_data[first_window][2]\n",
    "            first_window+=1\n",
    "        user_elev_two = user_data[first_window][0]\n",
    "        user_elev = user_data[second_window][0]\n",
    "        second_distance += user_data[second_window][2]\n",
    "        if first_window % 100 == 0:\n",
    "            if user_elev_two - user_elev > seg_elevation-window and  user_elev_two - user_elev < seg_elevation+window:\n",
    "                list_of_matches.append(user_data[second_window:first_window])\n",
    "        second_window+= 1\n",
    "    return list_of_matches\n",
    "        \n"
   ]
  },
  {
   "cell_type": "code",
   "execution_count": 45,
   "metadata": {},
   "outputs": [],
   "source": [
    "# this method reads a segment JSON (must be prepped by detailed_segment_data_maps.ipynb and coordinates_to_elevation.ipynb)\n",
    "def read_segment(segmentFile):\n",
    "    segment = segmentFile\n",
    "    df = pd.read_json(segment)\n",
    "    df.head()\n",
    "    seg = dataframe_segment_to_list(df)\n",
    "    return seg"
   ]
  },
  {
   "cell_type": "code",
   "execution_count": 46,
   "metadata": {},
   "outputs": [],
   "source": [
    "# this could be any segment, just for testing\n",
    "claremont_turkey_trot = read_segment('/Users/wjones/School/DSA/HunterXKOM/data/Elevation_JSON/james_segment_location_data_elevation_0.json')\n"
   ]
  },
  {
   "cell_type": "code",
   "execution_count": 49,
   "metadata": {},
   "outputs": [],
   "source": [
    "import numpy as np\n",
    "import matplotlib.pyplot as plt\n",
    "def graphing(user, segment):\n",
    "    total_user_distance = 0\n",
    "    total_segment_distance1 = 0\n",
    "    user_start_elev = user[0][0]\n",
    "    segment_start_elev = segment[0][0]\n",
    "    user_dtw_list = []\n",
    "    segment_dtw_list = []\n",
    "    user_dtw_distance = []\n",
    "    seg_dtw_distance = []\n",
    "    for i in range(len(user)):\n",
    "        total_user_distance += user[i][2]\n",
    "        user_dtw_distance.append(total_user_distance)\n",
    "        user_dtw_list.append(user[i][0]-user_start_elev)\n",
    "        #plt.scatter(total_user_distance, user[i][0])\n",
    "        #print(arr[0][i][0])\n",
    "    for j in range (len(segment)):\n",
    "         total_segment_distance1 += segment[j][1]\n",
    "         seg_dtw_distance.append(total_segment_distance1)\n",
    "         segment_dtw_list.append(segment[j][0]-segment_start_elev)\n",
    "         #plt.scatter(total_segment_distance1, segment[j][0])\n",
    "    #plt.draw()\n",
    "    return ((user_dtw_list,user_dtw_distance), (segment_dtw_list,seg_dtw_distance))"
   ]
  },
  {
   "cell_type": "code",
   "execution_count": 50,
   "metadata": {},
   "outputs": [],
   "source": [
    "from scipy.interpolate import interp1d\n",
    "import numpy as np\n",
    "# this is to correct the length of the segment for use in better DTW algorithms, like \n",
    "# the ones I have imported. My implementation does mot require this. \n",
    "def correct_segment(l):\n",
    "    #l = graphing(arr[0], claremont_turkey_trot) #(elev, distance), (elev, distance)\n",
    "    #print(l[0][1])\n",
    "    #plt.plot(l[0][1],l[0][0],'o')\n",
    "    f = interp1d(l[1][1],l[1][0], kind='cubic')\n",
    "    segment_corrected_length = []\n",
    "    desired_length = len(l[0][0])\n",
    "    divided = l[1][1][-1]//desired_length\n",
    "    for i in range(desired_length-1):\n",
    "        segment_corrected_length.append(f(i*divided))\n",
    "    #plt.plot(l[1][1], f(l[1][1]), '-')\n",
    "    #plt.show()\n",
    "    return segment_corrected_length\n"
   ]
  },
  {
   "cell_type": "code",
   "execution_count": 51,
   "metadata": {},
   "outputs": [],
   "source": [
    "from scipy.interpolate import interp1d\n",
    "import numpy as np\n",
    "#!pip install dtaidistance\n",
    "#from dtaidistance import dtw\n",
    "#from dtaidistance import dtw_visualisation as dtwvis\n",
    "#l = graphing(arr[0], claremont_turkey_trot)\n",
    "\n",
    "# this does the actual comparison and exports tuples of (DTW distance, user times)\n",
    "def DTW_comparison(user, segment):\n",
    "    distances = []\n",
    "    user_times = []\n",
    "    d_t = []\n",
    "    for pot in range(len(user)-1):\n",
    "        t1 = user[pot][0][1]\n",
    "        t2 = user[pot][-1][1]\n",
    "        #print(t1)\n",
    "        user_times.append((t2-t1).total_seconds())\n",
    "        l = graphing(user[pot], segment) #(elev, distance), (elev, distance)\n",
    "        first = l[0][0]\n",
    "        second = l[1][0]\n",
    "        #f2 = interp1d(l[0][0], l[0][1], kind='cubic')\n",
    "        tempDTW = dtw(first, second)\n",
    "        distances.append(tempDTW[-1][-1])\n",
    "        #distances.append(dtw.distance(first, second))\n",
    "\n",
    "    \n",
    "    for d in range(len(distances)):\n",
    "        d_t.append((distances[d],user_times[d]))\n",
    "    return d_t\n",
    "    \n"
   ]
  },
  {
   "cell_type": "code",
   "execution_count": 53,
   "metadata": {},
   "outputs": [],
   "source": [
    "# code to use imported DTW visualization\n",
    "\n",
    "#!pip install dtaidistance\n",
    "#from dtaidistance import dtw\n",
    "#from dtaidistance import dtw_visualisation as dtwvis\n",
    "#s = correct_segment(l)\n",
    "#path = dtw.warping_path(l[0][0], s)\n",
    "#dtwvis.plot_warping(l[0][0], s, path, filename=\"warp.png\")\n",
    "#distance = dtw.distance(l[0][0], s)"
   ]
  },
  {
   "cell_type": "code",
   "execution_count": 54,
   "metadata": {},
   "outputs": [],
   "source": [
    "conv = Converter() \n",
    "# method to batch convert .FIT to .GPX \n",
    "# UPDATE: THIS DOES NOT WORK WITH ELEVATION DATA\n",
    "def fit_to_gpx(fileDirectory):\n",
    "    conv.fit_to_gpx_bulk(dir_in=fileDirectory, dir_out='data/User')\n",
    "\n"
   ]
  },
  {
   "cell_type": "code",
   "execution_count": 119,
   "metadata": {},
   "outputs": [],
   "source": [
    "import selenium\n",
    "from selenium import webdriver\n",
    "from selenium.webdriver.common.by import By\n",
    "\n",
    "def get_segment_distance_time_grade(segment_id):\n",
    "    driver = webdriver.Chrome('/Users/James/Downloads/chromedriver')\n",
    "    url = f\"https://www.strava.com/segments/{segment_id}?filter=overall\"\n",
    "    driver.get(url)\n",
    "    #login_to_strava()\n",
    "    distance_element = driver.find_element(By.XPATH,'//*[@id=\"segment\"]/div/div[3]/ul/li[1]/div/b')\n",
    "    grade_element = driver.find_element(By.XPATH,'//*[@id=\"segment\"]/div/div[3]/ul/li[3]/div/b')\n",
    "    try:\n",
    "        # check if there is a VAM\n",
    "         leader_time_element = driver.find_element(By.XPATH,'//*[@id=\"segment-leaderboard\"]/div/table/tbody/tr[1]/td[5]')\n",
    "    except Exception:\n",
    "         leader_time_element = driver.find_element(By.XPATH,'//*[@id=\"segment-leaderboard\"]/div/table/tbody/tr[1]/td[4]')\n",
    "    \n",
    "    return distance_element.text,leader_time_element.text,grade_element.text"
   ]
  },
  {
   "cell_type": "code",
   "execution_count": 142,
   "metadata": {},
   "outputs": [],
   "source": [
    "import time\n",
    "def data_to_display(act, segment_best_time):\n",
    "    \n",
    "    count = 0\n",
    "    total_time = 0\n",
    "    min_time = 1000000000\n",
    "    min_tuple = None\n",
    "    \n",
    "    for i in act:\n",
    "        if i[0] < 3000:\n",
    "            total_time += i[1]\n",
    "            count+=1\n",
    "            if i[1] < min_time:\n",
    "                min_time = i[1]\n",
    "                min_tuple = i\n",
    "    if count != 0:\n",
    "        average_time = total_time/count   \n",
    "        average_time_res = time.gmtime(average_time)\n",
    "        ave_res = time.strftime(\"%H:%M:%S\",average_time_res)\n",
    "        min_time_res = time.gmtime(min_time)\n",
    "        min_res = time.strftime(\"%H:%M:%S\",min_time_res)\n",
    "    else: \n",
    "        ave_res =  \"not enough data\"\n",
    "        min_res =  \"not enough data\"\n",
    "        min_tuple= (\"none\", \"not enough data\")\n",
    "    print(f\"The current segment leader ran the segment in {segment_best_time[1]}\")\n",
    "    print(f\"Based on your prior performance, the average time you could run this segment in is {ave_res}.\")\n",
    "    print(f\"The fastest time you could run this segment is {min_res} based on a run that is {min_tuple[0]} similar to the segment based on DTW.\")\n",
    "\n"
   ]
  },
  {
   "cell_type": "code",
   "execution_count": 120,
   "metadata": {},
   "outputs": [],
   "source": [
    "import os\n",
    "# this is the main method, runs it through and returns list of (DTW distance, user times)\n",
    "def compare_user_activities_to_segment(segmentPath, segmentID):\n",
    "    # scrape for segment\n",
    "    data = []\n",
    "    seg = read_segment(segmentPath)\n",
    "    #print(seg)\n",
    "    # go through user's activities\n",
    "    directory = os.fsencode('/Users/wjones/School/DSA/HunterXKOM/data/Mix_data')    \n",
    "    for file in os.listdir(directory):\n",
    "        filename = os.fsdecode(file)\n",
    "        if filename.endswith(\".gpx\"): \n",
    "            arrOne = file_to_elevation_arr('/Users/wjones/School/DSA/HunterXKOM/data/Mix_data/'+filename)\n",
    "            #print(arrOne)\n",
    "            arr = sweep_user_activity(arrOne, seg, 5)\n",
    "            data += DTW_comparison(arr, seg)\n",
    "        else:\n",
    "            continue\n",
    "    return data_to_display(data, get_segment_distance_time_grade(segmentID))"
   ]
  },
  {
   "attachments": {},
   "cell_type": "markdown",
   "metadata": {},
   "source": [
    "## Testing \n",
    "- Took 13 activities from James's strava representing workouts and hard hill runs. \n",
    "- Nest, we compare those activities to segments James already is the leader on, stored in data/Mix_data\n",
    "- Results are below. For most segments this algorithm worked, but for a few the signficant elevation meant we don't have an accurate result."
   ]
  },
  {
   "cell_type": "code",
   "execution_count": 135,
   "metadata": {},
   "outputs": [
    {
     "name": "stderr",
     "output_type": "stream",
     "text": [
      "/var/folders/01/r024mm7x74qd70l_5q2qs0hm0000gn/T/ipykernel_47319/2394875006.py:6: DeprecationWarning: executable_path has been deprecated, please pass in a Service object\n",
      "  driver = webdriver.Chrome('/Users/James/Downloads/chromedriver')\n"
     ]
    },
    {
     "name": "stdout",
     "output_type": "stream",
     "text": [
      "The current segment leader ran the segment in 2:29\n",
      "Based on your prior performance, the average time you could run this segment in is 00:03:31.\n",
      "The fastest time you could run this segment is 00:02:05 based on a run that is 113.06000000000518 similar to the segment based on DTW.\n"
     ]
    }
   ],
   "source": [
    "compare_user_activities_to_segment('/Users/wjones/School/DSA/HunterXKOM/data/Elevation_JSON/5336817.json', \"5336817\")\n"
   ]
  },
  {
   "cell_type": "code",
   "execution_count": 138,
   "metadata": {},
   "outputs": [
    {
     "name": "stderr",
     "output_type": "stream",
     "text": [
      "/var/folders/01/r024mm7x74qd70l_5q2qs0hm0000gn/T/ipykernel_47319/2394875006.py:6: DeprecationWarning: executable_path has been deprecated, please pass in a Service object\n",
      "  driver = webdriver.Chrome('/Users/James/Downloads/chromedriver')\n"
     ]
    },
    {
     "name": "stdout",
     "output_type": "stream",
     "text": [
      "The current segment leader ran the segment in 8:01\n",
      "Based on your prior performance, the average time you could run this segment in is 00:11:33.\n",
      "The fastest time you could run this segment is 00:11:30 based on a run that is 156.7700000000001 similar to the segment based on DTW.\n"
     ]
    }
   ],
   "source": [
    "compare_user_activities_to_segment('/Users/wjones/School/DSA/HunterXKOM/data/Elevation_JSON/8224728.json', \"8224728\")\n"
   ]
  },
  {
   "cell_type": "code",
   "execution_count": 141,
   "metadata": {},
   "outputs": [
    {
     "name": "stderr",
     "output_type": "stream",
     "text": [
      "/var/folders/01/r024mm7x74qd70l_5q2qs0hm0000gn/T/ipykernel_47319/2394875006.py:6: DeprecationWarning: executable_path has been deprecated, please pass in a Service object\n",
      "  driver = webdriver.Chrome('/Users/James/Downloads/chromedriver')\n"
     ]
    },
    {
     "name": "stdout",
     "output_type": "stream",
     "text": [
      "The current segment leader ran the segment in 10:01\n",
      "Based on your prior performance, the average time you could run this segment in is 00:16:19.\n",
      "The fastest time you could run this segment is 00:15:45 based on a run that is 1669.3199999999824 similar to the segment based on DTW.\n"
     ]
    }
   ],
   "source": [
    "compare_user_activities_to_segment('/Users/wjones/School/DSA/HunterXKOM/data/Elevation_JSON/8224741.json', \"8224741\")"
   ]
  },
  {
   "cell_type": "code",
   "execution_count": 144,
   "metadata": {},
   "outputs": [
    {
     "name": "stderr",
     "output_type": "stream",
     "text": [
      "/var/folders/01/r024mm7x74qd70l_5q2qs0hm0000gn/T/ipykernel_47319/2394875006.py:6: DeprecationWarning: executable_path has been deprecated, please pass in a Service object\n",
      "  driver = webdriver.Chrome('/Users/James/Downloads/chromedriver')\n"
     ]
    },
    {
     "name": "stdout",
     "output_type": "stream",
     "text": [
      "The current segment leader ran the segment in 2:07\n",
      "Based on your prior performance, the average time you could run this segment in is 00:22:06.\n",
      "The fastest time you could run this segment is 00:17:27 based on a run that is 1328.0899999999992 similar to the segment based on DTW.\n"
     ]
    }
   ],
   "source": [
    "compare_user_activities_to_segment('/Users/wjones/School/DSA/HunterXKOM/data/Elevation_JSON/4626685.json', \"4626685\")"
   ]
  },
  {
   "attachments": {},
   "cell_type": "markdown",
   "metadata": {},
   "source": [
    "Note: Although the algorithm does not say James can get his own segments above, this makes sense, as we did not feed it any run user data with this high of an effort at such a grade.  These segments are from the same steep, fast run."
   ]
  },
  {
   "cell_type": "code",
   "execution_count": 145,
   "metadata": {},
   "outputs": [
    {
     "name": "stderr",
     "output_type": "stream",
     "text": [
      "/var/folders/01/r024mm7x74qd70l_5q2qs0hm0000gn/T/ipykernel_47319/2394875006.py:6: DeprecationWarning: executable_path has been deprecated, please pass in a Service object\n",
      "  driver = webdriver.Chrome('/Users/James/Downloads/chromedriver')\n"
     ]
    },
    {
     "name": "stdout",
     "output_type": "stream",
     "text": [
      "The current segment leader ran the segment in 10:21\n",
      "Based on your prior performance, the average time you could run this segment in is 00:14:43.\n",
      "The fastest time you could run this segment is 00:10:03 based on a run that is 347.7299999999986 similar to the segment based on DTW.\n"
     ]
    }
   ],
   "source": [
    "compare_user_activities_to_segment('/Users/wjones/School/DSA/HunterXKOM/data/Elevation_JSON/20223561.json', \"20223561\")\n"
   ]
  },
  {
   "cell_type": "code",
   "execution_count": 146,
   "metadata": {},
   "outputs": [
    {
     "name": "stderr",
     "output_type": "stream",
     "text": [
      "/var/folders/01/r024mm7x74qd70l_5q2qs0hm0000gn/T/ipykernel_47319/2394875006.py:6: DeprecationWarning: executable_path has been deprecated, please pass in a Service object\n",
      "  driver = webdriver.Chrome('/Users/James/Downloads/chromedriver')\n"
     ]
    },
    {
     "name": "stdout",
     "output_type": "stream",
     "text": [
      "The current segment leader ran the segment in 13:54\n",
      "Based on your prior performance, the average time you could run this segment in is 00:29:38.\n",
      "The fastest time you could run this segment is 00:25:46 based on a run that is 1802.1899999999941 similar to the segment based on DTW.\n"
     ]
    }
   ],
   "source": [
    "compare_user_activities_to_segment('/Users/wjones/School/DSA/HunterXKOM/data/Elevation_JSON/1410421.json', \"1410421\")"
   ]
  },
  {
   "cell_type": "code",
   "execution_count": null,
   "metadata": {},
   "outputs": [],
   "source": []
  }
 ],
 "metadata": {
  "kernelspec": {
   "display_name": "dsa",
   "language": "python",
   "name": "python3"
  },
  "language_info": {
   "codemirror_mode": {
    "name": "ipython",
    "version": 3
   },
   "file_extension": ".py",
   "mimetype": "text/x-python",
   "name": "python",
   "nbconvert_exporter": "python",
   "pygments_lexer": "ipython3",
   "version": "3.9.15 (main, Nov 24 2022, 08:29:02) \n[Clang 14.0.6 ]"
  },
  "orig_nbformat": 4,
  "vscode": {
   "interpreter": {
    "hash": "60a029060c274fe779a2fcc7bb51dacc2ea85f5b99cbc3686fa63f7965c9aff9"
   }
  }
 },
 "nbformat": 4,
 "nbformat_minor": 2
}
