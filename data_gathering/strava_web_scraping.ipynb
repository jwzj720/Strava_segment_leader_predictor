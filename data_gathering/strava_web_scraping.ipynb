{
 "cells": [
  {
   "attachments": {},
   "cell_type": "markdown",
   "metadata": {},
   "source": [
    "## Webscraping off Strava Website\n",
    "We need to do this in order to fetch strava segment leaderboard data  \n",
    "This action is within Strava TOS as long as its within a reasonable request rate"
   ]
  },
  {
   "cell_type": "code",
   "execution_count": 19,
   "metadata": {},
   "outputs": [
    {
     "name": "stderr",
     "output_type": "stream",
     "text": [
      "C:\\Users\\James\\AppData\\Local\\Temp\\ipykernel_13228\\2508321269.py:3: DeprecationWarning: executable_path has been deprecated, please pass in a Service object\n",
      "  driver = webdriver.Chrome('/Users/James/Downloads/chromedriver')\n"
     ]
    }
   ],
   "source": [
    "import selenium\n",
    "from selenium import webdriver\n",
    "from selenium.webdriver.common.by import By\n",
    "# You must have selenium + a webdriver to run this"
   ]
  },
  {
   "cell_type": "code",
   "execution_count": 1,
   "metadata": {},
   "outputs": [],
   "source": [
    "def get_segment_distance_time_elev(segment_id):\n",
    "    driver = webdriver.Chrome('/Users/James/Downloads/chromedriver')\n",
    "    url = f\"https://www.strava.com/segments/{segment_id}?filter=overall\"\n",
    "    driver.get(url)\n",
    "    leader_time_element = driver.find_element(By.XPATH,'//*[@id=\"segment-leaderboard\"]/div/table/tbody/tr[1]/td[4]')\n",
    "    distance_element = driver.find_element(By.XPATH,'//*[@id=\"segment\"]/div/div[3]/ul/li[1]/div/b')\n",
    "    elev_element = driver.find_element(By.XPATH,'//*[@id=\"segment\"]/div/div[3]/ul/li[6]/div/b')\n",
    "    return distance_element.text,leader_time_element.text,elev_element.text\n"
   ]
  },
  {
   "cell_type": "code",
   "execution_count": 64,
   "metadata": {},
   "outputs": [
    {
     "name": "stderr",
     "output_type": "stream",
     "text": [
      "C:\\Users\\James\\AppData\\Local\\Temp\\ipykernel_13228\\2194019046.py:2: DeprecationWarning: executable_path has been deprecated, please pass in a Service object\n",
      "  driver = webdriver.Chrome('/Users/James/Downloads/chromedriver')\n"
     ]
    },
    {
     "data": {
      "text/plain": [
       "('2.49km', '7:55', '15m')"
      ]
     },
     "execution_count": 64,
     "metadata": {},
     "output_type": "execute_result"
    }
   ],
   "source": [
    "get_segment_distance_time_elev(segment_id=19718668)"
   ]
  },
  {
   "attachments": {},
   "cell_type": "markdown",
   "metadata": {},
   "source": [
    "Scrape all the segments we have already downloaded and save them to a file"
   ]
  },
  {
   "cell_type": "code",
   "execution_count": 69,
   "metadata": {},
   "outputs": [
    {
     "name": "stderr",
     "output_type": "stream",
     "text": [
      "C:\\Users\\James\\AppData\\Local\\Temp\\ipykernel_13228\\2194019046.py:2: DeprecationWarning: executable_path has been deprecated, please pass in a Service object\n",
      "  driver = webdriver.Chrome('/Users/James/Downloads/chromedriver')\n"
     ]
    }
   ],
   "source": [
    "import json\n",
    "file_to_open = \"data/segment_data.json\"\n",
    "file_to_save = \"data/scraped_segment_data.json\"\n",
    "scraped_segment_data = {}\n",
    "with open(file_to_open,\"r\") as file:\n",
    "    segment_data_dict = json.load(file)\n",
    "\n",
    "for segment in segment_data_dict[\"segments\"]:\n",
    "    id = segment[\"id\"]\n",
    "    dist,time,elev = get_segment_distance_time_elev(segment_id=id)\n",
    "    scraped_segment_data[id] = (dist,time,elev)\n",
    "\n",
    "with open(file_to_save,\"w+\") as file:\n",
    "    file.write(json.dumps(scraped_segment_data))"
   ]
  }
 ],
 "metadata": {
  "kernelspec": {
   "display_name": "Python 3",
   "language": "python",
   "name": "python3"
  },
  "language_info": {
   "codemirror_mode": {
    "name": "ipython",
    "version": 3
   },
   "file_extension": ".py",
   "mimetype": "text/x-python",
   "name": "python",
   "nbconvert_exporter": "python",
   "pygments_lexer": "ipython3",
   "version": "3.10.9"
  },
  "orig_nbformat": 4,
  "vscode": {
   "interpreter": {
    "hash": "f7d6fef4803a87b6bf8f046c08ccb2d01bfe26e59291b0f299e6bb7968c27f7f"
   }
  }
 },
 "nbformat": 4,
 "nbformat_minor": 2
}
