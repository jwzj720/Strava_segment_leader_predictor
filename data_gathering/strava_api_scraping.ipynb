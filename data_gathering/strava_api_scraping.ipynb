{
 "cells": [
  {
   "cell_type": "code",
   "execution_count": null,
   "metadata": {},
   "outputs": [],
   "source": [
    "!pip install git+https://github.com/sladkovm/strava-swagger-client"
   ]
  },
  {
   "attachments": {},
   "cell_type": "markdown",
   "metadata": {},
   "source": [
    "API initialization code"
   ]
  },
  {
   "cell_type": "code",
   "execution_count": 105,
   "metadata": {},
   "outputs": [],
   "source": [
    "\n",
    "#from __future__ import print_statement\n",
    "import time\n",
    "import swagger_client\n",
    "from swagger_client.rest import ApiException\n",
    "from pprint import pprint\n",
    "\n",
    "configuration = swagger_client.Configuration()\n",
    "configuration.access_token = 'e5b2a08a7149ef6be5f401cb0ed339482cf890c7'\n",
    "\n",
    "# create an instance of the API class\n",
    "api_instance = swagger_client.SegmentsApi(swagger_client.ApiClient(configuration))\n"
   ]
  },
  {
   "cell_type": "code",
   "execution_count": 17,
   "metadata": {},
   "outputs": [],
   "source": [
    "import math\n",
    "def get_bounds_in_area(starting_lat,starting_long,distance):\n",
    "    # returns southwest corner and northeast corner\n",
    "  top_right =   MaxLatLongOnBearing(starting_lat, starting_long,45,distance)\n",
    "  bottom_right = MaxLatLongOnBearing(starting_lat, starting_long, 135, distance)\n",
    "  bottom_left = MaxLatLongOnBearing(starting_lat, starting_long, 225, distance)\n",
    "  top_left = MaxLatLongOnBearing(starting_lat, starting_long, 315, distance)\n",
    "  return {\"top right\":top_right,\"bottom right\":bottom_right,\"bottom left\":bottom_left,\"top left\" :top_left}\n",
    "\n",
    "def MaxLatLongOnBearing(centerLat, centerLong, bearing, distance):\n",
    "    \n",
    "\n",
    "        lon_rads = math.radians(centerLong)\n",
    "        lat_rads = math.radians(centerLat)\n",
    "        bearing_rads = math.radians(bearing)\n",
    "        max_lat_rads = math.asin(math.sin(lat_rads) * math.cos(distance / 6371) + math.cos(lat_rads) * math.sin(distance / 6371) * math.cos(bearing_rads))\n",
    "        max_lon_rads = lon_rads + math.atan2((math.sin(bearing_rads) * math.sin(distance / 6371) * math.cos(lat_rads)), (math.cos(distance / 6371) - math.sin(lat_rads) * math.sin(max_lat_rads)))\n",
    "\n",
    "        maxLat = math.degrees(max_lat_rads)\n",
    "        maxLong = math.degrees(max_lon_rads)\n",
    "\n",
    "        return (maxLat,maxLong)\n",
    "    \n",
    "\n"
   ]
  },
  {
   "cell_type": "code",
   "execution_count": 18,
   "metadata": {},
   "outputs": [
    {
     "data": {
      "text/plain": [
       "{'top right': (38.865669713496985, -104.78052884172236),\n",
       " 'bottom right': (38.80207808250494, -104.78056531050585),\n",
       " 'bottom left': (38.80207808250494, -104.86216468949414),\n",
       " 'top left': (38.865669713496985, -104.86220115827764)}"
      ]
     },
     "execution_count": 18,
     "metadata": {},
     "output_type": "execute_result"
    }
   ],
   "source": [
    "CO_Springs_lat_and_lon = (38.833881,-104.821365)\n",
    "get_bounds_in_area(CO_Springs_lat_and_lon[0],CO_Springs_lat_and_lon[1],5)"
   ]
  },
  {
   "cell_type": "code",
   "execution_count": 60,
   "metadata": {},
   "outputs": [],
   "source": [
    "def get_top_ten_segments_in_area(lat,lon,distance):\n",
    "    area_sqaure = get_bounds_in_area(lat,lon,distance)\n",
    "    bounds =  [area_sqaure[\"bottom left\"][0],area_sqaure[\"bottom left\"][1],area_sqaure[\"top right\"][0],area_sqaure[\"top right\"][1]]# array[Float] | The latitude and longitude for two points describing a rectangular boundary for the search: [southwest corner latitutde, southwest corner longitude, northeast corner latitude, northeast corner longitude]\n",
    "    activity_type = \"running\" # String | Desired activity type. (optional)\n",
    "\n",
    "    try: \n",
    "        # Explore segments\n",
    "        api_response = api_instance.explore_segments(bounds, activity_type=activity_type)\n",
    "        return api_response.to_dict()\n",
    "    except ApiException as e:\n",
    "        print(\"Exception when calling SegmentsApi->exploreSegments: %s\\n\" % e)\n",
    "        return None"
   ]
  },
  {
   "cell_type": "code",
   "execution_count": 80,
   "metadata": {},
   "outputs": [],
   "source": [
    "import json\n",
    "import os.path\n",
    "def save_segments_to_json_file(filename,dict):\n",
    "    filename = \"data/\"+filename\n",
    "    # check for file already there\n",
    "    try:\n",
    "        with open(filename,\"r\") as file:\n",
    "            segment_data_dict = json.load(file)\n",
    "    except Exception as e:\n",
    "        print(e)\n",
    "        segment_data_dict = None\n",
    "    # append new segments to file if not already there\n",
    "    if segment_data_dict:\n",
    "        for segment in dict[\"segments\"]:\n",
    "            if segment not in segment_data_dict[\"segments\"]:\n",
    "                segment_data_dict[\"segments\"].append(segment)\n",
    "    else:\n",
    "        segment_data_dict = dict\n",
    "    json_object = json.dumps(segment_data_dict)\n",
    "    # Writing to sample.json\n",
    "    with open(filename, \"w+\") as outfile:\n",
    "        outfile.write(json_object)\n"
   ]
  },
  {
   "attachments": {},
   "cell_type": "markdown",
   "metadata": {},
   "source": [
    "Saving a sample api call to json file"
   ]
  },
  {
   "cell_type": "code",
   "execution_count": 76,
   "metadata": {},
   "outputs": [
    {
     "name": "stdout",
     "output_type": "stream",
     "text": [
      "'str' object has no attribute 'read'\n",
      "None\n"
     ]
    }
   ],
   "source": [
    "api_resp = get_top_ten_segments_in_area(34.096676,-117.719780,5)"
   ]
  },
  {
   "cell_type": "code",
   "execution_count": 87,
   "metadata": {},
   "outputs": [],
   "source": [
    "api_resp = get_top_ten_segments_in_area(CO_Springs_lat_and_lon[0],CO_Springs_lat_and_lon[1],5)"
   ]
  },
  {
   "cell_type": "code",
   "execution_count": null,
   "metadata": {},
   "outputs": [],
   "source": [
    "segment_data_file_name = \"segment_data.json\"\n",
    "if api_resp:\n",
    "    save_segments_to_json_file(segment_data_file_name,api_resp)\n",
    "   "
   ]
  },
  {
   "attachments": {},
   "cell_type": "markdown",
   "metadata": {},
   "source": [
    "## Getting a list of Summary activies\n",
    "Note: Summary Activities do not contain segment data, only detailed activities do. You cannot get multiple detailed activites at once."
   ]
  },
  {
   "cell_type": "code",
   "execution_count": 99,
   "metadata": {},
   "outputs": [],
   "source": [
    "api_instance = swagger_client.ActivitiesApi(swagger_client.ApiClient(configuration))\n"
   ]
  },
  {
   "cell_type": "code",
   "execution_count": null,
   "metadata": {},
   "outputs": [],
   "source": [
    "api_resp = api_instance.get_logged_in_athlete_activities()"
   ]
  },
  {
   "cell_type": "code",
   "execution_count": null,
   "metadata": {},
   "outputs": [],
   "source": [
    "def save_activities_to_json_file(filename,dict):\n",
    "    filename = \"data/\"+filename\n",
    "    # check for file already there\n",
    "    try:\n",
    "        with open(filename,\"r\") as file:\n",
    "            segment_data_dict = json.load(file)\n",
    "    except Exception as e:\n",
    "        print(e)\n",
    "        segment_data_dict = None\n",
    "    # append new segments to file if not already there\n",
    "    if segment_data_dict:\n",
    "        for segment in dict[\"segments\"]:\n",
    "            if segment not in segment_data_dict[\"segments\"]:\n",
    "                segment_data_dict[\"segments\"].append(segment)\n",
    "    else:\n",
    "        segment_data_dict = dict\n",
    "    json_object = json.dumps(segment_data_dict)\n",
    "    # Writing to json\n",
    "    with open(filename, \"w+\") as outfile:\n",
    "        outfile.write(json_object)"
   ]
  },
  {
   "attachments": {},
   "cell_type": "markdown",
   "metadata": {},
   "source": [
    "## Detailed Segment Data"
   ]
  },
  {
   "cell_type": "code",
   "execution_count": 104,
   "metadata": {},
   "outputs": [],
   "source": [
    "api_instance = swagger_client.SegmentsApi(swagger_client.ApiClient(configuration))"
   ]
  },
  {
   "cell_type": "code",
   "execution_count": 101,
   "metadata": {},
   "outputs": [],
   "source": [
    "# Parsing Summary Segment Data, call get detailed segment data on that information\n",
    "def get_segment_ids(filename): # returns a list of segment ids\n",
    "    with open(filename,\"r\") as file:\n",
    "        segment_data_dict = json.load(file)\n",
    "    return [segment[\"id\"] for segment in segment_data_dict[\"segments\"]]    \n",
    "\n"
   ]
  },
  {
   "cell_type": "code",
   "execution_count": 123,
   "metadata": {},
   "outputs": [],
   "source": [
    "def save_detailed_segments_to_json_file(filename,dict):\n",
    "    filename = filename\n",
    "    # check for file already there\n",
    "    try:\n",
    "        with open(filename,\"r\") as file:\n",
    "            segment_data_dict = json.load(file)\n",
    "    except Exception as e:\n",
    "        print(e)\n",
    "        segment_data_dict = None\n",
    "    # append new segments to file if not already there\n",
    "    if segment_data_dict:\n",
    "            if dict not in segment_data_dict[\"segments\"]:\n",
    "                segment_data_dict[\"segments\"].append(dict)\n",
    "    else:\n",
    "        segment_data_dict = {\"segments\":[]}\n",
    "        segment_data_dict[\"segments\"].append(dict)\n",
    "    json_object = json.dumps(segment_data_dict,default=str) # we need default=str here for objects that aren't json serializable\n",
    "    # Writing to sample.json\n",
    "    with open(filename, \"w+\") as outfile:\n",
    "        outfile.write(json_object)\n",
    "\n",
    "def get_detailed_segment_info_from_ids(ids,filename):\n",
    "    api_resps = []\n",
    "    for id in ids:\n",
    "        api_resps.append(api_instance.get_segment_by_id(id))\n",
    "\n",
    "    return api_resps\n",
    "        \n",
    "    \n"
   ]
  },
  {
   "cell_type": "code",
   "execution_count": 116,
   "metadata": {},
   "outputs": [],
   "source": [
    "sum_segments_file = \"data/segment_data.json\"\n",
    "detailed_segments_file = \"data/detailed_segment_data.json\"\n",
    "\n",
    "api_resps = get_detailed_segment_info_from_ids(get_segment_ids(sum_segments_file),detailed_segments_file)"
   ]
  },
  {
   "cell_type": "code",
   "execution_count": 122,
   "metadata": {},
   "outputs": [],
   "source": [
    "# Save all segment info to a json file\n",
    "for api_resp in api_resps:\n",
    "    save_detailed_segments_to_json_file(detailed_segments_file,api_resp.to_dict())"
   ]
  },
  {
   "cell_type": "code",
   "execution_count": null,
   "metadata": {},
   "outputs": [],
   "source": []
  }
 ],
 "metadata": {
  "kernelspec": {
   "display_name": "Python 3",
   "language": "python",
   "name": "python3"
  },
  "language_info": {
   "codemirror_mode": {
    "name": "ipython",
    "version": 3
   },
   "file_extension": ".py",
   "mimetype": "text/x-python",
   "name": "python",
   "nbconvert_exporter": "python",
   "pygments_lexer": "ipython3",
   "version": "3.11.1 (v3.11.1:a7a450f84a, Dec  6 2022, 15:24:06) [Clang 13.0.0 (clang-1300.0.29.30)]"
  },
  "orig_nbformat": 4,
  "vscode": {
   "interpreter": {
    "hash": "aee8b7b246df8f9039afb4144a1f6fd8d2ca17a180786b69acc140d282b71a49"
   }
  }
 },
 "nbformat": 4,
 "nbformat_minor": 2
}
