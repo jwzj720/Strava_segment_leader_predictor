{
 "cells": [
  {
   "attachments": {},
   "cell_type": "markdown",
   "metadata": {},
   "source": [
    "### The purpose of this notebook is to convert Strava polylines to and array of lat and long points\n",
    "This will allow us to get map information for each segment"
   ]
  },
  {
   "cell_type": "code",
   "execution_count": 2,
   "metadata": {},
   "outputs": [],
   "source": [
    "import json\n",
    "# Open detailed segment data\n",
    "filename = \"data/detailed_segment_data.json\"\n",
    "with open(filename,\"r\") as file:\n",
    "        segment_data_dict = json.load(file)"
   ]
  },
  {
   "cell_type": "code",
   "execution_count": 4,
   "metadata": {},
   "outputs": [],
   "source": [
    "# Dict of polylines, with name of segment as the key\n",
    "polylines = {}\n",
    "for segment in segment_data_dict[\"segments\"]:\n",
    "    polylines[segment[\"name\"]] = segment[\"map\"][\"polyline\"]"
   ]
  },
  {
   "cell_type": "code",
   "execution_count": null,
   "metadata": {},
   "outputs": [],
   "source": [
    "!pip install polyline"
   ]
  },
  {
   "cell_type": "code",
   "execution_count": 10,
   "metadata": {},
   "outputs": [],
   "source": [
    "import polyline as poly\n",
    "segment_loc_data = {}\n",
    "for polyline in polylines:\n",
    "    segment_loc_data[polyline] = poly.decode(polylines[polyline])"
   ]
  },
  {
   "cell_type": "code",
   "execution_count": 13,
   "metadata": {},
   "outputs": [],
   "source": [
    "# Save segment location data to a file\n",
    "filename = \"data/segment_location_data.json\"\n",
    "with open(filename,\"w+\") as file:\n",
    "        file.write(json.dumps(segment_loc_data))"
   ]
  },
  {
   "cell_type": "code",
   "execution_count": null,
   "metadata": {},
   "outputs": [],
   "source": []
  }
 ],
 "metadata": {
  "kernelspec": {
   "display_name": "Python 3",
   "language": "python",
   "name": "python3"
  },
  "language_info": {
   "codemirror_mode": {
    "name": "ipython",
    "version": 3
   },
   "file_extension": ".py",
   "mimetype": "text/x-python",
   "name": "python",
   "nbconvert_exporter": "python",
   "pygments_lexer": "ipython3",
   "version": "3.10.9"
  },
  "orig_nbformat": 4,
  "vscode": {
   "interpreter": {
    "hash": "f7d6fef4803a87b6bf8f046c08ccb2d01bfe26e59291b0f299e6bb7968c27f7f"
   }
  }
 },
 "nbformat": 4,
 "nbformat_minor": 2
}
