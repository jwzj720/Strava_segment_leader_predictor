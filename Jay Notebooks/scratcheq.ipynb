{
 "cells": [
  {
   "cell_type": "code",
   "execution_count": 1,
   "id": "4b1894d8",
   "metadata": {},
   "outputs": [],
   "source": [
    "import matplotlib.pyplot as pp"
   ]
  },
  {
   "cell_type": "code",
   "execution_count": 2,
   "id": "2130a1c1",
   "metadata": {},
   "outputs": [],
   "source": [
    "class synthdata():\n",
    "    def __init__(self,weight,rate):\n",
    "        self.a = weight\n",
    "        self.b = 1\n",
    "        self.spm = rate\n",
    "        #expecting a = Riegel weight, spm = seconds per mile\n",
    "        print(\"creating synthetic data source with weight \"+str(weight)+\", rate \"+str(rate))\n",
    "              \n",
    "    def time_to_dist(self,time): #assuming time = total seconds\n",
    "        dist = self.a / time # eventually have RHS to to root self.b\n",
    "        return dist\n",
    "             \n",
    "    def dist_to_time(self,dist): #assuming dist = # miles\n",
    "        time = self.a * (dist ** self.b)\n",
    "        return time\n",
    "              \n",
    "    def tuple_from_time(self,time): #assuming time = total seconds\n",
    "        return (self.time_to_dist(time),time)\n",
    "\n",
    "    def tuple_from_dist(self,dist): #assuming dist = # miles\n",
    "        return (self.dist,dist_to_time(dist))\n"
   ]
  },
  {
   "cell_type": "code",
   "execution_count": 3,
   "id": "b2897e47",
   "metadata": {},
   "outputs": [
    {
     "name": "stdout",
     "output_type": "stream",
     "text": [
      "creating synthetic data source with weight 1.08, rate 270\n",
      "creating synthetic data source with weight 1.06, rate 255\n",
      "creating synthetic data source with weight 1.05, rate 300\n"
     ]
    }
   ],
   "source": [
    "class s2():\n",
    "    def __init__(self,weight,rate):\n",
    "        self.a = weight\n",
    "        self.b = 1\n",
    "        self.spm = rate\n",
    "        #expecting a = Riegel weight, spm = seconds per mile\n",
    "        print(\"creating synthetic data source with weight \"+str(weight)+\", rate \"+str(rate))\n",
    "              \n",
    "    def time_to_dist(self,time): #assuming time = total seconds\n",
    "        dist = time/self.spm\n",
    "        return dist             \n",
    "    def dist_to_time(self,dist): #assuming dist = # miles\n",
    "        time = dist*self.spm\n",
    "        return time\n",
    "    \n",
    "    def tuple_from_time(self,time): #assuming time = total seconds\n",
    "        return (self.time_to_dist(time),time)\n",
    "    def tuple_from_dist(self,dist): #assuming dist = # miles\n",
    "        return (dist,self.dist_to_time(dist))\n",
    "    \n",
    "runner1 = synthdata(1.08,270) #better a, slower mile\n",
    "runner2 = synthdata(1.06,255) #faster b, faster mile\n",
    "runner0 = synthdata(1.05,300) #5 minute mile, supposedly below average distance ability"
   ]
  },
  {
   "cell_type": "code",
   "execution_count": 15,
   "id": "d0228bf6",
   "metadata": {},
   "outputs": [],
   "source": [
    "def curves_plot(curves):\n",
    "    count = 0\n",
    "    for c in curves:\n",
    "        count+=1\n",
    "        pp.plot(c,marker=\"o\")\n",
    "    pp.show()\n",
    "    \n",
    "def curve_gen(runner,min_dist,max_dist,step):\n",
    "    points = []\n",
    "    for i in range(min_dist,max_dist+1,step):\n",
    "        time = runner.dist_to_time(i)\n",
    "        points.append(time)\n",
    "        #print(time)\n",
    "    #print(points)\n",
    "    return points\n",
    "\n",
    "def curve_gen_halves(runner,min_dist,max_dist,step):\n",
    "    points = []\n",
    "    for i in range(min_dist,max_dist+1,step):\n",
    "        halftime = runner.dist_to_time(i-0.5)\n",
    "        points.append(halftime)\n",
    "        time = runner.dist_to_time(i)\n",
    "        points.append(time)\n",
    "        #print(time)\n",
    "    #print(points)\n",
    "    return points"
   ]
  },
  {
   "cell_type": "code",
   "execution_count": 16,
   "id": "ad5cda50",
   "metadata": {},
   "outputs": [
    {
     "name": "stdout",
     "output_type": "stream",
     "text": [
      "creating synthetic data source with weight 1, rate 300\n",
      "creating synthetic data source with weight 1, rate 285\n",
      "creating synthetic data source with weight 1, rate 270\n",
      "creating synthetic data source with weight 1, rate 255\n"
     ]
    }
   ],
   "source": [
    "r1 = s2(1,300) #\"fr\"\n",
    "r2 = s2(1,285) #\"so\"\n",
    "r3 = s2(1,270) #\"jr\"\n",
    "r4 = s2(1,255) #\"sr\""
   ]
  },
  {
   "cell_type": "code",
   "execution_count": 17,
   "id": "0a996f76",
   "metadata": {},
   "outputs": [
    {
     "data": {
      "text/plain": [
       "(1, 300)"
      ]
     },
     "execution_count": 17,
     "metadata": {},
     "output_type": "execute_result"
    }
   ],
   "source": [
    "r1.tuple_from_dist(1)"
   ]
  },
  {
   "cell_type": "code",
   "execution_count": 20,
   "id": "745ffcd1",
   "metadata": {},
   "outputs": [
    {
     "name": "stdout",
     "output_type": "stream",
     "text": [
      "[150.0, 300, 450.0, 600, 750.0, 900, 1050.0, 1200, 1350.0, 1500]\n",
      "[120, 275, 1.5, 2, 2.5, 930, 3.5, None, 4.5, 1620]\n"
     ]
    },
    {
     "data": {
      "image/png": "[encoded data removed]",
      "text/plain": [
       "<Figure size 432x288 with 1 Axes>"
      ]
     },
     "metadata": {
      "needs_background": "light"
     },
     "output_type": "display_data"
    }
   ],
   "source": [
    "c = curve_gen_halves(r1,1,5,1)\n",
    "#template = [0.5, 1, 1.5, 2, 2.5, 3, 3.5, 4, 4.5, 5]\n",
    "manual = [120, 275, 1.5, 2, 2.5, 930, 3.5, None, 4.5, 1620]\n",
    "rabbit= [None, None, None, None, None, 915, None, None, None, 1573]\n",
    "\n",
    "print(c)\n",
    "print(man)\n",
    "curves_plot([c,manual,rabbit])\n",
    "\n"
   ]
  },
  {
   "cell_type": "code",
   "execution_count": 53,
   "id": "bf8d97ee",
   "metadata": {},
   "outputs": [],
   "source": [
    "def dist_plot(sets):\n",
    "    count = 0\n",
    "    for s in sets:\n",
    "        count+=1\n",
    "        x_data = s[0]\n",
    "        y_data = s[1]\n",
    "        pp.plot(x_data, y_data,marker=\"o\")      \n",
    "\n",
    "        #pp.plot(x_data, y_data, lw = 2, marker=\"o\", alpha = 1)      #color = '#539caf',\n",
    "    pp.show()\n",
    "    \n",
    "    \n",
    "def dist_curve_gen(runner,min_dist,max_dist,step):\n",
    "    \n",
    "    x = []\n",
    "    y = []\n",
    "    \n",
    "    for i in range(min_dist,max_dist+1,step):\n",
    "        \n",
    "        halftime = runner.dist_to_time(i-0.5)\n",
    "        x.append(i-0.5)\n",
    "        y.append(halftime)\n",
    "        \n",
    "        time = runner.dist_to_time(i)\n",
    "        x.append(time)\n",
    "        x.append(time)\n",
    "        \n",
    "    return (x,y)"
   ]
  },
  {
   "cell_type": "code",
   "execution_count": 55,
   "id": "577a5622",
   "metadata": {},
   "outputs": [
    {
     "name": "stdout",
     "output_type": "stream",
     "text": [
      "creating synthetic data source with weight 1, rate 300\n",
      "([0.5, 300, 300, 1.5, 600, 600, 2.5, 900, 900, 3.5, 1200, 1200, 4.5, 1500, 1500], [150.0, 450.0, 750.0, 1050.0, 1350.0])\n"
     ]
    },
    {
     "ename": "ValueError",
     "evalue": "x and y must have same first dimension, but have shapes (15,) and (5,)",
     "output_type": "error",
     "traceback": [
      "\u001b[0;31m---------------------------------------------------------------------------\u001b[0m",
      "\u001b[0;31mValueError\u001b[0m                                Traceback (most recent call last)",
      "\u001b[0;32m<ipython-input-55-2e07f955106c>\u001b[0m in \u001b[0;36m<module>\u001b[0;34m\u001b[0m\n\u001b[1;32m      3\u001b[0m \u001b[0;31m#jay1 = [(0.5,120),(1,275),(2,600)(3,930),(5,1610)]\u001b[0m\u001b[0;34m\u001b[0m\u001b[0;34m\u001b[0m\u001b[0;34m\u001b[0m\u001b[0m\n\u001b[1;32m      4\u001b[0m \u001b[0mprint\u001b[0m\u001b[0;34m(\u001b[0m\u001b[0mset1\u001b[0m\u001b[0;34m)\u001b[0m\u001b[0;34m\u001b[0m\u001b[0;34m\u001b[0m\u001b[0m\n\u001b[0;32m----> 5\u001b[0;31m \u001b[0mdist_plot\u001b[0m\u001b[0;34m(\u001b[0m\u001b[0;34m[\u001b[0m\u001b[0mset1\u001b[0m\u001b[0;34m]\u001b[0m\u001b[0;34m)\u001b[0m\u001b[0;34m\u001b[0m\u001b[0;34m\u001b[0m\u001b[0m\n\u001b[0m\u001b[1;32m      6\u001b[0m \u001b[0;34m\u001b[0m\u001b[0m\n\u001b[1;32m      7\u001b[0m \u001b[0;34m\u001b[0m\u001b[0m\n",
      "\u001b[0;32m<ipython-input-53-14cd63209c04>\u001b[0m in \u001b[0;36mdist_plot\u001b[0;34m(sets)\u001b[0m\n\u001b[1;32m      5\u001b[0m         \u001b[0mx_data\u001b[0m \u001b[0;34m=\u001b[0m \u001b[0ms\u001b[0m\u001b[0;34m[\u001b[0m\u001b[0;36m0\u001b[0m\u001b[0;34m]\u001b[0m\u001b[0;34m\u001b[0m\u001b[0;34m\u001b[0m\u001b[0m\n\u001b[1;32m      6\u001b[0m         \u001b[0my_data\u001b[0m \u001b[0;34m=\u001b[0m \u001b[0ms\u001b[0m\u001b[0;34m[\u001b[0m\u001b[0;36m1\u001b[0m\u001b[0;34m]\u001b[0m\u001b[0;34m\u001b[0m\u001b[0;34m\u001b[0m\u001b[0m\n\u001b[0;32m----> 7\u001b[0;31m         \u001b[0mpp\u001b[0m\u001b[0;34m.\u001b[0m\u001b[0mplot\u001b[0m\u001b[0;34m(\u001b[0m\u001b[0mx_data\u001b[0m\u001b[0;34m,\u001b[0m \u001b[0my_data\u001b[0m\u001b[0;34m,\u001b[0m\u001b[0mmarker\u001b[0m\u001b[0;34m=\u001b[0m\u001b[0;34m\"o\"\u001b[0m\u001b[0;34m)\u001b[0m\u001b[0;34m\u001b[0m\u001b[0;34m\u001b[0m\u001b[0m\n\u001b[0m\u001b[1;32m      8\u001b[0m \u001b[0;34m\u001b[0m\u001b[0m\n\u001b[1;32m      9\u001b[0m         \u001b[0;31m#pp.plot(x_data, y_data, lw = 2, marker=\"o\", alpha = 1)      #color = '#539caf',\u001b[0m\u001b[0;34m\u001b[0m\u001b[0;34m\u001b[0m\u001b[0;34m\u001b[0m\u001b[0m\n",
      "\u001b[0;32m~/opt/anaconda3/lib/python3.8/site-packages/matplotlib/pyplot.py\u001b[0m in \u001b[0;36mplot\u001b[0;34m(scalex, scaley, data, *args, **kwargs)\u001b[0m\n\u001b[1;32m   2838\u001b[0m \u001b[0;34m@\u001b[0m\u001b[0m_copy_docstring_and_deprecators\u001b[0m\u001b[0;34m(\u001b[0m\u001b[0mAxes\u001b[0m\u001b[0;34m.\u001b[0m\u001b[0mplot\u001b[0m\u001b[0;34m)\u001b[0m\u001b[0;34m\u001b[0m\u001b[0;34m\u001b[0m\u001b[0m\n\u001b[1;32m   2839\u001b[0m \u001b[0;32mdef\u001b[0m \u001b[0mplot\u001b[0m\u001b[0;34m(\u001b[0m\u001b[0;34m*\u001b[0m\u001b[0margs\u001b[0m\u001b[0;34m,\u001b[0m \u001b[0mscalex\u001b[0m\u001b[0;34m=\u001b[0m\u001b[0;32mTrue\u001b[0m\u001b[0;34m,\u001b[0m \u001b[0mscaley\u001b[0m\u001b[0;34m=\u001b[0m\u001b[0;32mTrue\u001b[0m\u001b[0;34m,\u001b[0m \u001b[0mdata\u001b[0m\u001b[0;34m=\u001b[0m\u001b[0;32mNone\u001b[0m\u001b[0;34m,\u001b[0m \u001b[0;34m**\u001b[0m\u001b[0mkwargs\u001b[0m\u001b[0;34m)\u001b[0m\u001b[0;34m:\u001b[0m\u001b[0;34m\u001b[0m\u001b[0;34m\u001b[0m\u001b[0m\n\u001b[0;32m-> 2840\u001b[0;31m     return gca().plot(\n\u001b[0m\u001b[1;32m   2841\u001b[0m         \u001b[0;34m*\u001b[0m\u001b[0margs\u001b[0m\u001b[0;34m,\u001b[0m \u001b[0mscalex\u001b[0m\u001b[0;34m=\u001b[0m\u001b[0mscalex\u001b[0m\u001b[0;34m,\u001b[0m \u001b[0mscaley\u001b[0m\u001b[0;34m=\u001b[0m\u001b[0mscaley\u001b[0m\u001b[0;34m,\u001b[0m\u001b[0;34m\u001b[0m\u001b[0;34m\u001b[0m\u001b[0m\n\u001b[1;32m   2842\u001b[0m         **({\"data\": data} if data is not None else {}), **kwargs)\n",
      "\u001b[0;32m~/opt/anaconda3/lib/python3.8/site-packages/matplotlib/axes/_axes.py\u001b[0m in \u001b[0;36mplot\u001b[0;34m(self, scalex, scaley, data, *args, **kwargs)\u001b[0m\n\u001b[1;32m   1741\u001b[0m         \"\"\"\n\u001b[1;32m   1742\u001b[0m         \u001b[0mkwargs\u001b[0m \u001b[0;34m=\u001b[0m \u001b[0mcbook\u001b[0m\u001b[0;34m.\u001b[0m\u001b[0mnormalize_kwargs\u001b[0m\u001b[0;34m(\u001b[0m\u001b[0mkwargs\u001b[0m\u001b[0;34m,\u001b[0m \u001b[0mmlines\u001b[0m\u001b[0;34m.\u001b[0m\u001b[0mLine2D\u001b[0m\u001b[0;34m)\u001b[0m\u001b[0;34m\u001b[0m\u001b[0;34m\u001b[0m\u001b[0m\n\u001b[0;32m-> 1743\u001b[0;31m         \u001b[0mlines\u001b[0m \u001b[0;34m=\u001b[0m \u001b[0;34m[\u001b[0m\u001b[0;34m*\u001b[0m\u001b[0mself\u001b[0m\u001b[0;34m.\u001b[0m\u001b[0m_get_lines\u001b[0m\u001b[0;34m(\u001b[0m\u001b[0;34m*\u001b[0m\u001b[0margs\u001b[0m\u001b[0;34m,\u001b[0m \u001b[0mdata\u001b[0m\u001b[0;34m=\u001b[0m\u001b[0mdata\u001b[0m\u001b[0;34m,\u001b[0m \u001b[0;34m**\u001b[0m\u001b[0mkwargs\u001b[0m\u001b[0;34m)\u001b[0m\u001b[0;34m]\u001b[0m\u001b[0;34m\u001b[0m\u001b[0;34m\u001b[0m\u001b[0m\n\u001b[0m\u001b[1;32m   1744\u001b[0m         \u001b[0;32mfor\u001b[0m \u001b[0mline\u001b[0m \u001b[0;32min\u001b[0m \u001b[0mlines\u001b[0m\u001b[0;34m:\u001b[0m\u001b[0;34m\u001b[0m\u001b[0;34m\u001b[0m\u001b[0m\n\u001b[1;32m   1745\u001b[0m             \u001b[0mself\u001b[0m\u001b[0;34m.\u001b[0m\u001b[0madd_line\u001b[0m\u001b[0;34m(\u001b[0m\u001b[0mline\u001b[0m\u001b[0;34m)\u001b[0m\u001b[0;34m\u001b[0m\u001b[0;34m\u001b[0m\u001b[0m\n",
      "\u001b[0;32m~/opt/anaconda3/lib/python3.8/site-packages/matplotlib/axes/_base.py\u001b[0m in \u001b[0;36m__call__\u001b[0;34m(self, data, *args, **kwargs)\u001b[0m\n\u001b[1;32m    271\u001b[0m                 \u001b[0mthis\u001b[0m \u001b[0;34m+=\u001b[0m \u001b[0margs\u001b[0m\u001b[0;34m[\u001b[0m\u001b[0;36m0\u001b[0m\u001b[0;34m]\u001b[0m\u001b[0;34m,\u001b[0m\u001b[0;34m\u001b[0m\u001b[0;34m\u001b[0m\u001b[0m\n\u001b[1;32m    272\u001b[0m                 \u001b[0margs\u001b[0m \u001b[0;34m=\u001b[0m \u001b[0margs\u001b[0m\u001b[0;34m[\u001b[0m\u001b[0;36m1\u001b[0m\u001b[0;34m:\u001b[0m\u001b[0;34m]\u001b[0m\u001b[0;34m\u001b[0m\u001b[0;34m\u001b[0m\u001b[0m\n\u001b[0;32m--> 273\u001b[0;31m             \u001b[0;32myield\u001b[0m \u001b[0;32mfrom\u001b[0m \u001b[0mself\u001b[0m\u001b[0;34m.\u001b[0m\u001b[0m_plot_args\u001b[0m\u001b[0;34m(\u001b[0m\u001b[0mthis\u001b[0m\u001b[0;34m,\u001b[0m \u001b[0mkwargs\u001b[0m\u001b[0;34m)\u001b[0m\u001b[0;34m\u001b[0m\u001b[0;34m\u001b[0m\u001b[0m\n\u001b[0m\u001b[1;32m    274\u001b[0m \u001b[0;34m\u001b[0m\u001b[0m\n\u001b[1;32m    275\u001b[0m     \u001b[0;32mdef\u001b[0m \u001b[0mget_next_color\u001b[0m\u001b[0;34m(\u001b[0m\u001b[0mself\u001b[0m\u001b[0;34m)\u001b[0m\u001b[0;34m:\u001b[0m\u001b[0;34m\u001b[0m\u001b[0;34m\u001b[0m\u001b[0m\n",
      "\u001b[0;32m~/opt/anaconda3/lib/python3.8/site-packages/matplotlib/axes/_base.py\u001b[0m in \u001b[0;36m_plot_args\u001b[0;34m(self, tup, kwargs)\u001b[0m\n\u001b[1;32m    397\u001b[0m \u001b[0;34m\u001b[0m\u001b[0m\n\u001b[1;32m    398\u001b[0m         \u001b[0;32mif\u001b[0m \u001b[0mx\u001b[0m\u001b[0;34m.\u001b[0m\u001b[0mshape\u001b[0m\u001b[0;34m[\u001b[0m\u001b[0;36m0\u001b[0m\u001b[0;34m]\u001b[0m \u001b[0;34m!=\u001b[0m \u001b[0my\u001b[0m\u001b[0;34m.\u001b[0m\u001b[0mshape\u001b[0m\u001b[0;34m[\u001b[0m\u001b[0;36m0\u001b[0m\u001b[0;34m]\u001b[0m\u001b[0;34m:\u001b[0m\u001b[0;34m\u001b[0m\u001b[0;34m\u001b[0m\u001b[0m\n\u001b[0;32m--> 399\u001b[0;31m             raise ValueError(f\"x and y must have same first dimension, but \"\n\u001b[0m\u001b[1;32m    400\u001b[0m                              f\"have shapes {x.shape} and {y.shape}\")\n\u001b[1;32m    401\u001b[0m         \u001b[0;32mif\u001b[0m \u001b[0mx\u001b[0m\u001b[0;34m.\u001b[0m\u001b[0mndim\u001b[0m \u001b[0;34m>\u001b[0m \u001b[0;36m2\u001b[0m \u001b[0;32mor\u001b[0m \u001b[0my\u001b[0m\u001b[0;34m.\u001b[0m\u001b[0mndim\u001b[0m \u001b[0;34m>\u001b[0m \u001b[0;36m2\u001b[0m\u001b[0;34m:\u001b[0m\u001b[0;34m\u001b[0m\u001b[0;34m\u001b[0m\u001b[0m\n",
      "\u001b[0;31mValueError\u001b[0m: x and y must have same first dimension, but have shapes (15,) and (5,)"
     ]
    },
    {
     "data": {
      "image/png": "[encoded data removed]",
      "text/plain": [
       "<Figure size 432x288 with 1 Axes>"
      ]
     },
     "metadata": {
      "needs_background": "light"
     },
     "output_type": "display_data"
    }
   ],
   "source": [
    "fr1 = s2(1,300) #5 min mile, linear\n",
    "set1 = dist_curve_gen(fr1,1,5,1)\n",
    "#jay1 = [(0.5,120),(1,275),(2,600)(3,930),(5,1610)]\n",
    "print(set1)\n",
    "dist_plot([set1])\n",
    "\n",
    "\n"
   ]
  },
  {
   "cell_type": "code",
   "execution_count": 48,
   "id": "41873201",
   "metadata": {},
   "outputs": [
    {
     "data": {
      "image/png": "[encoded data removed]",
      "text/plain": [
       "<Figure size 432x288 with 1 Axes>"
      ]
     },
     "metadata": {
      "needs_background": "light"
     },
     "output_type": "display_data"
    }
   ],
   "source": [
    "miniset = [(1,10),(2,40),(10,10)]\n",
    "dist_plot([miniset])"
   ]
  },
  {
   "cell_type": "code",
   "execution_count": 57,
   "id": "cca4a399",
   "metadata": {},
   "outputs": [
    {
     "ename": "SyntaxError",
     "evalue": "invalid syntax (<ipython-input-57-a005a2cdbde5>, line 1)",
     "output_type": "error",
     "traceback": [
      "\u001b[0;36m  File \u001b[0;32m\"<ipython-input-57-a005a2cdbde5>\"\u001b[0;36m, line \u001b[0;32m1\u001b[0m\n\u001b[0;31m    option 1 - go based on existing data, non tryheard\u001b[0m\n\u001b[0m           ^\u001b[0m\n\u001b[0;31mSyntaxError\u001b[0m\u001b[0;31m:\u001b[0m invalid syntax\n"
     ]
    }
   ],
   "source": [
    "option 1 - go based on existing data, non tryheard\n",
    "option 2 - try to weed out whats best and make a prediction based on potential"
   ]
  },
  {
   "cell_type": "code",
   "execution_count": null,
   "id": "52f9120c",
   "metadata": {},
   "outputs": [],
   "source": []
  }
 ],
 "metadata": {
  "kernelspec": {
   "display_name": "Python 3",
   "language": "python",
   "name": "python3"
  },
  "language_info": {
   "codemirror_mode": {
    "name": "ipython",
    "version": 3
   },
   "file_extension": ".py",
   "mimetype": "text/x-python",
   "name": "python",
   "nbconvert_exporter": "python",
   "pygments_lexer": "ipython3",
   "version": "3.8.8"
  }
 },
 "nbformat": 4,
 "nbformat_minor": 5
}
