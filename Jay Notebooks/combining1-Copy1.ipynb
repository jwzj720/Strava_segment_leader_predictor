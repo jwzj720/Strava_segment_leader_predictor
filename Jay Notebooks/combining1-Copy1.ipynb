{
 "cells": [
  {
   "cell_type": "code",
   "execution_count": 1,
   "id": "2155e042",
   "metadata": {},
   "outputs": [],
   "source": [
    "import numpy as np\n",
    "import matplotlib.pyplot as pp\n",
    "import math as ma"
   ]
  },
  {
   "cell_type": "code",
   "execution_count": null,
   "id": "cdc32059",
   "metadata": {},
   "outputs": [],
   "source": []
  },
  {
   "cell_type": "code",
   "execution_count": null,
   "id": "1e58bb93",
   "metadata": {},
   "outputs": [],
   "source": [
    "#Note: try plotting worst and best curve, then determining distance from average. Could modify average curve and just select based on side of line"
   ]
  },
  {
   "cell_type": "code",
   "execution_count": 2,
   "id": "bdc0a756",
   "metadata": {},
   "outputs": [],
   "source": [
    "#from eq6 - predict time or pace for run given set of previous efforts\n",
    "def predict_pace(dt_pairs,distance): #expects [:,1] to be total time, not tpm.  \n",
    "    pace_pairs = dt_to_spm(dt_pairs) # (distance,spm)\n",
    "    eq6 = pacefit_pace(pace_pairs)\n",
    "    return(eq6(distance))\n",
    "\n",
    "def get_fit_eq(dt_pairs): #expects [:,1] to be total time, not tpm.  \n",
    "    pace_pairs = dt_to_spm(dt_pairs) # (distance,spm)\n",
    "    eq6 = pacefit_pace(pace_pairs)\n",
    "    return(eq6)\n",
    "\n",
    "def predict_time(dt_pairs,distance):\n",
    "    return predict_pace(dt_pairs,distance)*distance"
   ]
  },
  {
   "cell_type": "code",
   "execution_count": 3,
   "id": "aa5f36e8",
   "metadata": {},
   "outputs": [],
   "source": [
    "#from eq6 - converts time based coordinate set to pace based, and back\n",
    "\n",
    "def dt_to_spm(old_set):\n",
    "    new_set = []\n",
    "    for old_tuple in old_set:\n",
    "        if old_tuple[0]!=0:\n",
    "            new_tuple = (old_tuple[0],old_tuple[1]/old_tuple[0])\n",
    "            new_set.append(new_tuple)\n",
    "        else:\n",
    "            new_tuple = (old_tuple[0],old_tuple[1]/0.00001)\n",
    "            new_set.append(new_tuple)\n",
    "    return new_set\n",
    "\n",
    "def spm_to_dt(old_set):\n",
    "    new_set = []\n",
    "    for old_tuple in old_set:\n",
    "        new_tuple = (old_tuple[0],old_tuple[1]*old_tuple[0])\n",
    "        new_set.append(new_tuple)\n",
    "    return new_set"
   ]
  },
  {
   "cell_type": "code",
   "execution_count": 25,
   "id": "be5dbe68",
   "metadata": {},
   "outputs": [],
   "source": [
    "#From eq6 - uses pace curve to determine predicted run time. Methods for time and pace based\n",
    "def pacefit_times(times):\n",
    "    paces = dt_to_spm(times)\n",
    "    paces_np = np.array(paces)\n",
    "    return pf3(paces_np)\n",
    "\n",
    "def pacefit_pace(paces):\n",
    "    paces_np = np.array(paces)\n",
    "    return pf3(paces_np)\n",
    "\n",
    "def pf3(distance_pace):\n",
    "    x = distance_pace[:,0]  #get x from tuples\n",
    "    y = distance_pace[:,1]  #get y from tuples\n",
    "    p = np.polyfit(x, y, 2) #get polyfit outcome\n",
    "    f = np.poly1d(p)        #get function\n",
    "    return f"
   ]
  },
  {
   "cell_type": "code",
   "execution_count": null,
   "id": "260818b8",
   "metadata": {},
   "outputs": [],
   "source": []
  },
  {
   "cell_type": "code",
   "execution_count": null,
   "id": "4482df0a",
   "metadata": {},
   "outputs": [],
   "source": []
  },
  {
   "cell_type": "code",
   "execution_count": 5,
   "id": "9ec740f9",
   "metadata": {},
   "outputs": [],
   "source": [
    "#from eq5 - plot run efforts by time or pace\n",
    "\n",
    "def pacelines(paces):\n",
    "    for pace in paces:\n",
    "        pp.plot([0,6],[pace*60,pace*60],lw='2',color = '#aaaaaa')\n",
    "        \n",
    "def altgraph(tuples):\n",
    "    pacelines([3,4,5,6])\n",
    "    xdata = []\n",
    "    ydata = []\n",
    "    for t in tuples:\n",
    "        xdata.append(t[0])\n",
    "        ydata.append(t[1]/(t[0]+0.00001))\n",
    "    print(xdata)\n",
    "    print(ydata)\n",
    "    pp.scatter(xdata,ydata)\n",
    "    pp.show()\n",
    "\n",
    "def plot_dpr_paces(sets):\n",
    "    pacelines([3,4,5,6])\n",
    "    count = 0\n",
    "    for s in sets:\n",
    "        count+=1\n",
    "        xdata = []\n",
    "        ydata = []\n",
    "        for ss in s:\n",
    "            xdata.append(ss[0])\n",
    "            if ss[0]==0:\n",
    "                ydata.append(ss[1]/0.00001)\n",
    "            else:\n",
    "                ydata.append(ss[1]/ss[0])\n",
    "            \n",
    "        pp.scatter(xdata,ydata,marker=\"o\",color = getcolor(count))\n",
    "        #pp.plot(xdata,ydata,lw='2',marker=\"o\",color = getcolor(count))\n",
    "    pp.title(\"Expected pace from distance\") \n",
    "    pp.show()\n",
    "    \n",
    "def plot_tfd_times(sets):\n",
    "    count = 0\n",
    "    for s in sets:\n",
    "        count+=1\n",
    "        xdata = []\n",
    "        ydata = []\n",
    "        for ss in s:\n",
    "            xdata.append(ss[0])            \n",
    "            ydata.append(ss[1])\n",
    "        pp.scatter(xdata,ydata,marker=\"o\",color = getcolor(count))\n",
    "\n",
    "        #pp.plot(xdata,ydata,lw='2',marker=\"o\",color = getcolor(count))\n",
    "    pp.title(\"Plotting time against distance\") \n",
    "\n",
    "    pp.show()\n",
    "\n",
    "    \n",
    "def getcolor(i):\n",
    "    if i==None:\n",
    "        return hex6()\n",
    "    elif i==-1:\n",
    "        return 'black'\n",
    "    elif i==1:\n",
    "        return 'red'\n",
    "    elif i==2:\n",
    "        return 'blue'\n",
    "    elif i==3:\n",
    "        return 'green'\n",
    "    elif i==4:\n",
    "        return 'purple'\n",
    "    elif i==5:\n",
    "        return 'orange'\n",
    "    else:\n",
    "        return 'gray'\n",
    "\n",
    "def hex6():    \n",
    "    col = '#'\n",
    "    while len(col)<7:\n",
    "        val = ra.randint(0,15)\n",
    "        if val<10:\n",
    "            col+=str(val)\n",
    "        else:\n",
    "            col+=chr(87+val)\n",
    "    return col\n",
    "\n",
    "def ms(minutes,seconds):\n",
    "    return (minutes*60)+seconds\n",
    "\n",
    "def hms(hours,minutes,seconds):\n",
    "    return (hours*3600)+(minutes*60)+seconds\n",
    "        "
   ]
  },
  {
   "cell_type": "code",
   "execution_count": null,
   "id": "6e664eae",
   "metadata": {},
   "outputs": [],
   "source": []
  },
  {
   "cell_type": "code",
   "execution_count": null,
   "id": "03fcb57a",
   "metadata": {},
   "outputs": [],
   "source": []
  },
  {
   "cell_type": "code",
   "execution_count": 6,
   "id": "ddf9df73",
   "metadata": {},
   "outputs": [],
   "source": [
    "#from eq8 - selects and uses data points that offer fastest pace curve. Simplified and modified here\n",
    "class curator():\n",
    "    def __init__(self):\n",
    "        print(\"creating data point curator\")\n",
    "        self.activities = []\n",
    "        \n",
    "        self.included = []\n",
    "        self.excluded = []\n",
    "            \n",
    "            \n",
    "    def add_data(self,act):\n",
    "        self.activities.append(act)\n",
    "        #if len(self.activities)>=3: \n",
    "            #print(\"skipping auto-evaluate. currently only prompting manually\")\n",
    "            #print(len(self.activities))\n",
    "            #self.evaluate_all()\n",
    "            \n",
    "    def evaluate_all(self):\n",
    "        if len(self.activities)<3:\n",
    "            print(\"Not enough data points. Add more activities\")\n",
    "            return\n",
    "            \n",
    "        points = []\n",
    "        \n",
    "        for a in self.activities:\n",
    "            points.append(a.use())\n",
    "            \n",
    "        standard = predict_time(points,1)\n",
    "        print(\"evaluation standard: \"+str(standard))\n",
    "        \n",
    "        \n",
    "        for i in range(len(points)):\n",
    "            graphable = points[:i]+points[i+1:]\n",
    "            prediction = predict_time(graphable,1)\n",
    "            #value = (standard - prediction)/standard this worked but minimizes differences, making comparisons less effective\n",
    "            value = standard - prediction\n",
    "            \n",
    "            self.activities[i].value = value\n",
    "            print(\"(\"+str(self.activities[i].d)+\"/\"+str(self.activities[i].t)+\") has estimated value of \"+str(value))\n",
    "        val_sort(self.activities)\n",
    "        \n",
    "        \n",
    "    def value_plot(self,portion):\n",
    "        if portion>1 or portion<0:\n",
    "            print(\"invalid slice, defaulting to .5\")\n",
    "            portion=0.5\n",
    "        divider = int(len(self.activities) * portion)\n",
    "        \n",
    "        slowlist = self.activities[0:divider-1]\n",
    "        fastlist = self.activities[divider:]\n",
    "        \n",
    "        self.included = fastlist\n",
    "        self.excluded = slowlist\n",
    "        \n",
    "        for i in range(len(slowlist)):\n",
    "            slowlist[i] = slowlist[i].use()\n",
    "            \n",
    "        for i in range(len(fastlist)):\n",
    "            fastlist[i] = fastlist[i].use()\n",
    "            \n",
    "            \n",
    "        \n",
    "            \n",
    "        plot_tfd_times([fastlist,slowlist])\n",
    "        \n",
    "        \n"
   ]
  },
  {
   "cell_type": "code",
   "execution_count": 7,
   "id": "223aa4f8",
   "metadata": {},
   "outputs": [],
   "source": [
    "#from eq8 - represents a single activity along with curation value. Simplified and modified here\n",
    "\n",
    "class activity():\n",
    "    def __init__(self,dist,time):\n",
    "        #self.using = False\n",
    "        self.value = 1\n",
    "        \n",
    "        self.d = dist\n",
    "        self.t = time\n",
    "        self.spm = time/dist\n",
    "        \n",
    "    def use(self): #return graphable coordinate pair\n",
    "        return (self.d,self.spm)"
   ]
  },
  {
   "cell_type": "code",
   "execution_count": 8,
   "id": "dd9f2253",
   "metadata": {},
   "outputs": [],
   "source": [
    "#sorts activity array by value\n",
    "def val_sort(arr):\n",
    "    s = val_split(arr,0,len(arr)-1)\n",
    "    val_sort2(arr,s+1,len(arr)-1)\n",
    "    val_sort2(arr,0,s-1)\n",
    "    return arr\n",
    "\n",
    "def val_sort2(arr, _min, _max):\n",
    "    if _min<_max:\n",
    "        s = val_split(arr,_min,_max)\n",
    "        val_sort2(arr,s+1,_max)\n",
    "        val_sort2(arr,_min,s-1)\n",
    "    return arr\n",
    "\n",
    "def val_split(arr, min, max):\n",
    "    pivot = arr[max]\n",
    "    #print(arr)\n",
    "    #pivot = arr[len(arr)-1]\n",
    "    i = min - 1\n",
    "    for j in range(min, max):\n",
    "        if arr[j].value <= pivot.value:\n",
    "            i+=1\n",
    "            (arr[i], arr[j]) = (arr[j], arr[i])\n",
    "    (arr[i + 1], arr[max]) = (arr[max], arr[i + 1])\n",
    "    return i+1"
   ]
  },
  {
   "cell_type": "code",
   "execution_count": null,
   "id": "bff0fcc2",
   "metadata": {},
   "outputs": [],
   "source": [
    "\n"
   ]
  },
  {
   "cell_type": "code",
   "execution_count": 9,
   "id": "f4c9af19",
   "metadata": {},
   "outputs": [
    {
     "name": "stdout",
     "output_type": "stream",
     "text": [
      "creating data point curator\n"
     ]
    }
   ],
   "source": [
    "wr_set = [(0.25, 43),(0.5, 101),(1, 223),(2, 478),(3.1, 750),(4.97, 1264)] # world records 400m to 5000m\n",
    "jm_set = [(0.25, 54),(0.5, 120),(1, 275),(2, 600),(3.1, 960),(4.97, 1610)] # ya boy\n",
    "ms_set = [(0.25, 55),(0.5, 121),(1, 272),         (3.1, 925),(4.97, 1560)] # max, naturally\n",
    "\n",
    "allsets = wr_set + jm_set + ms_set\n",
    "\n",
    "dup_set = [(0.25, 54),(0.25, 56),(0.5, 120),(0.5, 130),(1, 275),(1, 280),(2, 600),(2, 610),(3.1, 960),(3.2, 960),(4.97, 1610),(4.97, 1620)] # ya boy\n",
    "\n",
    "\n",
    "\n",
    "c = curator()\n",
    "for j in dup_set:\n",
    "    c.add_data(activity(j[0],j[1]))\n"
   ]
  },
  {
   "cell_type": "code",
   "execution_count": 16,
   "id": "d6a8e8db",
   "metadata": {},
   "outputs": [
    {
     "name": "stdout",
     "output_type": "stream",
     "text": [
      "evaluation standard: 303.653020313619\n",
      "(0.5/120) has estimated value of -16.950493494739817\n",
      "(0.5/130) has estimated value of -11.090553960753596\n",
      "(1/275) has estimated value of -9.87879836861373\n",
      "(1/280) has estimated value of -8.1549315195889\n",
      "(0.25/56) has estimated value of -0.45092204890818266\n",
      "(0.25/54) has estimated value of -0.3011564551837864\n",
      "(4.97/1610) has estimated value of 0.11298742866983957\n",
      "(4.97/1620) has estimated value of 0.1217057300898432\n",
      "(3.1/960) has estimated value of 4.011177954229424\n",
      "(3.2/960) has estimated value of 8.671383704109076\n",
      "(2/600) has estimated value of 20.240609391684984\n",
      "(2/610) has estimated value of 20.925922701100376\n"
     ]
    },
    {
     "data": {
      "image/png": "[encoded data removed]",
      "text/plain": [
       "<Figure size 432x288 with 1 Axes>"
      ]
     },
     "metadata": {
      "needs_background": "light"
     },
     "output_type": "display_data"
    },
    {
     "data": {
      "image/png": "[encoded data removed]",
      "text/plain": [
       "<Figure size 432x288 with 1 Axes>"
      ]
     },
     "metadata": {
      "needs_background": "light"
     },
     "output_type": "display_data"
    }
   ],
   "source": [
    "c.evaluate_all()\n",
    "plot_dpr_paces([wr_set,jm_set+ms_set])\n",
    "c.value_plot(.5)"
   ]
  },
  {
   "cell_type": "code",
   "execution_count": 11,
   "id": "fd0c1e7a",
   "metadata": {},
   "outputs": [
    {
     "data": {
      "text/plain": [
       "[(0.25, 216.0), (0.25, 224.0), (0.5, 240.0), (0.5, 260.0), (1, 275.0)]"
      ]
     },
     "execution_count": 11,
     "metadata": {},
     "output_type": "execute_result"
    }
   ],
   "source": [
    "c.excluded"
   ]
  },
  {
   "cell_type": "code",
   "execution_count": 12,
   "id": "5271945b",
   "metadata": {},
   "outputs": [
    {
     "data": {
      "text/plain": [
       "[(2, 300.0),\n",
       " (2, 305.0),\n",
       " (3.1, 309.6774193548387),\n",
       " (3.2, 300.0),\n",
       " (4.97, 323.943661971831),\n",
       " (4.97, 325.95573440643864)]"
      ]
     },
     "execution_count": 12,
     "metadata": {},
     "output_type": "execute_result"
    }
   ],
   "source": [
    "c.included\n"
   ]
  },
  {
   "cell_type": "code",
   "execution_count": 13,
   "id": "7378463e",
   "metadata": {},
   "outputs": [],
   "source": [
    "eq = get_fit_eq(dup_set)"
   ]
  },
  {
   "cell_type": "code",
   "execution_count": 14,
   "id": "c019e9d9",
   "metadata": {},
   "outputs": [
    {
     "data": {
      "image/png": "[encoded data removed]",
      "text/plain": [
       "<Figure size 432x288 with 1 Axes>"
      ]
     },
     "metadata": {
      "needs_background": "light"
     },
     "output_type": "display_data"
    },
    {
     "data": {
      "image/png": "[encoded data removed]",
      "text/plain": [
       "<Figure size 432x288 with 1 Axes>"
      ]
     },
     "metadata": {
      "needs_background": "light"
     },
     "output_type": "display_data"
    }
   ],
   "source": [
    "points = []\n",
    "for i in range (0,5):\n",
    "    points.append((i,eq(i)))\n",
    "plot_dpr_paces([dup_set])\n",
    "plot_dpr_paces([points])\n",
    "\n"
   ]
  },
  {
   "cell_type": "code",
   "execution_count": 24,
   "id": "a07cf753",
   "metadata": {},
   "outputs": [
    {
     "name": "stdout",
     "output_type": "stream",
     "text": [
      "creating data point curator\n",
      "evaluation standard: 282.333737016946\n",
      "(0.25/43) has estimated value of 4.873787781204442\n",
      "(0.5/101) has estimated value of -27.24197917330298\n",
      "(1/223) has estimated value of -28.044866469792396\n",
      "(2/478) has estimated value of 26.44959542197182\n",
      "(3.1/750) has estimated value of 27.73625765191389\n",
      "(4.97/1264) has estimated value of 27.247818477933947\n",
      "(0.25/60) has estimated value of -10.563645502070699\n",
      "(0.5/150) has estimated value of 4.600713398053358\n",
      "(1/350) has estimated value of 31.983343798618193\n"
     ]
    },
    {
     "data": {
      "image/png": "[encoded data removed]",
      "text/plain": [
       "<Figure size 432x288 with 1 Axes>"
      ]
     },
     "metadata": {
      "needs_background": "light"
     },
     "output_type": "display_data"
    }
   ],
   "source": [
    "wr_set = [(0.25, 43),(0.5, 101),(1, 223),(2, 478),(3.1, 750),(4.97, 1264)] # world records 400m to 5000m\n",
    "jm_set = [(0.25, 54),(0.5, 120),(1, 275),(2, 600),(3.1, 960),(4.97, 1610)] # ya boy\n",
    "ms_set = [(0.25, 55),(0.5, 121),(1, 272),         (3.1, 925),(4.97, 1560)] # max, naturally\n",
    "\n",
    "allsets = wr_set + jm_set + ms_set\n",
    "\n",
    "dup_set = [(0.25, 54),(0.25, 56),(0.5, 120),(0.5, 130),(1, 275),(1, 280),(2, 600),(2, 610),(3.1, 960),(3.2, 960),(4.97, 1610),(4.97, 1620)] # ya boy\n",
    "\n",
    "\n",
    "\n",
    "c = curator()\n",
    "wr_set+=[(0.25, 60),(0.5, 150),(1, 350)] \n",
    "for j in wr_set:\n",
    "    c.add_data(activity(j[0],j[1]))\n",
    "c.evaluate_all()\n",
    "c.value_plot(.5)"
   ]
  },
  {
   "cell_type": "code",
   "execution_count": null,
   "id": "7fd38c71",
   "metadata": {},
   "outputs": [],
   "source": []
  }
 ],
 "metadata": {
  "kernelspec": {
   "display_name": "Python 3",
   "language": "python",
   "name": "python3"
  },
  "language_info": {
   "codemirror_mode": {
    "name": "ipython",
    "version": 3
   },
   "file_extension": ".py",
   "mimetype": "text/x-python",
   "name": "python",
   "nbconvert_exporter": "python",
   "pygments_lexer": "ipython3",
   "version": "3.8.8"
  }
 },
 "nbformat": 4,
 "nbformat_minor": 5
}
