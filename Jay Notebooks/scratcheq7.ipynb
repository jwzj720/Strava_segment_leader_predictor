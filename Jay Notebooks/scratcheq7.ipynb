{
 "cells": [
  {
   "cell_type": "code",
   "execution_count": 2,
   "id": "cfd97091",
   "metadata": {},
   "outputs": [],
   "source": [
    "#From seq6\n",
    "def pacefit_times(times):\n",
    "    paces = td_to_spm(times)\n",
    "    paces_np = np.array(paces)\n",
    "    return pf3(paces_np)\n",
    "\n",
    "def pacefit_pace(paces):\n",
    "    paces_np = np.array(paces)\n",
    "    return pf3(paces_np)\n",
    "\n",
    "def pf3(distance_pace):\n",
    "    x = distance_pace[:,0]  #get x from tuples\n",
    "    y = distance_pace[:,1]  #get y from tuples\n",
    "    p = np.polyfit(x, y, 3) #get polyfit outcome\n",
    "    f = np.poly1d(p)        #get function\n",
    "    return f"
   ]
  },
  {
   "cell_type": "code",
   "execution_count": 6,
   "id": "72a48cc2",
   "metadata": {},
   "outputs": [],
   "source": [
    "def edp(run_tuples):\n",
    "    d = run_tuples[:,0]\n",
    "    t = run_tuples[:,1]\n",
    "    e = run_tuples[:,2]\n",
    "    \n",
    "    out = []\n",
    "    for i in range(len(run_tuples)):\n",
    "        ed = effective_distance(d[i],d[e])\n",
    "        out.append((ed,t))\n",
    "    return out"
   ]
  },
  {
   "cell_type": "code",
   "execution_count": 7,
   "id": "48c0ff89",
   "metadata": {},
   "outputs": [],
   "source": [
    "#From seq6 \n",
    "#this is just so we have the flexibility to change how we factor in elevation or added trail difficulty.\n",
    "def effective_distance(distance,elevation): \n",
    "    mode = 1\n",
    "    if mode == 1: #simply use pythagorean theorem to modify distance\n",
    "        return hyp(distance,elevation)\n",
    "    if mode == 2: #simply use pythagorean theorem to modify distance\n",
    "        GAP = 1 # if we have a good GAP substitute we would replace this with an input value\n",
    "        spm = 1 # expected athlete pace, presumably somewhat less than GAP\n",
    "        return distance*(spm/GAP)\n",
    "    \n",
    "def hyp(a,b):\n",
    "    c_squared = (a**2)+(b**2)\n",
    "    c = ma.sqrt(c_squared)\n",
    "    return c"
   ]
  },
  {
   "cell_type": "code",
   "execution_count": null,
   "id": "4217ac02",
   "metadata": {},
   "outputs": [],
   "source": [
    "pseudo_summary(user_id,segment_id):\n",
    "    segments = api.query(\"request athlete segments from user_id\") #[segment,segment,segment]\n",
    "    for s in segments:\n",
    "        print(\"parse segment data for distance, time and elevation\")#or whatever you'd need to estimate effort miles\n",
    "        print(\"run edp to turn segment data into relevant/plottable tuple\")\n",
    "        for each segment:\n",
    "            print(\"use pf3 to get formula\")#important steps\n",
    "            print(\"use pf3 to get formula\")#important steps\n",
    "            print(\"evaluate points based on contribution to expectation, toggle based on supposed usefulness\")\n",
    "            print(\"could repeat this many, requerying for more runs and building a better set of points \")\n",
    "        \n",
    "        \n",
    "        \n",
    "        \n",
    "    "
   ]
  }
 ],
 "metadata": {
  "kernelspec": {
   "display_name": "Python 3",
   "language": "python",
   "name": "python3"
  },
  "language_info": {
   "codemirror_mode": {
    "name": "ipython",
    "version": 3
   },
   "file_extension": ".py",
   "mimetype": "text/x-python",
   "name": "python",
   "nbconvert_exporter": "python",
   "pygments_lexer": "ipython3",
   "version": "3.8.8"
  }
 },
 "nbformat": 4,
 "nbformat_minor": 5
}
