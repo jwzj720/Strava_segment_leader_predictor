{
 "cells": [
  {
   "cell_type": "code",
   "execution_count": null,
   "id": "d8ba631e",
   "metadata": {},
   "outputs": [],
   "source": [
    "class fakedata():\n",
    "    def __init__(self):\n",
    "        pass\n",
    "    def randomset(n):\n",
    "        a = []\n",
    "        for i in range(n):\n",
    "            a.append(r.randint(0,100))\n",
    "        return a\n",
    "\n",
    "    def roll_avg(old_arr,scale):\n",
    "        new_arr = []\n",
    "        current = []\n",
    "\n",
    "        #iterate through original array\n",
    "        for i in range(len(old_arr)):\n",
    "            #add current value to array for averaging\n",
    "            current.append(old_arr[i])\n",
    "            #if enough values are present (or end has been reached) average values in current and add to new_arr\n",
    "\n",
    "            #if i==len(old_arr)-1:\n",
    "            #    print(\"End segment: \"+str(scale)+\" - \"+str(len(current)))\n",
    "\n",
    "\n",
    "            if len(current)==scale or i==len(old_arr)-1:\n",
    "                new_arr.append(sum(current) / len(current))\n",
    "                current = []\n",
    "\n",
    "        return new_arr\n",
    "\n",
    "    #repeatedly applies roll_avg to an array, option to show for each iteration\n",
    "    def roll_avg_loop(old_arr,scale,iterations,showall):\n",
    "        new_arr = roll_avg(old_arr,scale)\n",
    "        if showall == True or iterations==0:\n",
    "            p.plot(new_arr)\n",
    "            p.show()\n",
    "        if iterations>0:\n",
    "            roll_avg_loop(new_arr,scale,iterations-1,showall)"
   ]
  },
  {
   "cell_type": "code",
   "execution_count": 3,
   "id": "a5634e24",
   "metadata": {},
   "outputs": [],
   "source": [
    "class parser():\n",
    "    def __init__(self,source):\n",
    "        print(\"created parser for \"+source)\n",
    "\n",
    "    def parse_distance(self):\n",
    "        return 10.0\n",
    "    def parse_elevation(self):\n",
    "        return 2\n",
    "        "
   ]
  },
  {
   "cell_type": "code",
   "execution_count": 4,
   "id": "067f6fbf",
   "metadata": {},
   "outputs": [
    {
     "name": "stdout",
     "output_type": "stream",
     "text": [
      "created parser for placeholder\n"
     ]
    },
    {
     "ename": "NameError",
     "evalue": "name 'activities' is not defined",
     "output_type": "error",
     "traceback": [
      "\u001b[0;31m---------------------------------------------------------------------------\u001b[0m",
      "\u001b[0;31mNameError\u001b[0m                                 Traceback (most recent call last)",
      "\u001b[0;32m<ipython-input-4-494fa689e232>\u001b[0m in \u001b[0;36m<module>\u001b[0;34m\u001b[0m\n\u001b[1;32m      2\u001b[0m \u001b[0mtuples\u001b[0m \u001b[0;34m=\u001b[0m \u001b[0;34m[\u001b[0m\u001b[0;34m]\u001b[0m\u001b[0;34m\u001b[0m\u001b[0;34m\u001b[0m\u001b[0m\n\u001b[1;32m      3\u001b[0m \u001b[0;34m\u001b[0m\u001b[0m\n\u001b[0;32m----> 4\u001b[0;31m \u001b[0;32mfor\u001b[0m \u001b[0ma\u001b[0m \u001b[0;32min\u001b[0m \u001b[0mactivities\u001b[0m\u001b[0;34m:\u001b[0m\u001b[0;34m\u001b[0m\u001b[0;34m\u001b[0m\u001b[0m\n\u001b[0m\u001b[1;32m      5\u001b[0m     \u001b[0md\u001b[0m \u001b[0;34m=\u001b[0m \u001b[0mp\u001b[0m\u001b[0;34m.\u001b[0m\u001b[0mparse_distance\u001b[0m\u001b[0;34m\u001b[0m\u001b[0;34m\u001b[0m\u001b[0m\n\u001b[1;32m      6\u001b[0m     \u001b[0me\u001b[0m \u001b[0;34m=\u001b[0m \u001b[0mp\u001b[0m\u001b[0;34m.\u001b[0m\u001b[0mparse_elevation\u001b[0m\u001b[0;34m\u001b[0m\u001b[0;34m\u001b[0m\u001b[0m\n",
      "\u001b[0;31mNameError\u001b[0m: name 'activities' is not defined"
     ]
    }
   ],
   "source": [
    "p = parser(\"placeholder\")\n",
    "tuples = []\n",
    "\n",
    "for a in activities:\n",
    "    d = p.parse_distance\n",
    "    e = p.parse_elevation\n",
    "    g = e/d\n",
    "    tuples.append((d,e,g))\n",
    "    "
   ]
  },
  {
   "cell_type": "code",
   "execution_count": null,
   "id": "af76476c",
   "metadata": {},
   "outputs": [],
   "source": []
  }
 ],
 "metadata": {
  "kernelspec": {
   "display_name": "Python 3",
   "language": "python",
   "name": "python3"
  },
  "language_info": {
   "codemirror_mode": {
    "name": "ipython",
    "version": 3
   },
   "file_extension": ".py",
   "mimetype": "text/x-python",
   "name": "python",
   "nbconvert_exporter": "python",
   "pygments_lexer": "ipython3",
   "version": "3.8.8"
  }
 },
 "nbformat": 4,
 "nbformat_minor": 5
}
