{
 "cells": [
  {
   "cell_type": "code",
   "execution_count": 1,
   "id": "9c175844",
   "metadata": {},
   "outputs": [],
   "source": [
    "import numpy as np\n",
    "import matplotlib.pyplot as pp\n",
    "import math as ma\n",
    "\n",
    "def fittest():\n",
    "    tup_array = [(0.25, 216.0),(0.5, 240.0),(1, 275.0),(2, 300.0),(3.1, 309.68),(4.97, 323.94)]\n",
    "    #copied from scratcheq5\n",
    "    points = np.array(tup_array)\n",
    "    x = points[:,0]\n",
    "    y = points[:,1]\n",
    "    j = np.polyfit(x, y, 3)#get polyfit outcome\n",
    "    f = np.poly1d(j)#get function\n",
    "    x_new = np.linspace(x[0], x[-1], 50)\n",
    "    y_new = f(x_new)\n",
    "\n",
    "    pp.plot(x,y,'o', x_new, y_new)\n",
    "    pp.xlim([x[0]-1, x[-1] + 1 ])\n",
    "    pp.show()"
   ]
  },
  {
   "cell_type": "code",
   "execution_count": 2,
   "id": "31f25f5e",
   "metadata": {},
   "outputs": [],
   "source": [
    "def pacefit_times(times):\n",
    "    paces = dt_to_spm(times)\n",
    "    paces_np = np.array(paces)\n",
    "    return pf3(paces_np)\n",
    "\n",
    "def pacefit_pace(paces):\n",
    "    paces_np = np.array(paces)\n",
    "    return pf3(paces_np)\n",
    "\n",
    "def pf3(distance_pace):\n",
    "    x = distance_pace[:,0]  #get x from tuples\n",
    "    y = distance_pace[:,1]  #get y from tuples\n",
    "    p = np.polyfit(x, y, 3) #get polyfit outcome\n",
    "    f = np.poly1d(p)        #get function\n",
    "    return f"
   ]
  },
  {
   "cell_type": "code",
   "execution_count": 3,
   "id": "e8d11048",
   "metadata": {},
   "outputs": [],
   "source": [
    "def dt_to_spm(old_set):\n",
    "    new_set = []\n",
    "    for old_tuple in old_set:\n",
    "        if old_tuple[0]!=0:\n",
    "            new_tuple = (old_tuple[0],old_tuple[1]/old_tuple[0])\n",
    "            new_set.append(new_tuple)\n",
    "        else:\n",
    "            new_tuple = (old_tuple[0],old_tuple[1]/0.00001)\n",
    "            new_set.append(new_tuple)\n",
    "    return new_set\n",
    "\n",
    "def spm_to_dt(old_set):\n",
    "    new_set = []\n",
    "    for old_tuple in old_set:\n",
    "        new_tuple = (old_tuple[0],old_tuple[1]*old_tuple[0])\n",
    "        new_set.append(new_tuple)\n",
    "    return new_set"
   ]
  },
  {
   "cell_type": "code",
   "execution_count": 4,
   "id": "4170819b",
   "metadata": {},
   "outputs": [],
   "source": [
    "def predict_pace(dt_pairs,distance): #expects [:,1] to be total time, not tpm.  \n",
    "    pace_pairs = dt_to_spm(dt_pairs) # (distance,spm)\n",
    "    eq6 = pacefit_pace(pace_pairs)\n",
    "    return(eq6(distance))\n",
    "\n",
    "def predict_time(dt_pairs,distance):\n",
    "    return predict_pace(dt_pairs,distance)*distance"
   ]
  },
  {
   "cell_type": "code",
   "execution_count": 5,
   "id": "036eaa45",
   "metadata": {},
   "outputs": [],
   "source": [
    "wr_set = [(0.25, 43),(0.5, 101),(1, 223),(2, 478),(3.1, 750),(4.97, 1264)] # world records 400m to 5000m\n",
    "jm_set = [(0.25, 54),(0.5, 120),(1, 275),(2, 600),(3.1, 960),(4.97, 1610)] # ya boy\n",
    "ms_set = [(0.25, 55),(0.5, 121),(1, 272),         (3.1, 925),(4.97, 1560)] # max of course\n",
    "\n",
    "sets = [wr_set,jm_set,ms_set]"
   ]
  },
  {
   "cell_type": "code",
   "execution_count": 6,
   "id": "4b66fd91",
   "metadata": {},
   "outputs": [],
   "source": [
    "fit1 = pacefit_times(jm_set)\n"
   ]
  },
  {
   "cell_type": "code",
   "execution_count": 7,
   "id": "fca1d73b",
   "metadata": {},
   "outputs": [
    {
     "name": "stdout",
     "output_type": "stream",
     "text": [
      "[(0.25, 54), (0.5, 120), (1, 275), (2, 600), (3.1, 960), (4.97, 1610)]\n",
      "-----\n",
      "[(0.25, 216.0), (0.5, 240.0), (1, 275.0), (2, 300.0), (3.1, 309.6774193548387), (4.97, 323.943661971831)]\n",
      "-----\n",
      "[(0.25, 54.0), (0.5, 120.0), (1, 275.0), (2, 600.0), (3.1, 960.0), (4.97, 1609.9999999999998)]\n"
     ]
    }
   ],
   "source": [
    "jm_basic = jm_set\n",
    "jm_paces = dt_to_spm(jm_basic)\n",
    "jm_times = spm_to_dt(jm_paces)\n",
    "\n",
    "print(jm_basic)\n",
    "print(\"-----\")\n",
    "print(jm_paces)\n",
    "print(\"-----\")\n",
    "print(jm_times)"
   ]
  },
  {
   "cell_type": "code",
   "execution_count": 8,
   "id": "5462e007",
   "metadata": {},
   "outputs": [],
   "source": [
    "#this is just so we have the flexibility to change how we factor in elevation or added trail difficulty.\n",
    "def effective_distance(distance,elevation): \n",
    "    mode = 1\n",
    "    if mode == 1: #simply use pythagorean theorem to modify distance\n",
    "        return hyp(distance,elevation)\n",
    "    if mode == 2: #simply use pythagorean theorem to modify distance\n",
    "        GAP = 1 # if we have a good GAP substitute we would replace this with an input value\n",
    "        spm = 1 # expected athlete pace, presumably somewhat less than GAP\n",
    "        return distance*(spm/GAP)\n",
    "    \n",
    "def hyp(a,b):\n",
    "    c_2 = (a**2)+(b**2)\n",
    "    c = ma.sqrt(c_2)\n",
    "    return c"
   ]
  },
  {
   "cell_type": "code",
   "execution_count": 9,
   "id": "51793102",
   "metadata": {},
   "outputs": [
    {
     "data": {
      "text/plain": [
       "5.024937810560445"
      ]
     },
     "execution_count": 9,
     "metadata": {},
     "output_type": "execute_result"
    }
   ],
   "source": [
    "effective_distance(5,0.5)"
   ]
  },
  {
   "cell_type": "code",
   "execution_count": 10,
   "id": "beffd783",
   "metadata": {},
   "outputs": [
    {
     "data": {
      "text/plain": [
       "924.4889996676061"
      ]
     },
     "execution_count": 10,
     "metadata": {},
     "output_type": "execute_result"
    }
   ],
   "source": [
    "predict_time(jm_basic,3)"
   ]
  },
  {
   "cell_type": "code",
   "execution_count": 11,
   "id": "53f295ba",
   "metadata": {},
   "outputs": [
    {
     "ename": "NameError",
     "evalue": "name 'j' is not defined",
     "output_type": "error",
     "traceback": [
      "\u001b[0;31m---------------------------------------------------------------------------\u001b[0m",
      "\u001b[0;31mNameError\u001b[0m                                 Traceback (most recent call last)",
      "\u001b[0;32m<ipython-input-11-6f92cc6aee2a>\u001b[0m in \u001b[0;36m<module>\u001b[0;34m\u001b[0m\n\u001b[0;32m----> 1\u001b[0;31m \u001b[0mpredict_time\u001b[0m\u001b[0;34m(\u001b[0m\u001b[0mj\u001b[0m\u001b[0;34m)\u001b[0m\u001b[0;34m\u001b[0m\u001b[0;34m\u001b[0m\u001b[0m\n\u001b[0m",
      "\u001b[0;31mNameError\u001b[0m: name 'j' is not defined"
     ]
    }
   ],
   "source": [
    "predict_time(j)"
   ]
  }
 ],
 "metadata": {
  "kernelspec": {
   "display_name": "Python 3",
   "language": "python",
   "name": "python3"
  },
  "language_info": {
   "codemirror_mode": {
    "name": "ipython",
    "version": 3
   },
   "file_extension": ".py",
   "mimetype": "text/x-python",
   "name": "python",
   "nbconvert_exporter": "python",
   "pygments_lexer": "ipython3",
   "version": "3.8.8"
  }
 },
 "nbformat": 4,
 "nbformat_minor": 5
}
