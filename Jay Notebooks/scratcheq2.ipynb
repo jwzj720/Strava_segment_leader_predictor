{
 "cells": [
  {
   "cell_type": "code",
   "execution_count": 98,
   "id": "49470ffe",
   "metadata": {},
   "outputs": [],
   "source": [
    "import matplotlib.pyplot as pp\n",
    "import random as ra\n",
    "import math as math"
   ]
  },
  {
   "cell_type": "code",
   "execution_count": 99,
   "id": "1c91ad1b",
   "metadata": {},
   "outputs": [],
   "source": [
    "def distanceplot(sets,rcb):\n",
    "    rcb = not rcb\n",
    "    count = 0\n",
    "    for s in sets:\n",
    "        count+=1\n",
    "        xdata = []\n",
    "        ydata = []\n",
    "        for ss in s:\n",
    "            xdata.append(ss[0])            \n",
    "            ydata.append(ss[1])\n",
    "        pp.plot(xdata,ydata,lw='2',marker=\"o\",color = getcolor(count))\n",
    "    pp.show()\n",
    "    \n",
    "def distanceplot_relative(sets,rcb):\n",
    "    count = 0\n",
    "    for s in sets:\n",
    "        count+=1\n",
    "        xdata = []\n",
    "        ydata = []\n",
    "        for ss in s:\n",
    "            xdata.append(ss[0])\n",
    "            if ss[0]==0:\n",
    "                ss[0]+=0.001\n",
    "            ydata.append(ss[1]/ss[0])\n",
    "        pp.plot(xdata,ydata,lw='2',marker=\"o\",color = getcolor(count))\n",
    "        \n",
    "    plotpaces([4,5])\n",
    "    pp.show()\n",
    "\n",
    "def plotpaces(paces):\n",
    "    for pace in paces:\n",
    "        pp.plot([0,6],[pace*60,pace*60],lw='2',color = '#333333')\n",
    "    \n",
    "def getcolor(i):\n",
    "    if i==-1:\n",
    "        return 'black'\n",
    "    if i==1:\n",
    "        return 'red'\n",
    "    if i==2:\n",
    "        return 'blue'\n",
    "    if i==3:\n",
    "        return 'green'\n",
    "    if i==4:\n",
    "        return 'purple'\n",
    "    if i==5:\n",
    "        return 'orange'\n",
    "    return hex6()\n",
    "    \n",
    "\n",
    "def hex6():    \n",
    "    col = '#'\n",
    "    while len(col)<7:\n",
    "        val = ra.randint(0,15)\n",
    "        if val<10:\n",
    "            col+=str(val)\n",
    "        else:\n",
    "            col+=chr(87+val)\n",
    "    return col\n",
    "\n",
    "def minsec(minutes,seconds):\n",
    "    return (minutes*60)+seconds\n",
    "def hourminsec(hours,minutes,seconds):\n",
    "    return (hours*3600)+(minutes*60)+seconds\n",
    "        \n",
    "    "
   ]
  },
  {
   "cell_type": "code",
   "execution_count": 52,
   "id": "f17b162b",
   "metadata": {},
   "outputs": [],
   "source": [
    "class ratesynth():\n",
    "    def __init__(self,pace,deviation):\n",
    "        self.spm = pace\n",
    "        self.dev = deviation\n",
    "        \n",
    "    def dist_to_time(self,dist):\n",
    "        \n",
    "        rnd = ra.uniform(-1, 1)\n",
    "        deviation = self.dev * rnd\n",
    "        \n",
    "        base_time = self.spm * dist\n",
    "        devi_time = base_time + (base_time*deviation)\n",
    "        \n",
    "        #print(\"rnd: \"+str(rnd))\n",
    "        #print(\"deviation: \"+str(deviation))\n",
    "        #print(\"base_time: \"+str(base_time))\n",
    "        #print(\"devi_time: \"+str(devi_time))\n",
    "        \n",
    "        return devi_time\n",
    "        \n",
    "    def dist_time_set(self,min_dist,max_dist):\n",
    "        tuples = []\n",
    "        for i in range(min_dist,max_dist+1):\n",
    "            halftime = self.dist_to_time(i-0.5)\n",
    "            tuples.append((i-0.5,halftime))\n",
    "            time = self.dist_to_time(i)\n",
    "            tuples.append((i,time))\n",
    "        return tuples\n",
    "            \n",
    "        "
   ]
  },
  {
   "cell_type": "code",
   "execution_count": null,
   "id": "22ecf2a1",
   "metadata": {},
   "outputs": [],
   "source": []
  },
  {
   "cell_type": "code",
   "execution_count": null,
   "id": "ece330f5",
   "metadata": {},
   "outputs": [],
   "source": []
  },
  {
   "cell_type": "code",
   "execution_count": 62,
   "id": "7db1e137",
   "metadata": {},
   "outputs": [
    {
     "name": "stderr",
     "output_type": "stream",
     "text": [
      "<>:4: SyntaxWarning: 'tuple' object is not callable; perhaps you missed a comma?\n",
      "<>:4: SyntaxWarning: 'tuple' object is not callable; perhaps you missed a comma?\n",
      "<ipython-input-62-c222e8c415cb>:4: SyntaxWarning: 'tuple' object is not callable; perhaps you missed a comma?\n",
      "  bk = [(0.62,minsec(3,0)),(1.86,minsec(9,20))(3.17,minsec(15,15)),(4.97,minsec(25,15))]\n"
     ]
    },
    {
     "ename": "TypeError",
     "evalue": "'tuple' object is not callable",
     "output_type": "error",
     "traceback": [
      "\u001b[0;31m---------------------------------------------------------------------------\u001b[0m",
      "\u001b[0;31mTypeError\u001b[0m                                 Traceback (most recent call last)",
      "\u001b[0;32m<ipython-input-62-c222e8c415cb>\u001b[0m in \u001b[0;36m<module>\u001b[0;34m\u001b[0m\n\u001b[1;32m      2\u001b[0m \u001b[0mrm\u001b[0m \u001b[0;34m=\u001b[0m \u001b[0;34m[\u001b[0m\u001b[0;34m(\u001b[0m\u001b[0;36m0.5\u001b[0m\u001b[0;34m,\u001b[0m\u001b[0mminsec\u001b[0m\u001b[0;34m(\u001b[0m\u001b[0;36m2\u001b[0m\u001b[0;34m,\u001b[0m\u001b[0;36m1\u001b[0m\u001b[0;34m)\u001b[0m\u001b[0;34m)\u001b[0m\u001b[0;34m,\u001b[0m\u001b[0;34m(\u001b[0m\u001b[0;36m1\u001b[0m\u001b[0;34m,\u001b[0m\u001b[0mminsec\u001b[0m\u001b[0;34m(\u001b[0m\u001b[0;36m4\u001b[0m\u001b[0;34m,\u001b[0m\u001b[0;36m25\u001b[0m\u001b[0;34m)\u001b[0m\u001b[0;34m)\u001b[0m\u001b[0;34m,\u001b[0m\u001b[0;34m(\u001b[0m\u001b[0;36m2\u001b[0m\u001b[0;34m,\u001b[0m\u001b[0mminsec\u001b[0m\u001b[0;34m(\u001b[0m\u001b[0;36m10\u001b[0m\u001b[0;34m,\u001b[0m\u001b[0;36m23\u001b[0m\u001b[0;34m)\u001b[0m\u001b[0;34m)\u001b[0m\u001b[0;34m,\u001b[0m\u001b[0;34m(\u001b[0m\u001b[0;36m3.17\u001b[0m\u001b[0;34m,\u001b[0m\u001b[0mminsec\u001b[0m\u001b[0;34m(\u001b[0m\u001b[0;36m16\u001b[0m\u001b[0;34m,\u001b[0m\u001b[0;36m23\u001b[0m\u001b[0;34m)\u001b[0m\u001b[0;34m)\u001b[0m\u001b[0;34m,\u001b[0m\u001b[0;34m(\u001b[0m\u001b[0;36m4.99\u001b[0m\u001b[0;34m,\u001b[0m\u001b[0mminsec\u001b[0m\u001b[0;34m(\u001b[0m\u001b[0;36m27\u001b[0m\u001b[0;34m,\u001b[0m\u001b[0;36m12\u001b[0m\u001b[0;34m)\u001b[0m\u001b[0;34m)\u001b[0m\u001b[0;34m]\u001b[0m\u001b[0;34m\u001b[0m\u001b[0;34m\u001b[0m\u001b[0m\n\u001b[1;32m      3\u001b[0m \u001b[0mms\u001b[0m \u001b[0;34m=\u001b[0m \u001b[0;34m[\u001b[0m\u001b[0;34m(\u001b[0m\u001b[0;36m0.5\u001b[0m\u001b[0;34m,\u001b[0m\u001b[0mminsec\u001b[0m\u001b[0;34m(\u001b[0m\u001b[0;36m2\u001b[0m\u001b[0;34m,\u001b[0m\u001b[0;36m3\u001b[0m\u001b[0;34m)\u001b[0m\u001b[0;34m)\u001b[0m\u001b[0;34m,\u001b[0m\u001b[0;34m(\u001b[0m\u001b[0;36m1\u001b[0m\u001b[0;34m,\u001b[0m\u001b[0mminsec\u001b[0m\u001b[0;34m(\u001b[0m\u001b[0;36m4\u001b[0m\u001b[0;34m,\u001b[0m\u001b[0;36m25\u001b[0m\u001b[0;34m)\u001b[0m\u001b[0;34m)\u001b[0m\u001b[0;34m,\u001b[0m\u001b[0;34m(\u001b[0m\u001b[0;36m2\u001b[0m\u001b[0;34m,\u001b[0m\u001b[0mminsec\u001b[0m\u001b[0;34m(\u001b[0m\u001b[0;36m9\u001b[0m\u001b[0;34m,\u001b[0m\u001b[0;36m44\u001b[0m\u001b[0;34m)\u001b[0m\u001b[0;34m)\u001b[0m\u001b[0;34m,\u001b[0m\u001b[0;34m(\u001b[0m\u001b[0;36m3.1\u001b[0m\u001b[0;34m,\u001b[0m\u001b[0mminsec\u001b[0m\u001b[0;34m(\u001b[0m\u001b[0;36m15\u001b[0m\u001b[0;34m,\u001b[0m\u001b[0;36m24\u001b[0m\u001b[0;34m)\u001b[0m\u001b[0;34m)\u001b[0m\u001b[0;34m,\u001b[0m\u001b[0;34m(\u001b[0m\u001b[0;36m4.97\u001b[0m\u001b[0;34m,\u001b[0m\u001b[0mminsec\u001b[0m\u001b[0;34m(\u001b[0m\u001b[0;36m26\u001b[0m\u001b[0;34m,\u001b[0m\u001b[0;36m0\u001b[0m\u001b[0;34m)\u001b[0m\u001b[0;34m)\u001b[0m\u001b[0;34m]\u001b[0m\u001b[0;31m#,(13.1,hourminsec(1,28,22))\u001b[0m\u001b[0;34m\u001b[0m\u001b[0;34m\u001b[0m\u001b[0m\n\u001b[0;32m----> 4\u001b[0;31m \u001b[0mbk\u001b[0m \u001b[0;34m=\u001b[0m \u001b[0;34m[\u001b[0m\u001b[0;34m(\u001b[0m\u001b[0;36m0.62\u001b[0m\u001b[0;34m,\u001b[0m\u001b[0mminsec\u001b[0m\u001b[0;34m(\u001b[0m\u001b[0;36m3\u001b[0m\u001b[0;34m,\u001b[0m\u001b[0;36m0\u001b[0m\u001b[0;34m)\u001b[0m\u001b[0;34m)\u001b[0m\u001b[0;34m,\u001b[0m\u001b[0;34m(\u001b[0m\u001b[0;36m1.86\u001b[0m\u001b[0;34m,\u001b[0m\u001b[0mminsec\u001b[0m\u001b[0;34m(\u001b[0m\u001b[0;36m9\u001b[0m\u001b[0;34m,\u001b[0m\u001b[0;36m20\u001b[0m\u001b[0;34m)\u001b[0m\u001b[0;34m)\u001b[0m\u001b[0;34m(\u001b[0m\u001b[0;36m3.17\u001b[0m\u001b[0;34m,\u001b[0m\u001b[0mminsec\u001b[0m\u001b[0;34m(\u001b[0m\u001b[0;36m15\u001b[0m\u001b[0;34m,\u001b[0m\u001b[0;36m15\u001b[0m\u001b[0;34m)\u001b[0m\u001b[0;34m)\u001b[0m\u001b[0;34m,\u001b[0m\u001b[0;34m(\u001b[0m\u001b[0;36m4.97\u001b[0m\u001b[0;34m,\u001b[0m\u001b[0mminsec\u001b[0m\u001b[0;34m(\u001b[0m\u001b[0;36m25\u001b[0m\u001b[0;34m,\u001b[0m\u001b[0;36m15\u001b[0m\u001b[0;34m)\u001b[0m\u001b[0;34m)\u001b[0m\u001b[0;34m]\u001b[0m\u001b[0;34m\u001b[0m\u001b[0;34m\u001b[0m\u001b[0m\n\u001b[0m\u001b[1;32m      5\u001b[0m \u001b[0;34m\u001b[0m\u001b[0m\n\u001b[1;32m      6\u001b[0m \u001b[0mrb\u001b[0m \u001b[0;34m=\u001b[0m \u001b[0;34m[\u001b[0m\u001b[0;34m(\u001b[0m\u001b[0;36m3\u001b[0m\u001b[0;34m,\u001b[0m \u001b[0;36m915\u001b[0m\u001b[0;34m)\u001b[0m\u001b[0;34m,\u001b[0m \u001b[0;34m(\u001b[0m\u001b[0;36m5\u001b[0m\u001b[0;34m,\u001b[0m \u001b[0;36m1573\u001b[0m\u001b[0;34m)\u001b[0m\u001b[0;34m]\u001b[0m\u001b[0;34m\u001b[0m\u001b[0;34m\u001b[0m\u001b[0m\n",
      "\u001b[0;31mTypeError\u001b[0m: 'tuple' object is not callable"
     ]
    }
   ],
   "source": [
    "jmm = [(0.5, 120), (1, 275), (2, 600), (3, 930), (4.97, 1610)]\n",
    "rm = [(0.5,minsec(2,1)),(1,minsec(4,25)),(2,minsec(10,23)),(3.17,minsec(16,23)),(4.99,minsec(27,12))]\n",
    "ms = [(0.5,minsec(2,3)),(1,minsec(4,25)),(2,minsec(9,44)),(3.1,minsec(15,24)),(4.97,minsec(26,0))]#,(13.1,hourminsec(1,28,22))\n",
    "bk = [(0.62,minsec(3,0)),(1.86,minsec(9,20))(3.17,minsec(15,15)),(4.97,minsec(25,15))]\n",
    "\n",
    "rb = [(3, 915), (5, 1573)]\n",
    "#bh = [(6.3,minsec(39,35)),(3.7,minsec(24,4))]#(26.2,hourminsec(3,45,0))\n",
    "#bh = [(3.7,minsec(24,4)),(6.3,minsec(39,35)),(26.2,hourminsec(3,45,0))]\n",
    "\n",
    "fiveminmile = ratesynth(300,0.00)\n",
    "#pace5 = fiveminmile.dist_time_set(1,3)\n",
    "sixminmile = ratesynth(360,0.00)\n",
    "#pace6 = sixminmile.dist_time_set(1,3)\n",
    "#em2017 = [(3,minsec(22,0)),(1,minsec(7,1))]\n",
    "allreal = [bk,ms,jmm,rb,rm]\n",
    "#allrealpluspaces = [ms,jmm,rb,bh,rm,pace5,pace6]"
   ]
  },
  {
   "cell_type": "code",
   "execution_count": 54,
   "id": "3d44162c",
   "metadata": {},
   "outputs": [],
   "source": [
    "autogen1 = ratesynth(300,0.05)\n",
    "sim1 = autogen1.dist_time_set(1,5)\n",
    "\n",
    "autogen2 = ratesynth(330,0.02)\n",
    "sim2 = autogen2.dist_time_set(1,5)\n",
    "\n",
    "autogen3 = ratesynth(360,0.166)\n",
    "sim3 = autogen3.dist_time_set(1,5)\n",
    "\n",
    "autogen4 = ratesynth(390,0.066)\n",
    "sim4 = autogen4.dist_time_set(1,5)\n",
    "\n",
    "autogen5 = ratesynth(420,0.069)\n",
    "sim5 = autogen5.dist_time_set(1,5)\n",
    "\n",
    "autogen6 = ratesynth(400,0.05)\n",
    "sim6 = autogen6.dist_time_set(1,5)\n",
    "\n",
    "autogen7 = ratesynth(330,0.02)\n",
    "sim7 = autogen7.dist_time_set(1,5)\n",
    "\n",
    "autogen8 = ratesynth(330,0.02)\n",
    "sim8 = autogen8.dist_time_set(1,5)\n",
    "\n",
    "allsim = [sim1,sim2,sim3,sim4,sim5,sim6,sim7,sim8]"
   ]
  },
  {
   "cell_type": "code",
   "execution_count": 55,
   "id": "87100861",
   "metadata": {},
   "outputs": [],
   "source": [
    "#distanceplot([sim1,sim2,sim3],False)\n",
    "#distanceplot(allsim,False)\n",
    "#distanceplot(allreal,False)\n"
   ]
  },
  {
   "cell_type": "code",
   "execution_count": 56,
   "id": "7ac3c9b0",
   "metadata": {},
   "outputs": [],
   "source": [
    "#obselete pace tests\n",
    "template = [(0,minsec(0,0)),(0,minsec(0,0)),(0,minsec(0,0))]\n",
    "newuser1 = [(1,minsec(5,10)),(2,minsec(10,15)),(3,minsec(15,30))]\n",
    "newuser2 = [(1,minsec(5,30)),(2,minsec(11,30)),(3,minsec(17,30))]\n",
    "newuser3 = [(1,minsec(5,0)),(2,minsec(11,0)),(3,minsec(19,0))]\n",
    "\n",
    "#distanceplot([newuser,newuser2],False)\n",
    "#distanceplot([newuser1,newuser2,newuser3],False)"
   ]
  },
  {
   "cell_type": "code",
   "execution_count": 57,
   "id": "5e6f2bcc",
   "metadata": {},
   "outputs": [
    {
     "name": "stdout",
     "output_type": "stream",
     "text": [
      "All data so far:\n",
      "[(0.5, 123), (1, 265), (2, 584), (3.1, 924), (4.97, 1560)]\n",
      "[(0.5, 120), (1, 275), (2, 600), (3, 930), (4.97, 1610)]\n",
      "[(3, 915), (5, 1573)]\n",
      "[(0.5, 121), (1, 265), (2, 623), (3.17, 983), (4.99, 1632)]\n"
     ]
    }
   ],
   "source": [
    "#new_data = [(0,minsec(0,0)),(0,minsec(0,0)),(0,minsec(0,0))]\n",
    "#new_data = [(0.5,minsec(2,3)),(1,minsec(4,25)),(2,minsec(9,44)),(3.1,minsec(15,24)),(4.97,minsec(26,0)),(13.1,hourminsec(1,28,22))]\n",
    "\n",
    "#allreal.append(new_data)\n",
    "print(\"All data so far:\")\n",
    "for a in allreal:\n",
    "    print(a)"
   ]
  },
  {
   "cell_type": "code",
   "execution_count": 58,
   "id": "78e4ac38",
   "metadata": {},
   "outputs": [],
   "source": [
    "def showtime():\n",
    "    distanceplot(allreal,False)\n",
    "    distanceplot_relative(allreal,False)\n",
    "    for a in allreal:\n",
    "        print(a)"
   ]
  },
  {
   "cell_type": "code",
   "execution_count": null,
   "id": "a10324b9",
   "metadata": {},
   "outputs": [],
   "source": []
  },
  {
   "cell_type": "code",
   "execution_count": 59,
   "id": "8afc6ec4",
   "metadata": {},
   "outputs": [
    {
     "data": {
      "image/png": "[encoded data removed]",
      "text/plain": [
       "<Figure size 432x288 with 1 Axes>"
      ]
     },
     "metadata": {
      "needs_background": "light"
     },
     "output_type": "display_data"
    },
    {
     "data": {
      "image/png": "[encoded data removed]",
      "text/plain": [
       "<Figure size 432x288 with 1 Axes>"
      ]
     },
     "metadata": {
      "needs_background": "light"
     },
     "output_type": "display_data"
    },
    {
     "name": "stdout",
     "output_type": "stream",
     "text": [
      "[(0.5, 123), (1, 265), (2, 584), (3.1, 924), (4.97, 1560)]\n",
      "[(0.5, 120), (1, 275), (2, 600), (3, 930), (4.97, 1610)]\n",
      "[(3, 915), (5, 1573)]\n",
      "[(0.5, 121), (1, 265), (2, 623), (3.17, 983), (4.99, 1632)]\n"
     ]
    }
   ],
   "source": [
    "showtime()"
   ]
  },
  {
   "cell_type": "code",
   "execution_count": 60,
   "id": "f86bbbe0",
   "metadata": {},
   "outputs": [
    {
     "data": {
      "text/plain": [
       "'blue'"
      ]
     },
     "execution_count": 60,
     "metadata": {},
     "output_type": "execute_result"
    }
   ],
   "source": [
    "getcolor(2)"
   ]
  },
  {
   "cell_type": "code",
   "execution_count": null,
   "id": "bc1ed9a3",
   "metadata": {},
   "outputs": [],
   "source": []
  },
  {
   "cell_type": "code",
   "execution_count": 63,
   "id": "5c6670e6",
   "metadata": {},
   "outputs": [
    {
     "data": {
      "text/plain": [
       "404.7328244274809"
      ]
     },
     "execution_count": 63,
     "metadata": {},
     "output_type": "execute_result"
    }
   ],
   "source": [
    "hourminsec(1,28,22)/13.1"
   ]
  },
  {
   "cell_type": "code",
   "execution_count": 85,
   "id": "2b173742",
   "metadata": {},
   "outputs": [],
   "source": [
    "def balancecoefficient(n):\n",
    "    return n"
   ]
  },
  {
   "cell_type": "code",
   "execution_count": 86,
   "id": "230b1f88",
   "metadata": {},
   "outputs": [],
   "source": [
    "d = 5 #distance (miles?)\n",
    "a = balancecoefficient(1)\n",
    "b = 1.07 #runner's ability coefficient, supposedly 1.08 elite, 1.06 average\n",
    "k = b - 1 #k=0.07\n",
    "speed = 1 / (a*(d**k))\n",
    "\n",
    "def reigel_p(d):\n",
    "    a = unknowncoefficient(1)\n",
    "    k = 0.07 #Reigel's coefficient\n",
    "    s = 1/(a*(d**k))\n",
    "    print(s)\n",
    "    return s\n",
    "\n",
    "def reigel_d(s):\n",
    "    a = unknowncoefficient(1)\n",
    "    k = 0.07 #Reigel's coefficient\n",
    "    d = s*(a**(1/k))\n",
    "    print(d)\n",
    "    return d"
   ]
  },
  {
   "cell_type": "code",
   "execution_count": 87,
   "id": "b044b26f",
   "metadata": {},
   "outputs": [
    {
     "name": "stdout",
     "output_type": "stream",
     "text": [
      "1.0\n",
      "0.9526379980439373\n",
      "0.925979798723985\n",
      "1.0\n",
      "0.9526379980439373\n",
      "0.925979798723985\n",
      "[1.0, 0.9526379980439373, 0.925979798723985]\n",
      "[1.0, 0.9526379980439373, 0.925979798723985]\n"
     ]
    }
   ],
   "source": [
    "p1 = dist_to_pace(1)\n",
    "p2 = dist_to_pace(2)\n",
    "p3 = dist_to_pace(3)\n",
    "\n",
    "d1 = pace_to_dist(p1)\n",
    "d2 = pace_to_dist(p2)\n",
    "d3 = pace_to_dist(p3)\n",
    "\n",
    "dx = [d1,d2,d3]\n",
    "px = [p1,p2,p3]\n",
    "\n",
    "print(px)\n",
    "print(dx)\n",
    "\n"
   ]
  },
  {
   "cell_type": "code",
   "execution_count": 100,
   "id": "187f4a4d",
   "metadata": {},
   "outputs": [],
   "source": [
    "class stdAPI():\n",
    "    def getWorkout(self,quality):\n",
    "        d = ra.randint(10,100)/10\n",
    "        e = ra.randint(0,40)/100\n",
    "        v = ra.randint(-50,50)/1000 #variance \n",
    "        p = (10-quality)*(ra.randint(95,105)/100)\n",
    "        d2 = math.sqrt((d**2)*(e**2))\n",
    "        t = v * d2 * p   \n",
    "        p2 = t/d2\n",
    "        return (d,t,p2)\n",
    "    \n",
    "\n",
    "        \n",
    "        "
   ]
  },
  {
   "cell_type": "code",
   "execution_count": 101,
   "id": "3b43acf1",
   "metadata": {},
   "outputs": [
    {
     "name": "stdout",
     "output_type": "stream",
     "text": [
      "0.04\n"
     ]
    }
   ],
   "source": [
    "v = ra.randint(-5,5)/100 #variance \n",
    "print(v)"
   ]
  },
  {
   "cell_type": "code",
   "execution_count": 102,
   "id": "0a77be60",
   "metadata": {},
   "outputs": [
    {
     "data": {
      "text/plain": [
       "(3.0, 0.04752000000000001, 0.31679999999999997)"
      ]
     },
     "execution_count": 102,
     "metadata": {},
     "output_type": "execute_result"
    }
   ],
   "source": [
    "std = stdAPI()\n",
    "std.getWorkout(2)"
   ]
  },
  {
   "cell_type": "code",
   "execution_count": null,
   "id": "d9863901",
   "metadata": {},
   "outputs": [],
   "source": []
  },
  {
   "cell_type": "code",
   "execution_count": null,
   "id": "f8bf8b24",
   "metadata": {},
   "outputs": [],
   "source": []
  },
  {
   "cell_type": "code",
   "execution_count": null,
   "id": "f2ee97ae",
   "metadata": {},
   "outputs": [],
   "source": []
  }
 ],
 "metadata": {
  "kernelspec": {
   "display_name": "Python 3",
   "language": "python",
   "name": "python3"
  },
  "language_info": {
   "codemirror_mode": {
    "name": "ipython",
    "version": 3
   },
   "file_extension": ".py",
   "mimetype": "text/x-python",
   "name": "python",
   "nbconvert_exporter": "python",
   "pygments_lexer": "ipython3",
   "version": "3.8.8"
  }
 },
 "nbformat": 4,
 "nbformat_minor": 5
}
