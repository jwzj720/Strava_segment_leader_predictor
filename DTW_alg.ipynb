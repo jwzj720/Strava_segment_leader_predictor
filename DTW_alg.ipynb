{
 "cells": [
  {
   "cell_type": "code",
   "execution_count": 10,
   "metadata": {},
   "outputs": [
    {
     "name": "stdout",
     "output_type": "stream",
     "text": [
      "Requirement already satisfied: gpxpy in c:\\users\\jwzj7\\anaconda3\\envs\\dsa\\lib\\site-packages (1.5.0)\n"
     ]
    }
   ],
   "source": [
    "import numpy as np\n",
    "!pip install gpxpy\n",
    "import gpxpy\n"
   ]
  },
  {
   "cell_type": "code",
   "execution_count": 4,
   "metadata": {},
   "outputs": [],
   "source": [
    "def dtw(s, t, window):\n",
    "    len_s, len_t = len(s), len(t)\n",
    "    w = np.max([window, abs(len_s-len_t)])\n",
    "    dtw_matrix = np.zeros((len_s+1, len_t+1))\n",
    "    \n",
    "    for i in range(len_s+1):\n",
    "        for j in range(len_t+1):\n",
    "            dtw_matrix[i, j] = np.inf\n",
    "    dtw_matrix[0, 0] = 0\n",
    "    \n",
    "    for i in range(1, len_s+1):\n",
    "        for j in range(np.max([1, i-w]), np.min([len_t, i+w])+1):\n",
    "            dtw_matrix[i, j] = 0\n",
    "    \n",
    "    for i in range(1, len_s+1):\n",
    "        for j in range(np.max([1, i-w]), np.min([len_t, i+w])+1):\n",
    "            cost = abs(s[i-1] - t[j-1])\n",
    "            # take last min from a square box\n",
    "            last_min = np.min([dtw_matrix[i-1, j], dtw_matrix[i, j-1], dtw_matrix[i-1, j-1]])\n",
    "            dtw_matrix[i, j] = cost + last_min\n",
    "    return dtw_matrix"
   ]
  },
  {
   "attachments": {},
   "cell_type": "markdown",
   "metadata": {},
   "source": [
    "Credit to  @Jeremy Zhang"
   ]
  },
  {
   "cell_type": "code",
   "execution_count": 7,
   "metadata": {},
   "outputs": [
    {
     "name": "stdout",
     "output_type": "stream",
     "text": [
      "[[ 0. inf inf inf]\n",
      " [inf  0.  1. inf]\n",
      " [inf  1.  0.  2.]\n",
      " [inf inf  2.  0.]]\n"
     ]
    }
   ],
   "source": [
    "a = [1,2,4]\n",
    "b = [1,2,4]\n",
    "print(dtw(a,b,1))\n"
   ]
  },
  {
   "cell_type": "code",
   "execution_count": 13,
   "metadata": {},
   "outputs": [],
   "source": [
    "import gpx_to_arr"
   ]
  },
  {
   "cell_type": "code",
   "execution_count": null,
   "metadata": {},
   "outputs": [],
   "source": [
    "a = gpx_to_arr()\n",
    "arr = a.file_to_elevation_arr('data\\\\run.gpx'):\n"
   ]
  }
 ],
 "metadata": {
  "kernelspec": {
   "display_name": "Python 3",
   "language": "python",
   "name": "python3"
  },
  "language_info": {
   "codemirror_mode": {
    "name": "ipython",
    "version": 3
   },
   "file_extension": ".py",
   "mimetype": "text/x-python",
   "name": "python",
   "nbconvert_exporter": "python",
   "pygments_lexer": "ipython3",
   "version": "3.11.1 (v3.11.1:a7a450f84a, Dec  6 2022, 15:24:06) [Clang 13.0.0 (clang-1300.0.29.30)]"
  },
  "orig_nbformat": 4,
  "vscode": {
   "interpreter": {
    "hash": "aee8b7b246df8f9039afb4144a1f6fd8d2ca17a180786b69acc140d282b71a49"
   }
  }
 },
 "nbformat": 4,
 "nbformat_minor": 2
}
