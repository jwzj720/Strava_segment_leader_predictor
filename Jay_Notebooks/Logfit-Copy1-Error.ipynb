{
 "cells": [
  {
   "cell_type": "code",
   "execution_count": 1,
   "id": "5b8522ac",
   "metadata": {},
   "outputs": [],
   "source": [
    "import matplotlib.pyplot as pp\n",
    "import numpy as np\n",
    "import math"
   ]
  },
  {
   "cell_type": "code",
   "execution_count": 2,
   "id": "713e7606",
   "metadata": {},
   "outputs": [],
   "source": [
    "def fitset(data):    \n",
    "    #data = dt_to_spm(data)\n",
    "\n",
    "    points = np.array(dt_to_spm(data))\n",
    "    x = points[:,0] #extract x and y's from points set\n",
    "    y = points[:,1]\n",
    "\n",
    "    fiteq = points_to_log(data)\n",
    "    x_c = np.linspace(0.01,max(x),100)\n",
    "    y_c = fiteq.f(x_c)\n",
    "\n",
    "    pp.plot(x,y,'x')\n",
    "    pp.plot(x_c,y_c,'o')\n",
    "    pp.show()"
   ]
  },
  {
   "cell_type": "code",
   "execution_count": 3,
   "id": "f5405df9",
   "metadata": {},
   "outputs": [],
   "source": [
    "#from eq6 - converts time based coordinate set to pace based, and back\n",
    "\n",
    "def dt_to_spm(old_set):\n",
    "    new_set = []\n",
    "    for old_tuple in old_set:\n",
    "        if old_tuple[0]!=0:\n",
    "            new_tuple = (old_tuple[0],old_tuple[1]/old_tuple[0])\n",
    "            new_set.append(new_tuple)\n",
    "        else:\n",
    "            new_tuple = (old_tuple[0],old_tuple[1]/0.00001)\n",
    "            new_set.append(new_tuple)\n",
    "    return new_set\n",
    "\n",
    "def spm_to_dt(old_set):\n",
    "    new_set = []\n",
    "    for old_tuple in old_set:\n",
    "        new_tuple = (old_tuple[0],old_tuple[1]*old_tuple[0])\n",
    "        new_set.append(new_tuple)\n",
    "    return new_set\n",
    "\n",
    "def minsec(minutes,seconds):\n",
    "    return (minutes*60)+seconds\n",
    "def hourminsec(hours,minutes,seconds):\n",
    "    return (hours*3600)+(minutes*60)+seconds"
   ]
  },
  {
   "cell_type": "code",
   "execution_count": null,
   "id": "1edb3c2a",
   "metadata": {},
   "outputs": [],
   "source": []
  },
  {
   "cell_type": "code",
   "execution_count": null,
   "id": "bc8fcf76",
   "metadata": {},
   "outputs": [],
   "source": []
  },
  {
   "cell_type": "code",
   "execution_count": null,
   "id": "0315601e",
   "metadata": {},
   "outputs": [],
   "source": []
  },
  {
   "cell_type": "code",
   "execution_count": null,
   "id": "611939c2",
   "metadata": {},
   "outputs": [],
   "source": []
  },
  {
   "cell_type": "code",
   "execution_count": 4,
   "id": "46ff2131",
   "metadata": {},
   "outputs": [],
   "source": [
    "def points_to_log(points):\n",
    "    pts = np.array(dt_to_spm(points))\n",
    "    x = pts[:,0] #extract x and y's from points set\n",
    "    y = pts[:,1]\n",
    "    fit = np.polyfit(np.log(x), y, 3)# determining polynomial\n",
    "    return log_eq(fit)"
   ]
  },
  {
   "cell_type": "code",
   "execution_count": 5,
   "id": "ec214e4c",
   "metadata": {},
   "outputs": [],
   "source": [
    "class log_eq():\n",
    "    def __init__(self,args):\n",
    "        self.a = args[0]\n",
    "        self.b = args[1]\n",
    "        #print(self.f(5))\n",
    "        #print(\"----\")\n",
    "        \n",
    "        \n",
    "    def f(self,x):\n",
    "        return self.b+np.log(x)*self.a "
   ]
  },
  {
   "cell_type": "code",
   "execution_count": null,
   "id": "56d02132",
   "metadata": {},
   "outputs": [],
   "source": []
  },
  {
   "cell_type": "code",
   "execution_count": null,
   "id": "bc361db9",
   "metadata": {},
   "outputs": [],
   "source": []
  },
  {
   "cell_type": "code",
   "execution_count": 6,
   "id": "877d74ca",
   "metadata": {},
   "outputs": [
    {
     "data": {
      "image/png": "[encoded data removed]",
      "text/plain": [
       "<Figure size 432x288 with 1 Axes>"
      ]
     },
     "metadata": {
      "needs_background": "light"
     },
     "output_type": "display_data"
    }
   ],
   "source": [
    "derp_shit = [(0.25, 100),(0.5, 240),(1, 500),(2, 1200),(3.1, 1800),(4.97, 3610)]\n",
    "fitset(derp_shit)"
   ]
  },
  {
   "cell_type": "code",
   "execution_count": null,
   "id": "37625cf4",
   "metadata": {},
   "outputs": [],
   "source": []
  },
  {
   "cell_type": "code",
   "execution_count": null,
   "id": "72a95666",
   "metadata": {},
   "outputs": [],
   "source": []
  },
  {
   "cell_type": "code",
   "execution_count": null,
   "id": "3b91b252",
   "metadata": {},
   "outputs": [],
   "source": []
  },
  {
   "cell_type": "code",
   "execution_count": null,
   "id": "a18e965c",
   "metadata": {},
   "outputs": [],
   "source": []
  },
  {
   "cell_type": "code",
   "execution_count": null,
   "id": "3408d94e",
   "metadata": {},
   "outputs": [],
   "source": []
  },
  {
   "cell_type": "code",
   "execution_count": 7,
   "id": "2464d9a9",
   "metadata": {},
   "outputs": [],
   "source": [
    "#from eq8 - selects and uses data points that offer fastest pace curve. Simplified and modified here\n",
    "class curator():\n",
    "    def __init__(self):\n",
    "        print(\"creating data point curator\")\n",
    "        self.activities = []\n",
    "        \n",
    "        self.included = []\n",
    "        self.excluded = []\n",
    "            \n",
    "            \n",
    "    def add_activity(self,act):\n",
    "        self.activities.append(act)\n",
    "        #if len(self.activities)>=3: \n",
    "            #print(\"skipping auto-evaluate. currently only prompting manually\")\n",
    "            #print(len(self.activities))\n",
    "            #self.evaluate_all()\n",
    "            \n",
    "    def add_data(self,data):\n",
    "        self.activities.append(activity(data[0],data[1]))\n",
    "        #if len(self.activities)>=3: \n",
    "            #print(\"skipping auto-evaluate. currently only prompting manually\")\n",
    "            #print(len(self.activities))\n",
    "            #self.evaluate_all()\n",
    "            \n",
    "            \n",
    "    def evaluate_all(self): ####### FACTOR IN WEIGHT OF GAP DEPENDING ON D. GAP IS MORE RELEVANT FOR LOWER D VALUES        \n",
    "        #EITHER DIVIDE GAP BY D TO DETERMINE HOW MUCH OF AN IMPACT THAT OUTLIER MAKES?\n",
    "        #OR MULTIPLY GAP BY D AS TO GIVE WEIGHT TO SORT RELEVANCE\n",
    "            \n",
    "        points = []\n",
    "        for a in self.activities:\n",
    "            points.append(a.use())\n",
    "    \n",
    "        main_curve = points_to_log(points)        \n",
    "        \n",
    "        for i in range(len(points)):\n",
    "            y_c = main_curve.f(points[i][0])\n",
    "            y_p = points[i][1]\n",
    "            \n",
    "            y_shift = y_p - y_c\n",
    "            self.activities[i].value = y_shift/points[i][0]\n",
    "            print(\"(\"+str(self.activities[i].d)+\"/\"+str(self.activities[i].t)+\") shifted \"+str(y_shift)+\" from the curve\")\n",
    "        val_sort(self.activities)\n",
    "        return\n",
    "            \n",
    "            \n",
    "            \n",
    "    def evaluate_all_old(self):\n",
    "            \n",
    "        points = []\n",
    "        for a in self.activities:\n",
    "            points.append(a.use())\n",
    "    \n",
    "        main_curve = points_to_log(points)        \n",
    "        \n",
    "        for i in range(len(points)):\n",
    "            graphable = points[:i]+points[i+1:]\n",
    "            new_curve = points_to_log(graphable)\n",
    "            \n",
    "            y_with = main_curve.f(points[i][0])\n",
    "            y_without = new_curve.f(points[i][0])\n",
    "            print(\"with: \"+ str(y_with)+\"     Without: \"+ str(y_without))\n",
    "            \n",
    "            #print(\"compare Ys: \"+str(y_with)+\" - \"+y_without)\n",
    "            value = y_without - y_with\n",
    "                    \n",
    "            self.activities[i].value = value\n",
    "            print(\"(\"+str(self.activities[i].d)+\"/\"+str(self.activities[i].t)+\") has estimated value of \"+str(value))\n",
    "        val_sort(self.activities)\n",
    "        \n",
    "        \n",
    "    def value_plot(self,portion):\n",
    "        if portion>1 or portion<0:\n",
    "            print(\"invalid slice, defaulting to .5\")\n",
    "            portion=0.5\n",
    "        divider = int(len(self.activities) * portion)\n",
    "        \n",
    "        slowlist = self.activities[0:divider-1]\n",
    "        fastlist = self.activities[divider:]\n",
    "        \n",
    "        self.included = fastlist\n",
    "        self.excluded = slowlist\n",
    "        \n",
    "        for i in range(len(slowlist)):\n",
    "            slowlist[i] = slowlist[i].use()\n",
    "            \n",
    "        for i in range(len(fastlist)):\n",
    "            fastlist[i] = fastlist[i].use()\n",
    "            \n",
    "        plot_tfd_times([fastlist,slowlist])\n",
    "        \n",
    "    def select_portion(self,portion):\n",
    "        if portion>1 or portion<0:\n",
    "            print(\"invalid slice, defaulting to .5\")\n",
    "            portion=0.5\n",
    "        divider = int(len(self.activities) * portion)\n",
    "        fastlist = self.activities[divider:]\n",
    "        self.included = fastlist\n",
    "\n",
    "        for i in range(len(fastlist)):\n",
    "            fastlist[i] = fastlist[i].use()\n",
    "            \n",
    "            \n",
    "        return fastlist\n",
    "\n",
    "        "
   ]
  },
  {
   "cell_type": "code",
   "execution_count": 8,
   "id": "08a82d01",
   "metadata": {},
   "outputs": [],
   "source": [
    "#from eq8 - represents a single activity along with curation value. Simplified and modified here\n",
    "\n",
    "class activity():\n",
    "    def __init__(self,dist,time):\n",
    "        #self.using = False\n",
    "        self.value = 1\n",
    "        \n",
    "        self.d = dist\n",
    "        self.t = time\n",
    "        self.spm = time/dist\n",
    "        \n",
    "    def use(self): #return graphable coordinate pair\n",
    "        return (self.d,self.spm)"
   ]
  },
  {
   "cell_type": "code",
   "execution_count": 9,
   "id": "77ef3c4b",
   "metadata": {},
   "outputs": [],
   "source": [
    "#sorts activity array by value\n",
    "def val_sort(arr):\n",
    "    s = val_split(arr,0,len(arr)-1)\n",
    "    val_sort2(arr,s+1,len(arr)-1)\n",
    "    val_sort2(arr,0,s-1)\n",
    "    return arr\n",
    "\n",
    "def val_sort2(arr, _min, _max):\n",
    "    if _min<_max:\n",
    "        s = val_split(arr,_min,_max)\n",
    "        val_sort2(arr,s+1,_max)\n",
    "        val_sort2(arr,_min,s-1)\n",
    "    return arr\n",
    "\n",
    "def val_split(arr, _min, _max):\n",
    "    pivot = arr[_max]\n",
    "    print(pivot.value)\n",
    "    #print(arr)\n",
    "    #pivot = arr[len(arr)-1]\n",
    "    i = _min - 1\n",
    "    for j in range(_min, _max):\n",
    "        print(pivot.value)\n",
    "        if arr[j].value <= pivot.value:\n",
    "            i+=1\n",
    "            (arr[i], arr[j]) = (arr[j], arr[i])\n",
    "    (arr[i + 1], arr[_max]) = (arr[_max], arr[i + 1])\n",
    "    return i+1"
   ]
  },
  {
   "cell_type": "code",
   "execution_count": 10,
   "id": "cd510e36",
   "metadata": {},
   "outputs": [],
   "source": [
    "#from eq6 - predict time or pace for run given set of previous efforts\n",
    "def predict_pace(dt_pairs,distance): #expects [:,1] to be total time, not tpm.  \n",
    "    pace_pairs = dt_to_spm(dt_pairs) # (distance,spm)\n",
    "    eq6 = pacefit_pace(pace_pairs)\n",
    "    return(eq6(distance))\n",
    "\n",
    "def get_fit_eq(dt_pairs): #expects [:,1] to be total time, not tpm.  \n",
    "    pace_pairs = dt_to_spm(dt_pairs) # (distance,spm)\n",
    "    eq6 = pacefit_pace(pace_pairs)\n",
    "    return(eq6)\n",
    "\n",
    "def predict_time(dt_pairs,distance):\n",
    "    return predict_pace(dt_pairs,distance)*distance"
   ]
  },
  {
   "cell_type": "code",
   "execution_count": 11,
   "id": "4c2f14aa",
   "metadata": {},
   "outputs": [],
   "source": [
    "#From eq6 - uses pace curve to determine predicted run time. Methods for time and pace based\n",
    "def pacefit_times(times):\n",
    "    paces = dt_to_spm(times)\n",
    "    paces_np = np.array(paces)\n",
    "    return pf3(paces_np)\n",
    "\n",
    "def pacefit_pace(paces):\n",
    "    paces_np = np.array(paces)\n",
    "    return pf3(paces_np)\n",
    "\n",
    "def pf3(distance_pace):\n",
    "    x = distance_pace[:,0]  #get x from tuples\n",
    "    y = distance_pace[:,1]  #get y from tuples\n",
    "    p = np.polyfit(x, y, 2) #get polyfit outcome\n",
    "    f = np.poly1d(p)        #get function\n",
    "    return f"
   ]
  },
  {
   "cell_type": "code",
   "execution_count": 12,
   "id": "f1c733bd",
   "metadata": {},
   "outputs": [],
   "source": [
    "#from eq5 - plot run efforts by time or pace\n",
    "\n",
    "def pacelines(paces):\n",
    "    for pace in paces:\n",
    "        pp.plot([0,6],[pace*60,pace*60],lw='2',color = '#aaaaaa')\n",
    "        \n",
    "def altgraph(tuples):\n",
    "    pacelines([3,4,5,6])\n",
    "    xdata = []\n",
    "    ydata = []\n",
    "    for t in tuples:\n",
    "        xdata.append(t[0])\n",
    "        ydata.append(t[1]/(t[0]+0.00001))\n",
    "    print(xdata)\n",
    "    print(ydata)\n",
    "    pp.scatter(xdata,ydata)\n",
    "    pp.show()\n",
    "\n",
    "def plot_dpr_paces(sets):\n",
    "    pacelines([3,4,5,6])\n",
    "    count = 0\n",
    "    for s in sets:\n",
    "        count+=1\n",
    "        xdata = []\n",
    "        ydata = []\n",
    "        for ss in s:\n",
    "            xdata.append(ss[0])\n",
    "            if ss[0]==0:\n",
    "                ydata.append(ss[1]/0.00001)\n",
    "            else:\n",
    "                ydata.append(ss[1]/ss[0])\n",
    "            \n",
    "        pp.scatter(xdata,ydata,marker=\"o\",color = getcolor(count))\n",
    "        #pp.plot(xdata,ydata,lw='2',marker=\"o\",color = getcolor(count))\n",
    "    pp.title(\"Expected pace from distance\") \n",
    "    pp.show()\n",
    "    \n",
    "def plot_tfd_times(sets):\n",
    "    count = 0\n",
    "    for s in sets:\n",
    "        count+=1\n",
    "        xdata = []\n",
    "        ydata = []\n",
    "        for ss in s:\n",
    "            xdata.append(ss[0])            \n",
    "            ydata.append(ss[1])\n",
    "        pp.scatter(xdata,ydata,marker=\"o\",color = getcolor(count))\n",
    "\n",
    "        #pp.plot(xdata,ydata,lw='2',marker=\"o\",color = getcolor(count))\n",
    "    pp.title(\"Plotting time against distance\") \n",
    "\n",
    "    pp.show()\n",
    "\n",
    "    \n",
    "def getcolor(i):\n",
    "    if i==None:\n",
    "        return hex6()\n",
    "    elif i==-1:\n",
    "        return 'black'\n",
    "    elif i==1:\n",
    "        return 'red'\n",
    "    elif i==2:\n",
    "        return 'blue'\n",
    "    elif i==3:\n",
    "        return 'green'\n",
    "    elif i==4:\n",
    "        return 'purple'\n",
    "    elif i==5:\n",
    "        return 'orange'\n",
    "    else:\n",
    "        return 'gray'\n",
    "\n",
    "def hex6():    \n",
    "    col = '#'\n",
    "    while len(col)<7:\n",
    "        val = ra.randint(0,15)\n",
    "        if val<10:\n",
    "            col+=str(val)\n",
    "        else:\n",
    "            col+=chr(87+val)\n",
    "    return col\n",
    "\n",
    "def ms(minutes,seconds):\n",
    "    return (minutes*60)+seconds\n",
    "\n",
    "def hms(hours,minutes,seconds):\n",
    "    return (hours*3600)+(minutes*60)+seconds\n",
    "        "
   ]
  },
  {
   "cell_type": "code",
   "execution_count": null,
   "id": "3b7832ae",
   "metadata": {},
   "outputs": [],
   "source": []
  },
  {
   "cell_type": "code",
   "execution_count": 13,
   "id": "a7a253f1",
   "metadata": {},
   "outputs": [],
   "source": [
    "wr_set = [(0.25, 43),(0.5, 101),(1, 223),(2, 478),(3.1, 750),(4.97, 1264)] # world records 400m to 5000m\n",
    "jm_set = [(0.25, 54),(0.5, 120),(1, 275),(2, 600),(2.5, 960),(3.1, 960),(4.97, 1610)] # ya boy\n",
    "ms_set = [(0.25, 55),(0.5, 121),(1, 272),         (3.1, 925),(4.97, 1560)] # max, naturally\n",
    "\n",
    "allsets = wr_set + jm_set + ms_set"
   ]
  },
  {
   "cell_type": "code",
   "execution_count": null,
   "id": "d2b7ea7c",
   "metadata": {},
   "outputs": [],
   "source": []
  },
  {
   "cell_type": "code",
   "execution_count": 14,
   "id": "25a4f44d",
   "metadata": {},
   "outputs": [],
   "source": [
    "def queuefit(data):    \n",
    "    #data = dt_to_spm(data)\n",
    "\n",
    "    points = np.array(dt_to_spm(data))\n",
    "    x = points[:,0] #extract x and y's from points set\n",
    "    y = points[:,1]\n",
    "\n",
    "    fiteq = points_to_log(data)\n",
    "    x_c = np.linspace(0.01,max(x),30)\n",
    "    y_c = fiteq.f(x_c)\n",
    "    pp.plot(x_c,y_c,'o',color=\"#555555\")\n"
   ]
  },
  {
   "cell_type": "code",
   "execution_count": 15,
   "id": "60321bba",
   "metadata": {},
   "outputs": [
    {
     "name": "stdout",
     "output_type": "stream",
     "text": [
      "creating data point curator\n",
      "(0.25/43) shifted 37.50565044941072 from the curve\n",
      "(0.5/101) shifted 85.18737444111528 from the curve\n",
      "(1/223) shifted 123.86909843281987 from the curve\n",
      "(2/478) shifted 157.55082242452445 from the curve\n",
      "(3.1/750) shifted 171.66589837068216 from the curve\n",
      "(4.97/1264) shifted 196.09722884348955 from the curve\n",
      "(0.25/54) shifted 81.50565044941072 from the curve\n",
      "(0.5/120) shifted 123.18737444111528 from the curve\n",
      "(1/275) shifted 175.86909843281987 from the curve\n",
      "(2/600) shifted 218.55082242452445 from the curve\n",
      "(2.5/960) shifted 308.2430661434981 from the curve\n",
      "(3.1/960) shifted 239.40783385455313 from the curve\n",
      "(4.97/1610) shifted 265.7149350809141 from the curve\n",
      "(0.25/55) shifted 85.50565044941072 from the curve\n",
      "(0.5/121) shifted 125.18737444111528 from the curve\n",
      "(1/272) shifted 172.86909843281987 from the curve\n",
      "(3.1/925) shifted 228.11751127390795 from the curve\n",
      "(4.97/1560) shifted 255.6545729078759 from the curve\n",
      "51.439551892932776\n",
      "51.439551892932776\n",
      "51.439551892932776\n",
      "51.439551892932776\n",
      "51.439551892932776\n",
      "51.439551892932776\n",
      "51.439551892932776\n",
      "51.439551892932776\n",
      "51.439551892932776\n",
      "51.439551892932776\n",
      "51.439551892932776\n",
      "51.439551892932776\n",
      "51.439551892932776\n",
      "51.439551892932776\n",
      "51.439551892932776\n",
      "51.439551892932776\n",
      "51.439551892932776\n",
      "51.439551892932776\n",
      "170.37474888223056\n",
      "170.37474888223056\n",
      "170.37474888223056\n",
      "170.37474888223056\n",
      "170.37474888223056\n",
      "170.37474888223056\n",
      "170.37474888223056\n",
      "170.37474888223056\n",
      "170.37474888223056\n",
      "170.37474888223056\n",
      "170.37474888223056\n",
      "170.37474888223056\n",
      "170.37474888223056\n",
      "170.37474888223056\n",
      "170.37474888223056\n",
      "170.37474888223056\n",
      "175.86909843281987\n",
      "175.86909843281987\n",
      "175.86909843281987\n",
      "175.86909843281987\n",
      "175.86909843281987\n",
      "175.86909843281987\n",
      "342.0226017976429\n",
      "342.0226017976429\n",
      "342.0226017976429\n",
      "342.0226017976429\n",
      "246.37474888223056\n",
      "246.37474888223056\n",
      "246.37474888223056\n",
      "250.37474888223056\n",
      "250.37474888223056\n",
      "73.58629395932515\n",
      "73.58629395932515\n",
      "73.58629395932515\n",
      "73.58629395932515\n",
      "73.58629395932515\n",
      "73.58629395932515\n",
      "73.58629395932515\n",
      "73.58629395932515\n",
      "73.58629395932515\n",
      "123.86909843281987\n",
      "123.86909843281987\n",
      "123.86909843281987\n",
      "123.86909843281987\n",
      "123.86909843281987\n",
      "123.86909843281987\n",
      "78.77541121226223\n",
      "78.77541121226223\n",
      "78.77541121226223\n",
      "78.77541121226223\n",
      "123.29722645739923\n",
      "123.29722645739923\n",
      "53.463769633986736\n",
      "53.463769633986736\n",
      "0.0\n"
     ]
    },
    {
     "data": {
      "image/png": "[encoded data removed]",
      "text/plain": [
       "<Figure size 432x288 with 1 Axes>"
      ]
     },
     "metadata": {
      "needs_background": "light"
     },
     "output_type": "display_data"
    },
    {
     "name": "stdout",
     "output_type": "stream",
     "text": [
      "0.1\n"
     ]
    },
    {
     "data": {
      "image/png": "[encoded data removed]",
      "text/plain": [
       "<Figure size 432x288 with 1 Axes>"
      ]
     },
     "metadata": {
      "needs_background": "light"
     },
     "output_type": "display_data"
    },
    {
     "name": "stdout",
     "output_type": "stream",
     "text": [
      "0.2\n"
     ]
    },
    {
     "data": {
      "image/png": "[encoded data removed]",
      "text/plain": [
       "<Figure size 432x288 with 1 Axes>"
      ]
     },
     "metadata": {
      "needs_background": "light"
     },
     "output_type": "display_data"
    },
    {
     "name": "stdout",
     "output_type": "stream",
     "text": [
      "0.3\n"
     ]
    },
    {
     "data": {
      "image/png": "[encoded data removed]",
      "text/plain": [
       "<Figure size 432x288 with 1 Axes>"
      ]
     },
     "metadata": {
      "needs_background": "light"
     },
     "output_type": "display_data"
    },
    {
     "name": "stdout",
     "output_type": "stream",
     "text": [
      "0.4\n"
     ]
    },
    {
     "data": {
      "image/png": "[encoded data removed]",
      "text/plain": [
       "<Figure size 432x288 with 1 Axes>"
      ]
     },
     "metadata": {
      "needs_background": "light"
     },
     "output_type": "display_data"
    },
    {
     "name": "stdout",
     "output_type": "stream",
     "text": [
      "0.5\n"
     ]
    },
    {
     "name": "stderr",
     "output_type": "stream",
     "text": [
      "<ipython-input-14-dd12bea93ae2>:8: RankWarning: Polyfit may be poorly conditioned\n",
      "  fiteq = points_to_log(data)\n"
     ]
    },
    {
     "data": {
      "image/png": "[encoded data removed]",
      "text/plain": [
       "<Figure size 432x288 with 1 Axes>"
      ]
     },
     "metadata": {
      "needs_background": "light"
     },
     "output_type": "display_data"
    },
    {
     "name": "stdout",
     "output_type": "stream",
     "text": [
      "0.6\n"
     ]
    },
    {
     "name": "stderr",
     "output_type": "stream",
     "text": [
      "<ipython-input-14-dd12bea93ae2>:8: RankWarning: Polyfit may be poorly conditioned\n",
      "  fiteq = points_to_log(data)\n"
     ]
    },
    {
     "data": {
      "image/png": "[encoded data removed]",
      "text/plain": [
       "<Figure size 432x288 with 1 Axes>"
      ]
     },
     "metadata": {
      "needs_background": "light"
     },
     "output_type": "display_data"
    },
    {
     "name": "stdout",
     "output_type": "stream",
     "text": [
      "0.7\n"
     ]
    },
    {
     "name": "stderr",
     "output_type": "stream",
     "text": [
      "<ipython-input-14-dd12bea93ae2>:8: RankWarning: Polyfit may be poorly conditioned\n",
      "  fiteq = points_to_log(data)\n"
     ]
    },
    {
     "data": {
      "image/png": "[encoded data removed]",
      "text/plain": [
       "<Figure size 432x288 with 1 Axes>"
      ]
     },
     "metadata": {
      "needs_background": "light"
     },
     "output_type": "display_data"
    },
    {
     "name": "stdout",
     "output_type": "stream",
     "text": [
      "0.8\n"
     ]
    },
    {
     "name": "stderr",
     "output_type": "stream",
     "text": [
      "<ipython-input-14-dd12bea93ae2>:8: RankWarning: Polyfit may be poorly conditioned\n",
      "  fiteq = points_to_log(data)\n"
     ]
    },
    {
     "data": {
      "image/png": "[encoded data removed]",
      "text/plain": [
       "<Figure size 432x288 with 1 Axes>"
      ]
     },
     "metadata": {
      "needs_background": "light"
     },
     "output_type": "display_data"
    },
    {
     "name": "stdout",
     "output_type": "stream",
     "text": [
      "0.9\n"
     ]
    },
    {
     "name": "stderr",
     "output_type": "stream",
     "text": [
      "<ipython-input-14-dd12bea93ae2>:8: RankWarning: Polyfit may be poorly conditioned\n",
      "  fiteq = points_to_log(data)\n"
     ]
    },
    {
     "data": {
      "image/png": "[encoded data removed]",
      "text/plain": [
       "<Figure size 432x288 with 1 Axes>"
      ]
     },
     "metadata": {
      "needs_background": "light"
     },
     "output_type": "display_data"
    }
   ],
   "source": [
    "def curation_test(points):\n",
    "    #create curator and store all points as activity wrappers\n",
    "    c = curator()\n",
    "    for p in points:\n",
    "        c.add_activity(activity(p[0],p[1]))\n",
    "    #evaluate points, sorted by value. Iterate and plot for 10 point selection sizes\n",
    "    c.evaluate_all()\n",
    "    for i in range(0,10,1):\n",
    "        print(i/10)\n",
    "        selected = c.select_portion(i/10)\n",
    "        queuefit(dt_to_spm(selected))\n",
    "        c.value_plot(i/10)\n",
    "        \n",
    "curation_test(allsets)"
   ]
  },
  {
   "cell_type": "code",
   "execution_count": 16,
   "id": "5697dc6c",
   "metadata": {},
   "outputs": [],
   "source": [
    "def compare_athletes(set1,set2,dist): #given two athletes and a segment, determine whether athlete 1 can beat athlete 1's time\n",
    "    #c1 = curator()\n",
    "    #c2 = curator()\n",
    "    #c1.add_data(set1)\n",
    "    #c2.add_data(set2)\n",
    "    #c1.evaluate_all()\n",
    "    #c2.evaluate_all()\n",
    "    #c1.value_plot()\n",
    "    #set1 = c1.included\n",
    "    #set2 = c2.included\n",
    "\n",
    "    a1 = points_to_log(set1)\n",
    "    a2 = points_to_log(set2)    \n",
    "    \n",
    "    t1 = a1.f(dist)\n",
    "    t2 = a2.f(dist)\n",
    "    print(t1)\n",
    "    print(t2)\n",
    "    \n",
    "    return t1<=t2\n",
    "\n",
    "    "
   ]
  },
  {
   "cell_type": "code",
   "execution_count": 18,
   "id": "1ec31d03",
   "metadata": {},
   "outputs": [
    {
     "name": "stdout",
     "output_type": "stream",
     "text": [
      "-20.964784643589837\n",
      "-2.5806087428588222\n"
     ]
    },
    {
     "data": {
      "text/plain": [
       "True"
      ]
     },
     "execution_count": 18,
     "metadata": {},
     "output_type": "execute_result"
    }
   ],
   "source": [
    "compare_athletes(jm_set,ms_set,3)"
   ]
  },
  {
   "cell_type": "code",
   "execution_count": null,
   "id": "a65ce3ab",
   "metadata": {},
   "outputs": [],
   "source": []
  },
  {
   "cell_type": "code",
   "execution_count": null,
   "id": "d4dbed9b",
   "metadata": {},
   "outputs": [],
   "source": []
  }
 ],
 "metadata": {
  "kernelspec": {
   "display_name": "Python 3",
   "language": "python",
   "name": "python3"
  },
  "language_info": {
   "codemirror_mode": {
    "name": "ipython",
    "version": 3
   },
   "file_extension": ".py",
   "mimetype": "text/x-python",
   "name": "python",
   "nbconvert_exporter": "python",
   "pygments_lexer": "ipython3",
   "version": "3.8.8"
  }
 },
 "nbformat": 4,
 "nbformat_minor": 5
}
