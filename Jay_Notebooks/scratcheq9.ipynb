{
 "cells": [
  {
   "cell_type": "code",
   "execution_count": 8,
   "id": "3089b76b",
   "metadata": {},
   "outputs": [],
   "source": [
    "import matplotlib.pyplot as pp\n",
    "import numpy as np\n",
    "import math\n",
    "\n",
    "wr_set = [(0.25, 43),(0.5, 101),(1, 223),(2, 478),(3.1, 750),(4.97, 1264)] # world records 400m to 5000m\n",
    "jm_set = [(0.25, 54),(0.5, 120),(1, 275),(2, 600),(3.1, 960),(4.97, 1610)] # ya boy\n",
    "ms_set = [(0.25, 55),(0.5, 121),(1, 272),         (3.1, 925),(4.97, 1560)] # max, naturally\n",
    "\n",
    "allsets = wr_set + jm_set + ms_set\n"
   ]
  },
  {
   "cell_type": "code",
   "execution_count": 9,
   "id": "ba405635",
   "metadata": {},
   "outputs": [],
   "source": [
    "def plot_set(sets):\n",
    "    for points in sets:\n",
    "        \n",
    "        \n",
    "        x_data = []\n",
    "        y_data = []\n",
    "        for p in points:\n",
    "            \n",
    "            x_data.append(p[0])\n",
    "            y_data.append(p[1])\n",
    "        pp.scatter(x_data,y_data,marker=\"x\")\n",
    "\n",
    "        \n",
    "        #curve_x = []\n",
    "        #curve_y = []\n",
    "        #for x in np.linspace(0.25,x_data[-1],20):\n",
    "        #   curve_x.append(x)\n",
    "        #   curve_y.append(try_log(x))\n",
    "        #pp.scatter(curve_x,curve_y,marker=\"o\")\n",
    "\n",
    "            \n",
    "    pp.show()\n",
    "\n",
    "    \n",
    "    \n",
    "def try_log_tuple(x):\n",
    "    #print(x)\n",
    "    a = 320\n",
    "    b = 125\n",
    "    y = a - b*(math.e**(0-x))\n",
    "    return (x,y)\n",
    "    \n",
    "def try_log(x):\n",
    "    #print(x)\n",
    "    a = 320\n",
    "    b = 125\n",
    "    y = a - b*(math.e**(0-x))\n",
    "    return y\n",
    "    \n",
    "def graphable_curve(function,args,max_x):\n",
    "    points = []\n",
    "    for x in np.linspace(0.25,max_x,100):\n",
    "        points.append((x,function(x)))\n",
    "    return points"
   ]
  },
  {
   "cell_type": "code",
   "execution_count": null,
   "id": "9e7f2d28",
   "metadata": {},
   "outputs": [],
   "source": []
  },
  {
   "cell_type": "code",
   "execution_count": 10,
   "id": "a10ccebd",
   "metadata": {},
   "outputs": [],
   "source": [
    "def dt_to_spm(old_set):\n",
    "    new_set = []\n",
    "    for old_tuple in old_set:\n",
    "        if old_tuple[0]!=0:\n",
    "            new_tuple = (old_tuple[0],old_tuple[1]/old_tuple[0])\n",
    "            new_set.append(new_tuple)\n",
    "        else:\n",
    "            new_tuple = (old_tuple[0],old_tuple[1]/0.00001)\n",
    "            new_set.append(new_tuple)\n",
    "    return new_set"
   ]
  },
  {
   "cell_type": "code",
   "execution_count": 11,
   "id": "36edff23",
   "metadata": {},
   "outputs": [
    {
     "ename": "TypeError",
     "evalue": "graphable_curve() missing 1 required positional argument: 'max_x'",
     "output_type": "error",
     "traceback": [
      "\u001b[0;31m---------------------------------------------------------------------------\u001b[0m",
      "\u001b[0;31mTypeError\u001b[0m                                 Traceback (most recent call last)",
      "\u001b[0;32m<ipython-input-11-cd272294e6f2>\u001b[0m in \u001b[0;36m<module>\u001b[0;34m\u001b[0m\n\u001b[0;32m----> 1\u001b[0;31m \u001b[0mcurve\u001b[0m \u001b[0;34m=\u001b[0m \u001b[0mgraphable_curve\u001b[0m\u001b[0;34m(\u001b[0m\u001b[0mtry_log\u001b[0m\u001b[0;34m,\u001b[0m\u001b[0;36m6\u001b[0m\u001b[0;34m)\u001b[0m\u001b[0;34m\u001b[0m\u001b[0;34m\u001b[0m\u001b[0m\n\u001b[0m\u001b[1;32m      2\u001b[0m \u001b[0mplot_set\u001b[0m\u001b[0;34m(\u001b[0m\u001b[0;34m[\u001b[0m\u001b[0mdt_to_spm\u001b[0m\u001b[0;34m(\u001b[0m\u001b[0mwr_set\u001b[0m\u001b[0;34m)\u001b[0m\u001b[0;34m,\u001b[0m\u001b[0mcurve\u001b[0m\u001b[0;34m]\u001b[0m\u001b[0;34m)\u001b[0m\u001b[0;34m\u001b[0m\u001b[0;34m\u001b[0m\u001b[0m\n",
      "\u001b[0;31mTypeError\u001b[0m: graphable_curve() missing 1 required positional argument: 'max_x'"
     ]
    }
   ],
   "source": [
    "\n",
    "curve = graphable_curve(try_log,6)\n",
    "plot_set([dt_to_spm(wr_set),curve])"
   ]
  },
  {
   "cell_type": "code",
   "execution_count": null,
   "id": "8e1f095f",
   "metadata": {},
   "outputs": [],
   "source": []
  },
  {
   "cell_type": "code",
   "execution_count": 12,
   "id": "44724d1f",
   "metadata": {},
   "outputs": [],
   "source": [
    "def yfunc(x,a,b,c):\n",
    "    return (a * x * x) + (b * x) + c\n"
   ]
  },
  {
   "cell_type": "code",
   "execution_count": 13,
   "id": "4736d6d7",
   "metadata": {},
   "outputs": [],
   "source": [
    "def func_list(a,b,c):\n",
    "    returnable = []\n",
    "    for x in np.linspace(0.25,5,50):\n",
    "        returnable.append((x,yfunc(a,b,c,x)))\n",
    "    return returnable"
   ]
  },
  {
   "cell_type": "code",
   "execution_count": 14,
   "id": "497bd75b",
   "metadata": {},
   "outputs": [
    {
     "data": {
      "image/png": "[encoded data removed]",
      "text/plain": [
       "<Figure size 432x288 with 1 Axes>"
      ]
     },
     "metadata": {
      "needs_background": "light"
     },
     "output_type": "display_data"
    },
    {
     "data": {
      "image/png": "[encoded data removed]",
      "text/plain": [
       "<Figure size 432x288 with 1 Axes>"
      ]
     },
     "metadata": {
      "needs_background": "light"
     },
     "output_type": "display_data"
    },
    {
     "data": {
      "image/png": "[encoded data removed]",
      "text/plain": [
       "<Figure size 432x288 with 1 Axes>"
      ]
     },
     "metadata": {
      "needs_background": "light"
     },
     "output_type": "display_data"
    }
   ],
   "source": [
    "new_curve1 = func_list(1,1,1)\n",
    "new_curve2 = func_list(3,1,0)\n",
    "plot_set([new_curve1,new_curve2])\n",
    "\n",
    "new_curve1 = func_list(1,1,1)\n",
    "new_curve2 = func_list(5,1,0)\n",
    "plot_set([new_curve1,new_curve2])\n",
    "\n",
    "new_curve1 = func_list(1,1,1)\n",
    "new_curve2 = func_list(1,0,0)\n",
    "plot_set([new_curve2])"
   ]
  },
  {
   "cell_type": "code",
   "execution_count": null,
   "id": "9fa76a91",
   "metadata": {},
   "outputs": [],
   "source": []
  },
  {
   "cell_type": "code",
   "execution_count": 15,
   "id": "89bee7e4",
   "metadata": {},
   "outputs": [],
   "source": [
    "def checkbound(comparison,points,function):\n",
    "    for p in points:\n",
    "        x = p[0]\n",
    "        y_p = p[1]\n",
    "        y_c = function(x)\n",
    "        \n",
    "        if comparison == -1:\n",
    "            if y_p > y_c:\n",
    "                return False\n",
    "        elif comparison == -10:\n",
    "            if y_p >= y_c:\n",
    "                return False\n",
    "            \n",
    "        elif comparison == 1:\n",
    "            if y_p <= y_c:\n",
    "                return False\n",
    "        elif comparison == 10:\n",
    "            if y_p < y_c:\n",
    "                return False\n",
    "        else:\n",
    "            print(\"invalid comparison '\"+str(comparison)+\"'\")\n",
    "    return True"
   ]
  },
  {
   "cell_type": "code",
   "execution_count": 16,
   "id": "ec124212",
   "metadata": {},
   "outputs": [
    {
     "ename": "TypeError",
     "evalue": "yfunc() missing 3 required positional arguments: 'a', 'b', and 'c'",
     "output_type": "error",
     "traceback": [
      "\u001b[0;31m---------------------------------------------------------------------------\u001b[0m",
      "\u001b[0;31mTypeError\u001b[0m                                 Traceback (most recent call last)",
      "\u001b[0;32m<ipython-input-16-120a60885b97>\u001b[0m in \u001b[0;36m<module>\u001b[0;34m\u001b[0m\n\u001b[0;32m----> 1\u001b[0;31m \u001b[0mcheckbound\u001b[0m\u001b[0;34m(\u001b[0m\u001b[0;36m1\u001b[0m\u001b[0;34m,\u001b[0m\u001b[0;34m[\u001b[0m\u001b[0;34m(\u001b[0m\u001b[0;34m-\u001b[0m\u001b[0;36m1\u001b[0m\u001b[0;34m,\u001b[0m\u001b[0;36m4\u001b[0m\u001b[0;34m)\u001b[0m\u001b[0;34m]\u001b[0m\u001b[0;34m,\u001b[0m\u001b[0myfunc\u001b[0m\u001b[0;34m)\u001b[0m\u001b[0;34m\u001b[0m\u001b[0;34m\u001b[0m\u001b[0m\n\u001b[0m",
      "\u001b[0;32m<ipython-input-15-bab13afee64d>\u001b[0m in \u001b[0;36mcheckbound\u001b[0;34m(comparison, points, function)\u001b[0m\n\u001b[1;32m      3\u001b[0m         \u001b[0mx\u001b[0m \u001b[0;34m=\u001b[0m \u001b[0mp\u001b[0m\u001b[0;34m[\u001b[0m\u001b[0;36m0\u001b[0m\u001b[0;34m]\u001b[0m\u001b[0;34m\u001b[0m\u001b[0;34m\u001b[0m\u001b[0m\n\u001b[1;32m      4\u001b[0m         \u001b[0my_p\u001b[0m \u001b[0;34m=\u001b[0m \u001b[0mp\u001b[0m\u001b[0;34m[\u001b[0m\u001b[0;36m1\u001b[0m\u001b[0;34m]\u001b[0m\u001b[0;34m\u001b[0m\u001b[0;34m\u001b[0m\u001b[0m\n\u001b[0;32m----> 5\u001b[0;31m         \u001b[0my_c\u001b[0m \u001b[0;34m=\u001b[0m \u001b[0mfunction\u001b[0m\u001b[0;34m(\u001b[0m\u001b[0mx\u001b[0m\u001b[0;34m)\u001b[0m\u001b[0;34m\u001b[0m\u001b[0;34m\u001b[0m\u001b[0m\n\u001b[0m\u001b[1;32m      6\u001b[0m \u001b[0;34m\u001b[0m\u001b[0m\n\u001b[1;32m      7\u001b[0m         \u001b[0;32mif\u001b[0m \u001b[0mcomparison\u001b[0m \u001b[0;34m==\u001b[0m \u001b[0;34m-\u001b[0m\u001b[0;36m1\u001b[0m\u001b[0;34m:\u001b[0m\u001b[0;34m\u001b[0m\u001b[0;34m\u001b[0m\u001b[0m\n",
      "\u001b[0;31mTypeError\u001b[0m: yfunc() missing 3 required positional arguments: 'a', 'b', and 'c'"
     ]
    }
   ],
   "source": [
    "checkbound(1,[(-1,4)],yfunc)\n"
   ]
  },
  {
   "cell_type": "code",
   "execution_count": null,
   "id": "eac8c84b",
   "metadata": {},
   "outputs": [],
   "source": [
    "#\n",
    "c = graphable_curve(try_log,5)\n",
    "p1 = (4,300)\n",
    "p2 = (5,300)\n",
    "plot_set([c,[p1,p2]])\n",
    "print(checkbound(1,[p1,p2],try_log))\n",
    "print(checkbound(-1,[p1,p2],try_log))\n",
    "print(\"left point\")\n",
    "print(checkbound(1,[p1],try_log))\n",
    "print(checkbound(-1,[p1],try_log))\n",
    "print(\"right point\")\n",
    "print(checkbound(1,[p2],try_log))\n",
    "print(checkbound(-1,[p2],try_log))"
   ]
  },
  {
   "cell_type": "code",
   "execution_count": 17,
   "id": "09f2e2d1",
   "metadata": {},
   "outputs": [],
   "source": [
    "def trycollide(curve1,curve2):\n",
    "    print()"
   ]
  },
  {
   "cell_type": "code",
   "execution_count": 18,
   "id": "fabb157f",
   "metadata": {},
   "outputs": [
    {
     "ename": "TypeError",
     "evalue": "graphable_curve() missing 1 required positional argument: 'max_x'",
     "output_type": "error",
     "traceback": [
      "\u001b[0;31m---------------------------------------------------------------------------\u001b[0m",
      "\u001b[0;31mTypeError\u001b[0m                                 Traceback (most recent call last)",
      "\u001b[0;32m<ipython-input-18-067a346253f5>\u001b[0m in \u001b[0;36m<module>\u001b[0;34m\u001b[0m\n\u001b[1;32m      1\u001b[0m \u001b[0;31m# proof of concept\u001b[0m\u001b[0;34m\u001b[0m\u001b[0;34m\u001b[0m\u001b[0;34m\u001b[0m\u001b[0m\n\u001b[0;32m----> 2\u001b[0;31m \u001b[0mc\u001b[0m \u001b[0;34m=\u001b[0m \u001b[0mgraphable_curve\u001b[0m\u001b[0;34m(\u001b[0m\u001b[0mtry_log\u001b[0m\u001b[0;34m,\u001b[0m\u001b[0;36m5\u001b[0m\u001b[0;34m)\u001b[0m\u001b[0;34m\u001b[0m\u001b[0;34m\u001b[0m\u001b[0m\n\u001b[0m\u001b[1;32m      3\u001b[0m \u001b[0mp1\u001b[0m \u001b[0;34m=\u001b[0m \u001b[0;34m(\u001b[0m\u001b[0;36m1\u001b[0m\u001b[0;34m,\u001b[0m\u001b[0;36m300\u001b[0m\u001b[0;34m)\u001b[0m\u001b[0;34m\u001b[0m\u001b[0;34m\u001b[0m\u001b[0m\n\u001b[1;32m      4\u001b[0m \u001b[0mp2\u001b[0m \u001b[0;34m=\u001b[0m \u001b[0;34m(\u001b[0m\u001b[0;36m2\u001b[0m\u001b[0;34m,\u001b[0m\u001b[0;36m300\u001b[0m\u001b[0;34m)\u001b[0m\u001b[0;34m\u001b[0m\u001b[0;34m\u001b[0m\u001b[0m\n\u001b[1;32m      5\u001b[0m \u001b[0mp3\u001b[0m \u001b[0;34m=\u001b[0m \u001b[0;34m(\u001b[0m\u001b[0;36m3\u001b[0m\u001b[0;34m,\u001b[0m\u001b[0;36m300\u001b[0m\u001b[0;34m)\u001b[0m\u001b[0;34m\u001b[0m\u001b[0;34m\u001b[0m\u001b[0m\n",
      "\u001b[0;31mTypeError\u001b[0m: graphable_curve() missing 1 required positional argument: 'max_x'"
     ]
    }
   ],
   "source": [
    "# proof of concept\n",
    "c = graphable_curve(try_log,5)\n",
    "p1 = (1,300)\n",
    "p2 = (2,300)\n",
    "p3 = (3,300)\n",
    "plot_set([c,[p1,p2,p3]])\n",
    "print(checkbound(1,[p1,p2,p3],try_log))\n",
    "print(checkbound(-1,[p2,p3],try_log))\n"
   ]
  },
  {
   "cell_type": "code",
   "execution_count": 32,
   "id": "71ed3470",
   "metadata": {},
   "outputs": [
    {
     "data": {
      "image/png": "[encoded data removed]",
      "text/plain": [
       "<Figure size 432x288 with 1 Axes>"
      ]
     },
     "metadata": {
      "needs_background": "light"
     },
     "output_type": "display_data"
    }
   ],
   "source": [
    "\n",
    "\n",
    "points = np.array(dt_to_spm(wr_set))\n",
    "\n",
    "x = points[:,0] #extract x and y's from points set\n",
    "y = points[:,1]\n",
    "\n",
    "z = np.polyfit(np.log(x), y, 1)# determining polynomial\n",
    "f = np.poly1d(z)\n",
    "\n",
    "# calculate new x's and y's\n",
    "x_new = np.linspace(x[0], x[-1], 50)\n",
    "y_new = f(x_new)\n",
    "\n",
    "pp.plot(x,y,'o', x_new, y_new)\n",
    "pp.xlim([x[0]-1, x[-1] + 1 ])\n",
    "pp.show()"
   ]
  },
  {
   "cell_type": "code",
   "execution_count": 20,
   "id": "b2734f7d",
   "metadata": {},
   "outputs": [
    {
     "name": "stdout",
     "output_type": "stream",
     "text": [
      "[ 34.19339786 267.48827767]\n"
     ]
    },
    {
     "ename": "NameError",
     "evalue": "name 'graphable_logcurve' is not defined",
     "output_type": "error",
     "traceback": [
      "\u001b[0;31m---------------------------------------------------------------------------\u001b[0m",
      "\u001b[0;31mNameError\u001b[0m                                 Traceback (most recent call last)",
      "\u001b[0;32m<ipython-input-20-857123325483>\u001b[0m in \u001b[0;36m<module>\u001b[0;34m\u001b[0m\n\u001b[1;32m     11\u001b[0m \u001b[0my_c\u001b[0m \u001b[0;34m=\u001b[0m \u001b[0;34m[\u001b[0m\u001b[0;34m]\u001b[0m\u001b[0;34m\u001b[0m\u001b[0;34m\u001b[0m\u001b[0m\n\u001b[1;32m     12\u001b[0m \u001b[0;34m\u001b[0m\u001b[0m\n\u001b[0;32m---> 13\u001b[0;31m \u001b[0mnew_curve\u001b[0m \u001b[0;34m=\u001b[0m \u001b[0mgraphable_logcurve\u001b[0m\u001b[0;34m(\u001b[0m\u001b[0mfit\u001b[0m\u001b[0;34m)\u001b[0m\u001b[0;34m\u001b[0m\u001b[0;34m\u001b[0m\u001b[0m\n\u001b[0m\u001b[1;32m     14\u001b[0m \u001b[0;32mfor\u001b[0m \u001b[0mp\u001b[0m \u001b[0;32min\u001b[0m \u001b[0mnew_curve\u001b[0m\u001b[0;34m:\u001b[0m\u001b[0;34m\u001b[0m\u001b[0;34m\u001b[0m\u001b[0m\n\u001b[1;32m     15\u001b[0m     \u001b[0mx_c\u001b[0m\u001b[0;34m.\u001b[0m\u001b[0mappend\u001b[0m\u001b[0;34m(\u001b[0m\u001b[0mp\u001b[0m\u001b[0;34m[\u001b[0m\u001b[0;36m0\u001b[0m\u001b[0;34m]\u001b[0m\u001b[0;34m)\u001b[0m\u001b[0;34m\u001b[0m\u001b[0;34m\u001b[0m\u001b[0m\n",
      "\u001b[0;31mNameError\u001b[0m: name 'graphable_logcurve' is not defined"
     ]
    }
   ],
   "source": [
    "points = np.array(dt_to_spm(ms_set+jm_set))\n",
    "\n",
    "x = points[:,0] #extract x and y's from points set\n",
    "y = points[:,1]\n",
    "\n",
    "fit = np.polyfit(np.log(x), y, 1)# determining polynomial\n",
    "#f = np.poly1d(z)\n",
    "print(fit)\n",
    "\n",
    "x_c = []\n",
    "y_c = []\n",
    "\n",
    "new_curve = graphable_logcurve(fit)\n",
    "for p in new_curve:\n",
    "    x_c.append(p[0])\n",
    "    y_c.append(p[1])\n",
    "    \n",
    "pp.plot(x,y,'o')\n",
    "pp.plot(x_c,y_c,'o')\n",
    "\n",
    "#pp.plot(x,y,'o', x_new, y_new)\n",
    "#pp.xlim([x[0]-1, x[-1] + 1 ])\n",
    "pp.show()"
   ]
  },
  {
   "cell_type": "code",
   "execution_count": null,
   "id": "d8c9690c",
   "metadata": {},
   "outputs": [],
   "source": [
    "def logab(x,a,b):\n",
    "    return b+np.log(x)*a\n",
    "\n",
    "a = 26.32538971 \n",
    "b = 216.12682087\n",
    "\n",
    "print(logab(1,a,b))\n",
    "print(logab(2,a,b))\n",
    "print(logab(3,a,b))\n",
    "print(logab(4,a,b))\n",
    "print(logab(5,a,b))\n",
    "print(logab(6,a,b))"
   ]
  },
  {
   "cell_type": "code",
   "execution_count": 21,
   "id": "f610c3d2",
   "metadata": {},
   "outputs": [],
   "source": [
    "def graphable_logcurve(args):\n",
    "    print(\"--\")\n",
    "    print(args)\n",
    "    max_x = 5\n",
    "    a = args[0]\n",
    "    b = args[1]\n",
    "    \n",
    "    points = []\n",
    "    for x in np.linspace(0.01,max_x,100):\n",
    "        points.append((x,logab(x,a,b)))\n",
    "    return points\n",
    "\n",
    "#argset = (1,0)\n",
    "#new_curve = graphable_logcurve(argset)\n",
    "#plot_set([new_curve])"
   ]
  },
  {
   "cell_type": "code",
   "execution_count": 22,
   "id": "e1dd7b4d",
   "metadata": {},
   "outputs": [],
   "source": [
    "def points_to_log(points):\n",
    "    pts = np.array(dt_to_spm(points))\n",
    "    x = pts[:,0] #extract x and y's from points set\n",
    "    y = pts[:,1]\n",
    "    fit = np.polyfit(np.log(x), y, 1)# determining polynomial\n",
    "    #print(fit)\n",
    "    return log_eq(fit)"
   ]
  },
  {
   "cell_type": "code",
   "execution_count": 23,
   "id": "1a5f80d1",
   "metadata": {},
   "outputs": [
    {
     "ename": "NameError",
     "evalue": "name 'log_eq' is not defined",
     "output_type": "error",
     "traceback": [
      "\u001b[0;31m---------------------------------------------------------------------------\u001b[0m",
      "\u001b[0;31mNameError\u001b[0m                                 Traceback (most recent call last)",
      "\u001b[0;32m<ipython-input-23-90a3769fef96>\u001b[0m in \u001b[0;36m<module>\u001b[0;34m\u001b[0m\n\u001b[1;32m      1\u001b[0m \u001b[0mpts\u001b[0m \u001b[0;34m=\u001b[0m \u001b[0mnp\u001b[0m\u001b[0;34m.\u001b[0m\u001b[0marray\u001b[0m\u001b[0;34m(\u001b[0m\u001b[0mdt_to_spm\u001b[0m\u001b[0;34m(\u001b[0m\u001b[0mallsets\u001b[0m\u001b[0;34m)\u001b[0m\u001b[0;34m)\u001b[0m\u001b[0;34m\u001b[0m\u001b[0;34m\u001b[0m\u001b[0m\n\u001b[1;32m      2\u001b[0m \u001b[0;34m\u001b[0m\u001b[0m\n\u001b[0;32m----> 3\u001b[0;31m \u001b[0mpoints_to_log\u001b[0m\u001b[0;34m(\u001b[0m\u001b[0mpts\u001b[0m\u001b[0;34m)\u001b[0m\u001b[0;34m\u001b[0m\u001b[0;34m\u001b[0m\u001b[0m\n\u001b[0m\u001b[1;32m      4\u001b[0m \u001b[0;34m\u001b[0m\u001b[0m\n",
      "\u001b[0;32m<ipython-input-22-42feacca8d73>\u001b[0m in \u001b[0;36mpoints_to_log\u001b[0;34m(points)\u001b[0m\n\u001b[1;32m      5\u001b[0m     \u001b[0mfit\u001b[0m \u001b[0;34m=\u001b[0m \u001b[0mnp\u001b[0m\u001b[0;34m.\u001b[0m\u001b[0mpolyfit\u001b[0m\u001b[0;34m(\u001b[0m\u001b[0mnp\u001b[0m\u001b[0;34m.\u001b[0m\u001b[0mlog\u001b[0m\u001b[0;34m(\u001b[0m\u001b[0mx\u001b[0m\u001b[0;34m)\u001b[0m\u001b[0;34m,\u001b[0m \u001b[0my\u001b[0m\u001b[0;34m,\u001b[0m \u001b[0;36m1\u001b[0m\u001b[0;34m)\u001b[0m\u001b[0;31m# determining polynomial\u001b[0m\u001b[0;34m\u001b[0m\u001b[0;34m\u001b[0m\u001b[0m\n\u001b[1;32m      6\u001b[0m     \u001b[0;31m#print(fit)\u001b[0m\u001b[0;34m\u001b[0m\u001b[0;34m\u001b[0m\u001b[0;34m\u001b[0m\u001b[0m\n\u001b[0;32m----> 7\u001b[0;31m     \u001b[0;32mreturn\u001b[0m \u001b[0mlog_eq\u001b[0m\u001b[0;34m(\u001b[0m\u001b[0mfit\u001b[0m\u001b[0;34m)\u001b[0m\u001b[0;34m\u001b[0m\u001b[0;34m\u001b[0m\u001b[0m\n\u001b[0m",
      "\u001b[0;31mNameError\u001b[0m: name 'log_eq' is not defined"
     ]
    }
   ],
   "source": [
    "pts = np.array(dt_to_spm(allsets))\n",
    "\n",
    "points_to_log(pts)\n",
    "\n"
   ]
  },
  {
   "cell_type": "code",
   "execution_count": 24,
   "id": "51604cbe",
   "metadata": {},
   "outputs": [],
   "source": [
    "class log_eq():\n",
    "    def __init__(self,args):\n",
    "        self.a = args[0]\n",
    "        self.b = args[1]\n",
    "        print(fit)\n",
    "        print(self.f(5))\n",
    "        print(\"----\")\n",
    "    def f(self,x):\n",
    "        return self.b+np.log(x)*self.a "
   ]
  },
  {
   "cell_type": "code",
   "execution_count": 25,
   "id": "020ec351",
   "metadata": {},
   "outputs": [
    {
     "name": "stdout",
     "output_type": "stream",
     "text": [
      "[(0.25, 43), (0.5, 101), (1, 223), (2, 478), (3.1, 750), (4.97, 1264), (0.25, 54), (0.5, 120), (1, 275), (2, 600), (3.1, 960), (4.97, 1610), (0.25, 55), (0.5, 121), (1, 272), (3.1, 925), (4.97, 1560)]\n",
      "[ 34.19339786 267.48827767]\n",
      "299.36896263177255\n",
      "----\n"
     ]
    }
   ],
   "source": [
    "print(allsets)\n",
    "test1 = points_to_log(allsets)"
   ]
  },
  {
   "cell_type": "code",
   "execution_count": 26,
   "id": "3f411702",
   "metadata": {},
   "outputs": [
    {
     "data": {
      "text/plain": [
       "135.44626737993562"
      ]
     },
     "execution_count": 26,
     "metadata": {},
     "output_type": "execute_result"
    }
   ],
   "source": [
    "test1.f(2)/2"
   ]
  },
  {
   "cell_type": "code",
   "execution_count": 29,
   "id": "4495bd71",
   "metadata": {},
   "outputs": [
    {
     "name": "stdout",
     "output_type": "stream",
     "text": [
      "[ 34.19339786 267.48827767]\n",
      "299.36896263177255\n",
      "----\n"
     ]
    },
    {
     "data": {
      "image/png": "[encoded data removed]",
      "text/plain": [
       "<Figure size 432x288 with 1 Axes>"
      ]
     },
     "metadata": {
      "needs_background": "light"
     },
     "output_type": "display_data"
    },
    {
     "name": "stdout",
     "output_type": "stream",
     "text": [
      "[ 34.19339786 267.48827767]\n",
      "328.6423754842581\n",
      "----\n"
     ]
    },
    {
     "data": {
      "image/png": "[encoded data removed]",
      "text/plain": [
       "<Figure size 432x288 with 1 Axes>"
      ]
     },
     "metadata": {
      "needs_background": "light"
     },
     "output_type": "display_data"
    },
    {
     "name": "stdout",
     "output_type": "stream",
     "text": [
      "[ 34.19339786 267.48827767]\n",
      "258.49590113629864\n",
      "----\n"
     ]
    },
    {
     "data": {
      "image/png": "[encoded data removed]",
      "text/plain": [
       "<Figure size 432x288 with 1 Axes>"
      ]
     },
     "metadata": {
      "needs_background": "light"
     },
     "output_type": "display_data"
    }
   ],
   "source": [
    "def fitset(data):    \n",
    "\n",
    "    points = np.array(dt_to_spm(data))\n",
    "    x = points[:,0] #extract x and y's from points set\n",
    "    y = points[:,1]\n",
    "\n",
    "    fiteq = points_to_log(data)\n",
    "    x_c = np.linspace(0.01,max(x),100)\n",
    "    y_c = fiteq.f(x_c)\n",
    "\n",
    "    pp.plot(x,y,'x')\n",
    "    pp.plot(x_c,y_c,'o')\n",
    "    pp.show()\n",
    "    \n",
    "fitset(allsets)\n",
    "fitset(jm_set)\n",
    "fitset(wr_set)"
   ]
  },
  {
   "cell_type": "code",
   "execution_count": 33,
   "id": "fd8926a2",
   "metadata": {},
   "outputs": [
    {
     "name": "stdout",
     "output_type": "stream",
     "text": [
      "[ 34.19339786 267.48827767]\n",
      "400.06187554198766\n",
      "----\n"
     ]
    },
    {
     "data": {
      "image/png": "[encoded data removed]",
      "text/plain": [
       "<Figure size 432x288 with 1 Axes>"
      ]
     },
     "metadata": {
      "needs_background": "light"
     },
     "output_type": "display_data"
    }
   ],
   "source": [
    "derp_shit = [(0.25, 100),(0.5, 240),(1, 500),(2, 1200),(3.1, 1800),(4.97, 3610)]\n",
    "fitset(derp_shit+allsets)"
   ]
  },
  {
   "cell_type": "code",
   "execution_count": null,
   "id": "a9ec79a5",
   "metadata": {},
   "outputs": [],
   "source": []
  },
  {
   "cell_type": "code",
   "execution_count": 185,
   "id": "40d6fcd0",
   "metadata": {},
   "outputs": [],
   "source": [
    "def minsec(minutes,seconds):\n",
    "    return (minutes*60)+seconds\n",
    "def hourminsec(hours,minutes,seconds):\n",
    "    return (hours*3600)+(minutes*60)+seconds"
   ]
  },
  {
   "cell_type": "code",
   "execution_count": null,
   "id": "2c10f60f",
   "metadata": {},
   "outputs": [],
   "source": []
  },
  {
   "cell_type": "code",
   "execution_count": 189,
   "id": "6de0a93e",
   "metadata": {},
   "outputs": [
    {
     "name": "stdout",
     "output_type": "stream",
     "text": [
      "[ 34.19339786 267.48827767]\n",
      "328.4459425702394\n",
      "----\n",
      "[ 34.19339786 267.48827767]\n",
      "314.14808729459673\n",
      "----\n"
     ]
    },
    {
     "data": {
      "image/png": "[encoded data removed]",
      "text/plain": [
       "<Figure size 432x288 with 1 Axes>"
      ]
     },
     "metadata": {
      "needs_background": "light"
     },
     "output_type": "display_data"
    }
   ],
   "source": [
    "\n",
    "\n",
    "def minsec(minutes,seconds):\n",
    "    return (minutes*60)+seconds\n",
    "def hourminsec(hours,minutes,seconds):\n",
    "    return (hours*3600)+(minutes*60)+seconds\n",
    "def yeetus2(): \n",
    "    \n",
    "    setA = [(0.25, 43),(0.5, 101),(1, 219),(2, 478),(3.13, 769),(4.97, 1264)]\n",
    "    #ms = [(0.25, 55),(0.5, 130),(1, 265),(1.2,369),(3.1, 925),(4.97, 1560)]\n",
    "    #jm = [(0.25, 54),(0.5, 120),(1, 275),(2, 600),(2.95, 960),(4.97, 1610)]\n",
    "    #rm = [(0.5,minsec(2,1)),(1,minsec(4,25)),(2,minsec(10,23)),(3.17,minsec(16,23)),(4.99,minsec(27,12))]\n",
    "    #bk = [(0.62,minsec(3,0)),(1.86,minsec(9,20)),(3.17,minsec(15,15)),(4.97,minsec(25,15))]\n",
    "   \n",
    "\n",
    "    jmm = [(0.5, 120), (1, 275), (2, 600), (3, 930), (4.97, 1610)]\n",
    "    rm = [(0.5,minsec(2,1)),(1,minsec(4,25)),(2,minsec(10,23)),(3.17,minsec(16,23)),(4.99,minsec(27,12))]\n",
    "    ms = [(0.5,minsec(2,5)),(1,minsec(4,41)),(2,minsec(9,44)),(3.1,minsec(15,24)),(4.97,minsec(26,0))]#,(13.1,hourminsec(1,28,22))\n",
    "    bk = [(0.62,minsec(3,0)),(1.86,minsec(9,20)),(3.17,minsec(15,15)),(4.97,minsec(25,15))]\n",
    "    rb = [(3, 915), (5, 1573)]\n",
    "    students = jmm + ms + rm + bk + rb\n",
    "\n",
    "\n",
    "    setA += [(3,830),(1, 240)] \n",
    "    colors = [\"red\",\"blue\"]\n",
    "    sets = [jmm,ms]\n",
    "    for s in sets:\n",
    "        if colors == []:\n",
    "            colors.append(\"orange\")\n",
    "        thiscolor = colors.pop(0)\n",
    "        \n",
    "        points = np.array(dt_to_spm(s))\n",
    "        x = points[:,0]\n",
    "        y = points[:,1]\n",
    "        pp.scatter(x,y,marker=\"x\",color=thiscolor)\n",
    "\n",
    "    fiteq = points_to_log(jmm)\n",
    "    x_c = np.linspace(0.1,max(x),100)\n",
    "    y_c = fiteq.f(x_c)\n",
    "    pp.plot(x_c,y_c,color=\"#aaaaaa\")\n",
    "    \n",
    "    fiteq = points_to_log(ms)\n",
    "    x_c = np.linspace(0.1,max(x),100)\n",
    "    y_c = fiteq.f(x_c)\n",
    "    pp.plot(x_c,y_c,color=\"#666666\")\n",
    "    \n",
    "    \n",
    "    pp.title(\"World Records vs Students\")\n",
    "    pp.xlabel = \"Distance (Miles)\"\n",
    "    pp.ylabel = \"Duration (Seconds)\"\n",
    "    pp.show()\n",
    "    \n",
    "yeetus2()"
   ]
  },
  {
   "cell_type": "code",
   "execution_count": null,
   "id": "d4c1e934",
   "metadata": {},
   "outputs": [],
   "source": []
  }
 ],
 "metadata": {
  "kernelspec": {
   "display_name": "Python 3",
   "language": "python",
   "name": "python3"
  },
  "language_info": {
   "codemirror_mode": {
    "name": "ipython",
    "version": 3
   },
   "file_extension": ".py",
   "mimetype": "text/x-python",
   "name": "python",
   "nbconvert_exporter": "python",
   "pygments_lexer": "ipython3",
   "version": "3.8.8"
  }
 },
 "nbformat": 4,
 "nbformat_minor": 5
}
