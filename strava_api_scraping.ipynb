{
 "cells": [
  {
   "cell_type": "code",
   "execution_count": null,
   "metadata": {},
   "outputs": [],
   "source": [
    "!pip install git+https://github.com/sladkovm/strava-swagger-client"
   ]
  },
  {
   "attachments": {},
   "cell_type": "markdown",
   "metadata": {},
   "source": [
    "API initialization code"
   ]
  },
  {
   "cell_type": "code",
   "execution_count": 98,
   "metadata": {},
   "outputs": [],
   "source": [
    "\n",
    "#from __future__ import print_statement\n",
    "import time\n",
    "import swagger_client\n",
    "from swagger_client.rest import ApiException\n",
    "from pprint import pprint\n",
    "\n",
    "configuration = swagger_client.Configuration()\n",
    "configuration.access_token = '39915a0dab17e689a6056465807fc83fc505b1f9'\n",
    "\n",
    "# create an instance of the API class\n",
    "api_instance = swagger_client.SegmentsApi(swagger_client.ApiClient(configuration))\n"
   ]
  },
  {
   "cell_type": "code",
   "execution_count": 17,
   "metadata": {},
   "outputs": [],
   "source": [
    "import math\n",
    "def get_bounds_in_area(starting_lat,starting_long,distance):\n",
    "    # returns southwest corner and northeast corner\n",
    "  top_right =   MaxLatLongOnBearing(starting_lat, starting_long,45,distance)\n",
    "  bottom_right = MaxLatLongOnBearing(starting_lat, starting_long, 135, distance)\n",
    "  bottom_left = MaxLatLongOnBearing(starting_lat, starting_long, 225, distance)\n",
    "  top_left = MaxLatLongOnBearing(starting_lat, starting_long, 315, distance)\n",
    "  return {\"top right\":top_right,\"bottom right\":bottom_right,\"bottom left\":bottom_left,\"top left\" :top_left}\n",
    "\n",
    "def MaxLatLongOnBearing(centerLat, centerLong, bearing, distance):\n",
    "    \n",
    "\n",
    "        lon_rads = math.radians(centerLong)\n",
    "        lat_rads = math.radians(centerLat)\n",
    "        bearing_rads = math.radians(bearing)\n",
    "        max_lat_rads = math.asin(math.sin(lat_rads) * math.cos(distance / 6371) + math.cos(lat_rads) * math.sin(distance / 6371) * math.cos(bearing_rads))\n",
    "        max_lon_rads = lon_rads + math.atan2((math.sin(bearing_rads) * math.sin(distance / 6371) * math.cos(lat_rads)), (math.cos(distance / 6371) - math.sin(lat_rads) * math.sin(max_lat_rads)))\n",
    "\n",
    "        maxLat = math.degrees(max_lat_rads)\n",
    "        maxLong = math.degrees(max_lon_rads)\n",
    "\n",
    "        return (maxLat,maxLong)\n",
    "    \n",
    "\n"
   ]
  },
  {
   "cell_type": "code",
   "execution_count": 18,
   "metadata": {},
   "outputs": [
    {
     "data": {
      "text/plain": [
       "{'top right': (38.865669713496985, -104.78052884172236),\n",
       " 'bottom right': (38.80207808250494, -104.78056531050585),\n",
       " 'bottom left': (38.80207808250494, -104.86216468949414),\n",
       " 'top left': (38.865669713496985, -104.86220115827764)}"
      ]
     },
     "execution_count": 18,
     "metadata": {},
     "output_type": "execute_result"
    }
   ],
   "source": [
    "CO_Springs_lat_and_lon = (38.833881,-104.821365)\n",
    "get_bounds_in_area(CO_Springs_lat_and_lon[0],CO_Springs_lat_and_lon[1],5)"
   ]
  },
  {
   "cell_type": "code",
   "execution_count": 60,
   "metadata": {},
   "outputs": [],
   "source": [
    "def get_top_ten_segments_in_area(lat,lon,distance):\n",
    "    area_sqaure = get_bounds_in_area(lat,lon,distance)\n",
    "    bounds =  [area_sqaure[\"bottom left\"][0],area_sqaure[\"bottom left\"][1],area_sqaure[\"top right\"][0],area_sqaure[\"top right\"][1]]# array[Float] | The latitude and longitude for two points describing a rectangular boundary for the search: [southwest corner latitutde, southwest corner longitude, northeast corner latitude, northeast corner longitude]\n",
    "    activity_type = \"running\" # String | Desired activity type. (optional)\n",
    "\n",
    "    try: \n",
    "        # Explore segments\n",
    "        api_response = api_instance.explore_segments(bounds, activity_type=activity_type)\n",
    "        return api_response.to_dict()\n",
    "    except ApiException as e:\n",
    "        print(\"Exception when calling SegmentsApi->exploreSegments: %s\\n\" % e)\n",
    "        return None"
   ]
  },
  {
   "cell_type": "code",
   "execution_count": 80,
   "metadata": {},
   "outputs": [],
   "source": [
    "import json\n",
    "import os.path\n",
    "def save_segments_to_json_file(filename,dict):\n",
    "    filename = \"data/\"+filename\n",
    "    # check for file already there\n",
    "    try:\n",
    "        with open(filename,\"r\") as file:\n",
    "            segment_data_dict = json.load(file)\n",
    "    except Exception as e:\n",
    "        print(e)\n",
    "        segment_data_dict = None\n",
    "    # append new segments to file if not already there\n",
    "    if segment_data_dict:\n",
    "        for segment in dict[\"segments\"]:\n",
    "            if segment not in segment_data_dict[\"segments\"]:\n",
    "                segment_data_dict[\"segments\"].append(segment)\n",
    "    else:\n",
    "        segment_data_dict = dict\n",
    "    json_object = json.dumps(segment_data_dict)\n",
    "    # Writing to sample.json\n",
    "    with open(filename, \"w+\") as outfile:\n",
    "        outfile.write(json_object)\n"
   ]
  },
  {
   "attachments": {},
   "cell_type": "markdown",
   "metadata": {},
   "source": [
    "Saving a sample api call to json file"
   ]
  },
  {
   "cell_type": "code",
   "execution_count": 76,
   "metadata": {},
   "outputs": [
    {
     "name": "stdout",
     "output_type": "stream",
     "text": [
      "'str' object has no attribute 'read'\n",
      "None\n"
     ]
    }
   ],
   "source": [
    "api_resp = get_top_ten_segments_in_area(34.096676,-117.719780,5)"
   ]
  },
  {
   "cell_type": "code",
   "execution_count": 87,
   "metadata": {},
   "outputs": [],
   "source": [
    "api_resp = get_top_ten_segments_in_area(CO_Springs_lat_and_lon[0],CO_Springs_lat_and_lon[1],5)"
   ]
  },
  {
   "cell_type": "code",
   "execution_count": null,
   "metadata": {},
   "outputs": [],
   "source": [
    "segment_data_file_name = \"segment_data.json\"\n",
    "if api_resp:\n",
    "    save_segments_to_json_file(segment_data_file_name,api_resp)\n",
    "   "
   ]
  },
  {
   "attachments": {},
   "cell_type": "markdown",
   "metadata": {},
   "source": [
    "## Getting a list of Summary activies\n",
    "Note: Summary Activities do not contain segment data, only detailed activities do. You cannot get multiple detailed activites at once."
   ]
  },
  {
   "cell_type": "code",
   "execution_count": 99,
   "metadata": {},
   "outputs": [],
   "source": [
    "api_instance = swagger_client.ActivitiesApi(swagger_client.ApiClient(configuration))\n"
   ]
  },
  {
   "cell_type": "code",
   "execution_count": 100,
   "metadata": {},
   "outputs": [
    {
     "ename": "ApiException",
     "evalue": "(401)\nReason: Unauthorized\nHTTP response headers: HTTPHeaderDict({'Content-Type': 'application/json; charset=utf-8', 'Transfer-Encoding': 'chunked', 'Connection': 'keep-alive', 'Date': 'Tue, 13 Dec 2022 01:25:54 GMT', 'Via': '1.1 linkerd, 1.1 linkerd, 1.1 4e9b9147b7b73ce3eecd6a9f981a924a.cloudfront.net (CloudFront)', 'Vary': 'Origin', 'Server': 'nginx/1.21.3', 'Status': '401 Unauthorized', 'X-Request-Id': 'ac1591a7-ef41-4d07-b95b-22b51f1f628f', 'Cache-Control': 'no-cache', 'Referrer-Policy': 'strict-origin-when-cross-origin', 'X-Frame-Options': 'DENY', 'X-XSS-Protection': '1; mode=block', 'X-RateLimit-Limit': '100,1000', 'X-RateLimit-Usage': '3,18', 'X-Download-Options': 'noopen', 'X-Content-Type-Options': 'nosniff', 'X-Permitted-Cross-Domain-Policies': 'none', 'X-Cache': 'Error from cloudfront', 'X-Amz-Cf-Pop': 'ORD58-P4', 'X-Amz-Cf-Id': 'QYowGToa6ijs9wslcP_m8Y7aQqqV7vX0NF7IEcn0O0LOaV6tqekDww=='})\nHTTP response body: {\"message\":\"Authorization Error\",\"errors\":[{\"resource\":\"AccessToken\",\"field\":\"activity:read_permission\",\"code\":\"missing\"}]}\n",
     "output_type": "error",
     "traceback": [
      "\u001b[1;31m---------------------------------------------------------------------------\u001b[0m",
      "\u001b[1;31mApiException\u001b[0m                              Traceback (most recent call last)",
      "\u001b[1;32mc:\\Users\\James\\Documents\\School\\CS\\DSA\\HunterXKOM\\strava_api_scraping.ipynb Cell 14\u001b[0m in \u001b[0;36m<cell line: 1>\u001b[1;34m()\u001b[0m\n\u001b[1;32m----> <a href='vscode-notebook-cell:/c%3A/Users/James/Documents/School/CS/DSA/HunterXKOM/strava_api_scraping.ipynb#X32sZmlsZQ%3D%3D?line=0'>1</a>\u001b[0m api_resp \u001b[39m=\u001b[39m api_instance\u001b[39m.\u001b[39;49mget_logged_in_athlete_activities()\n",
      "File \u001b[1;32m~\\AppData\\Local\\Packages\\PythonSoftwareFoundation.Python.3.10_qbz5n2kfra8p0\\LocalCache\\local-packages\\Python310\\site-packages\\swagger_client\\api\\activities_api.py:597\u001b[0m, in \u001b[0;36mActivitiesApi.get_logged_in_athlete_activities\u001b[1;34m(self, **kwargs)\u001b[0m\n\u001b[0;32m    595\u001b[0m     \u001b[39mreturn\u001b[39;00m \u001b[39mself\u001b[39m\u001b[39m.\u001b[39mget_logged_in_athlete_activities_with_http_info(\u001b[39m*\u001b[39m\u001b[39m*\u001b[39mkwargs)  \u001b[39m# noqa: E501\u001b[39;00m\n\u001b[0;32m    596\u001b[0m \u001b[39melse\u001b[39;00m:\n\u001b[1;32m--> 597\u001b[0m     (data) \u001b[39m=\u001b[39m \u001b[39mself\u001b[39m\u001b[39m.\u001b[39mget_logged_in_athlete_activities_with_http_info(\u001b[39m*\u001b[39m\u001b[39m*\u001b[39mkwargs)  \u001b[39m# noqa: E501\u001b[39;00m\n\u001b[0;32m    598\u001b[0m     \u001b[39mreturn\u001b[39;00m data\n",
      "File \u001b[1;32m~\\AppData\\Local\\Packages\\PythonSoftwareFoundation.Python.3.10_qbz5n2kfra8p0\\LocalCache\\local-packages\\Python310\\site-packages\\swagger_client\\api\\activities_api.py:662\u001b[0m, in \u001b[0;36mActivitiesApi.get_logged_in_athlete_activities_with_http_info\u001b[1;34m(self, **kwargs)\u001b[0m\n\u001b[0;32m    659\u001b[0m \u001b[39m# Authentication setting\u001b[39;00m\n\u001b[0;32m    660\u001b[0m auth_settings \u001b[39m=\u001b[39m [\u001b[39m'\u001b[39m\u001b[39mstrava_oauth\u001b[39m\u001b[39m'\u001b[39m]  \u001b[39m# noqa: E501\u001b[39;00m\n\u001b[1;32m--> 662\u001b[0m \u001b[39mreturn\u001b[39;00m \u001b[39mself\u001b[39;49m\u001b[39m.\u001b[39;49mapi_client\u001b[39m.\u001b[39;49mcall_api(\n\u001b[0;32m    663\u001b[0m     \u001b[39m'\u001b[39;49m\u001b[39m/athlete/activities\u001b[39;49m\u001b[39m'\u001b[39;49m, \u001b[39m'\u001b[39;49m\u001b[39mGET\u001b[39;49m\u001b[39m'\u001b[39;49m,\n\u001b[0;32m    664\u001b[0m     path_params,\n\u001b[0;32m    665\u001b[0m     query_params,\n\u001b[0;32m    666\u001b[0m     header_params,\n\u001b[0;32m    667\u001b[0m     body\u001b[39m=\u001b[39;49mbody_params,\n\u001b[0;32m    668\u001b[0m     post_params\u001b[39m=\u001b[39;49mform_params,\n\u001b[0;32m    669\u001b[0m     files\u001b[39m=\u001b[39;49mlocal_var_files,\n\u001b[0;32m    670\u001b[0m     response_type\u001b[39m=\u001b[39;49m\u001b[39m'\u001b[39;49m\u001b[39mlist[SummaryActivity]\u001b[39;49m\u001b[39m'\u001b[39;49m,  \u001b[39m# noqa: E501\u001b[39;49;00m\n\u001b[0;32m    671\u001b[0m     auth_settings\u001b[39m=\u001b[39;49mauth_settings,\n\u001b[0;32m    672\u001b[0m     async_req\u001b[39m=\u001b[39;49mparams\u001b[39m.\u001b[39;49mget(\u001b[39m'\u001b[39;49m\u001b[39masync_req\u001b[39;49m\u001b[39m'\u001b[39;49m),\n\u001b[0;32m    673\u001b[0m     _return_http_data_only\u001b[39m=\u001b[39;49mparams\u001b[39m.\u001b[39;49mget(\u001b[39m'\u001b[39;49m\u001b[39m_return_http_data_only\u001b[39;49m\u001b[39m'\u001b[39;49m),\n\u001b[0;32m    674\u001b[0m     _preload_content\u001b[39m=\u001b[39;49mparams\u001b[39m.\u001b[39;49mget(\u001b[39m'\u001b[39;49m\u001b[39m_preload_content\u001b[39;49m\u001b[39m'\u001b[39;49m, \u001b[39mTrue\u001b[39;49;00m),\n\u001b[0;32m    675\u001b[0m     _request_timeout\u001b[39m=\u001b[39;49mparams\u001b[39m.\u001b[39;49mget(\u001b[39m'\u001b[39;49m\u001b[39m_request_timeout\u001b[39;49m\u001b[39m'\u001b[39;49m),\n\u001b[0;32m    676\u001b[0m     collection_formats\u001b[39m=\u001b[39;49mcollection_formats)\n",
      "File \u001b[1;32m~\\AppData\\Local\\Packages\\PythonSoftwareFoundation.Python.3.10_qbz5n2kfra8p0\\LocalCache\\local-packages\\Python310\\site-packages\\swagger_client\\api_client.py:317\u001b[0m, in \u001b[0;36mApiClient.call_api\u001b[1;34m(self, resource_path, method, path_params, query_params, header_params, body, post_params, files, response_type, auth_settings, async_req, _return_http_data_only, collection_formats, _preload_content, _request_timeout)\u001b[0m\n\u001b[0;32m    280\u001b[0m \u001b[39m\"\"\"Makes the HTTP request (synchronous) and returns deserialized data.\u001b[39;00m\n\u001b[0;32m    281\u001b[0m \n\u001b[0;32m    282\u001b[0m \u001b[39mTo make an async request, set the async_req parameter.\u001b[39;00m\n\u001b[1;32m   (...)\u001b[0m\n\u001b[0;32m    314\u001b[0m \u001b[39m    then the method will return the response directly.\u001b[39;00m\n\u001b[0;32m    315\u001b[0m \u001b[39m\"\"\"\u001b[39;00m\n\u001b[0;32m    316\u001b[0m \u001b[39mif\u001b[39;00m \u001b[39mnot\u001b[39;00m async_req:\n\u001b[1;32m--> 317\u001b[0m     \u001b[39mreturn\u001b[39;00m \u001b[39mself\u001b[39;49m\u001b[39m.\u001b[39;49m__call_api(resource_path, method,\n\u001b[0;32m    318\u001b[0m                            path_params, query_params, header_params,\n\u001b[0;32m    319\u001b[0m                            body, post_params, files,\n\u001b[0;32m    320\u001b[0m                            response_type, auth_settings,\n\u001b[0;32m    321\u001b[0m                            _return_http_data_only, collection_formats,\n\u001b[0;32m    322\u001b[0m                            _preload_content, _request_timeout)\n\u001b[0;32m    323\u001b[0m \u001b[39melse\u001b[39;00m:\n\u001b[0;32m    324\u001b[0m     thread \u001b[39m=\u001b[39m \u001b[39mself\u001b[39m\u001b[39m.\u001b[39mpool\u001b[39m.\u001b[39mapply_async(\u001b[39mself\u001b[39m\u001b[39m.\u001b[39m__call_api, (resource_path,\n\u001b[0;32m    325\u001b[0m                                    method, path_params, query_params,\n\u001b[0;32m    326\u001b[0m                                    header_params, body,\n\u001b[1;32m   (...)\u001b[0m\n\u001b[0;32m    330\u001b[0m                                    collection_formats,\n\u001b[0;32m    331\u001b[0m                                    _preload_content, _request_timeout))\n",
      "File \u001b[1;32m~\\AppData\\Local\\Packages\\PythonSoftwareFoundation.Python.3.10_qbz5n2kfra8p0\\LocalCache\\local-packages\\Python310\\site-packages\\swagger_client\\api_client.py:149\u001b[0m, in \u001b[0;36mApiClient.__call_api\u001b[1;34m(self, resource_path, method, path_params, query_params, header_params, body, post_params, files, response_type, auth_settings, _return_http_data_only, collection_formats, _preload_content, _request_timeout)\u001b[0m\n\u001b[0;32m    146\u001b[0m url \u001b[39m=\u001b[39m \u001b[39mself\u001b[39m\u001b[39m.\u001b[39mconfiguration\u001b[39m.\u001b[39mhost \u001b[39m+\u001b[39m resource_path\n\u001b[0;32m    148\u001b[0m \u001b[39m# perform request and return response\u001b[39;00m\n\u001b[1;32m--> 149\u001b[0m response_data \u001b[39m=\u001b[39m \u001b[39mself\u001b[39;49m\u001b[39m.\u001b[39;49mrequest(\n\u001b[0;32m    150\u001b[0m     method, url, query_params\u001b[39m=\u001b[39;49mquery_params, headers\u001b[39m=\u001b[39;49mheader_params,\n\u001b[0;32m    151\u001b[0m     post_params\u001b[39m=\u001b[39;49mpost_params, body\u001b[39m=\u001b[39;49mbody,\n\u001b[0;32m    152\u001b[0m     _preload_content\u001b[39m=\u001b[39;49m_preload_content,\n\u001b[0;32m    153\u001b[0m     _request_timeout\u001b[39m=\u001b[39;49m_request_timeout)\n\u001b[0;32m    155\u001b[0m \u001b[39mself\u001b[39m\u001b[39m.\u001b[39mlast_response \u001b[39m=\u001b[39m response_data\n\u001b[0;32m    157\u001b[0m return_data \u001b[39m=\u001b[39m response_data\n",
      "File \u001b[1;32m~\\AppData\\Local\\Packages\\PythonSoftwareFoundation.Python.3.10_qbz5n2kfra8p0\\LocalCache\\local-packages\\Python310\\site-packages\\swagger_client\\api_client.py:339\u001b[0m, in \u001b[0;36mApiClient.request\u001b[1;34m(self, method, url, query_params, headers, post_params, body, _preload_content, _request_timeout)\u001b[0m\n\u001b[0;32m    337\u001b[0m \u001b[39m\"\"\"Makes the HTTP request using RESTClient.\"\"\"\u001b[39;00m\n\u001b[0;32m    338\u001b[0m \u001b[39mif\u001b[39;00m method \u001b[39m==\u001b[39m \u001b[39m\"\u001b[39m\u001b[39mGET\u001b[39m\u001b[39m\"\u001b[39m:\n\u001b[1;32m--> 339\u001b[0m     \u001b[39mreturn\u001b[39;00m \u001b[39mself\u001b[39;49m\u001b[39m.\u001b[39;49mrest_client\u001b[39m.\u001b[39;49mGET(url,\n\u001b[0;32m    340\u001b[0m                                 query_params\u001b[39m=\u001b[39;49mquery_params,\n\u001b[0;32m    341\u001b[0m                                 _preload_content\u001b[39m=\u001b[39;49m_preload_content,\n\u001b[0;32m    342\u001b[0m                                 _request_timeout\u001b[39m=\u001b[39;49m_request_timeout,\n\u001b[0;32m    343\u001b[0m                                 headers\u001b[39m=\u001b[39;49mheaders)\n\u001b[0;32m    344\u001b[0m \u001b[39melif\u001b[39;00m method \u001b[39m==\u001b[39m \u001b[39m\"\u001b[39m\u001b[39mHEAD\u001b[39m\u001b[39m\"\u001b[39m:\n\u001b[0;32m    345\u001b[0m     \u001b[39mreturn\u001b[39;00m \u001b[39mself\u001b[39m\u001b[39m.\u001b[39mrest_client\u001b[39m.\u001b[39mHEAD(url,\n\u001b[0;32m    346\u001b[0m                                  query_params\u001b[39m=\u001b[39mquery_params,\n\u001b[0;32m    347\u001b[0m                                  _preload_content\u001b[39m=\u001b[39m_preload_content,\n\u001b[0;32m    348\u001b[0m                                  _request_timeout\u001b[39m=\u001b[39m_request_timeout,\n\u001b[0;32m    349\u001b[0m                                  headers\u001b[39m=\u001b[39mheaders)\n",
      "File \u001b[1;32m~\\AppData\\Local\\Packages\\PythonSoftwareFoundation.Python.3.10_qbz5n2kfra8p0\\LocalCache\\local-packages\\Python310\\site-packages\\swagger_client\\rest.py:234\u001b[0m, in \u001b[0;36mRESTClientObject.GET\u001b[1;34m(self, url, headers, query_params, _preload_content, _request_timeout)\u001b[0m\n\u001b[0;32m    232\u001b[0m \u001b[39mdef\u001b[39;00m \u001b[39mGET\u001b[39m(\u001b[39mself\u001b[39m, url, headers\u001b[39m=\u001b[39m\u001b[39mNone\u001b[39;00m, query_params\u001b[39m=\u001b[39m\u001b[39mNone\u001b[39;00m, _preload_content\u001b[39m=\u001b[39m\u001b[39mTrue\u001b[39;00m,\n\u001b[0;32m    233\u001b[0m         _request_timeout\u001b[39m=\u001b[39m\u001b[39mNone\u001b[39;00m):\n\u001b[1;32m--> 234\u001b[0m     \u001b[39mreturn\u001b[39;00m \u001b[39mself\u001b[39;49m\u001b[39m.\u001b[39;49mrequest(\u001b[39m\"\u001b[39;49m\u001b[39mGET\u001b[39;49m\u001b[39m\"\u001b[39;49m, url,\n\u001b[0;32m    235\u001b[0m                         headers\u001b[39m=\u001b[39;49mheaders,\n\u001b[0;32m    236\u001b[0m                         _preload_content\u001b[39m=\u001b[39;49m_preload_content,\n\u001b[0;32m    237\u001b[0m                         _request_timeout\u001b[39m=\u001b[39;49m_request_timeout,\n\u001b[0;32m    238\u001b[0m                         query_params\u001b[39m=\u001b[39;49mquery_params)\n",
      "File \u001b[1;32m~\\AppData\\Local\\Packages\\PythonSoftwareFoundation.Python.3.10_qbz5n2kfra8p0\\LocalCache\\local-packages\\Python310\\site-packages\\swagger_client\\rest.py:228\u001b[0m, in \u001b[0;36mRESTClientObject.request\u001b[1;34m(self, method, url, query_params, headers, body, post_params, _preload_content, _request_timeout)\u001b[0m\n\u001b[0;32m    225\u001b[0m     logger\u001b[39m.\u001b[39mdebug(\u001b[39m\"\u001b[39m\u001b[39mresponse body: \u001b[39m\u001b[39m%s\u001b[39;00m\u001b[39m\"\u001b[39m, r\u001b[39m.\u001b[39mdata)\n\u001b[0;32m    227\u001b[0m \u001b[39mif\u001b[39;00m \u001b[39mnot\u001b[39;00m \u001b[39m200\u001b[39m \u001b[39m<\u001b[39m\u001b[39m=\u001b[39m r\u001b[39m.\u001b[39mstatus \u001b[39m<\u001b[39m\u001b[39m=\u001b[39m \u001b[39m299\u001b[39m:\n\u001b[1;32m--> 228\u001b[0m     \u001b[39mraise\u001b[39;00m ApiException(http_resp\u001b[39m=\u001b[39mr)\n\u001b[0;32m    230\u001b[0m \u001b[39mreturn\u001b[39;00m r\n",
      "\u001b[1;31mApiException\u001b[0m: (401)\nReason: Unauthorized\nHTTP response headers: HTTPHeaderDict({'Content-Type': 'application/json; charset=utf-8', 'Transfer-Encoding': 'chunked', 'Connection': 'keep-alive', 'Date': 'Tue, 13 Dec 2022 01:25:54 GMT', 'Via': '1.1 linkerd, 1.1 linkerd, 1.1 4e9b9147b7b73ce3eecd6a9f981a924a.cloudfront.net (CloudFront)', 'Vary': 'Origin', 'Server': 'nginx/1.21.3', 'Status': '401 Unauthorized', 'X-Request-Id': 'ac1591a7-ef41-4d07-b95b-22b51f1f628f', 'Cache-Control': 'no-cache', 'Referrer-Policy': 'strict-origin-when-cross-origin', 'X-Frame-Options': 'DENY', 'X-XSS-Protection': '1; mode=block', 'X-RateLimit-Limit': '100,1000', 'X-RateLimit-Usage': '3,18', 'X-Download-Options': 'noopen', 'X-Content-Type-Options': 'nosniff', 'X-Permitted-Cross-Domain-Policies': 'none', 'X-Cache': 'Error from cloudfront', 'X-Amz-Cf-Pop': 'ORD58-P4', 'X-Amz-Cf-Id': 'QYowGToa6ijs9wslcP_m8Y7aQqqV7vX0NF7IEcn0O0LOaV6tqekDww=='})\nHTTP response body: {\"message\":\"Authorization Error\",\"errors\":[{\"resource\":\"AccessToken\",\"field\":\"activity:read_permission\",\"code\":\"missing\"}]}\n"
     ]
    }
   ],
   "source": [
    "api_resp = api_instance.get_logged_in_athlete_activities()"
   ]
  },
  {
   "cell_type": "code",
   "execution_count": null,
   "metadata": {},
   "outputs": [],
   "source": [
    "def save_activities_to_json_file(filename,dict):\n",
    "    filename = \"data/\"+filename\n",
    "    # check for file already there\n",
    "    try:\n",
    "        with open(filename,\"r\") as file:\n",
    "            segment_data_dict = json.load(file)\n",
    "    except Exception as e:\n",
    "        print(e)\n",
    "        segment_data_dict = None\n",
    "    # append new segments to file if not already there\n",
    "    if segment_data_dict:\n",
    "        for segment in dict[\"segments\"]:\n",
    "            if segment not in segment_data_dict[\"segments\"]:\n",
    "                segment_data_dict[\"segments\"].append(segment)\n",
    "    else:\n",
    "        segment_data_dict = dict\n",
    "    json_object = json.dumps(segment_data_dict)\n",
    "    # Writing to sample.json\n",
    "    with open(filename, \"w+\") as outfile:\n",
    "        outfile.write(json_object)"
   ]
  },
  {
   "cell_type": "markdown",
   "metadata": {},
   "source": []
  }
 ],
 "metadata": {
  "kernelspec": {
   "display_name": "Python 3",
   "language": "python",
   "name": "python3"
  },
  "language_info": {
   "codemirror_mode": {
    "name": "ipython",
    "version": 3
   },
   "file_extension": ".py",
   "mimetype": "text/x-python",
   "name": "python",
   "nbconvert_exporter": "python",
   "pygments_lexer": "ipython3",
   "version": "3.11.1 (v3.11.1:a7a450f84a, Dec  6 2022, 15:24:06) [Clang 13.0.0 (clang-1300.0.29.30)]"
  },
  "orig_nbformat": 4,
  "vscode": {
   "interpreter": {
    "hash": "aee8b7b246df8f9039afb4144a1f6fd8d2ca17a180786b69acc140d282b71a49"
   }
  }
 },
 "nbformat": 4,
 "nbformat_minor": 2
}
