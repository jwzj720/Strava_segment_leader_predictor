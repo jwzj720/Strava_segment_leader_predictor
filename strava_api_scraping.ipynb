{
 "cells": [
  {
   "cell_type": "code",
   "execution_count": 6,
   "metadata": {},
   "outputs": [
    {
     "name": "stdout",
     "output_type": "stream",
     "text": [
      "Collecting git+https://github.com/sladkovm/strava-swagger-client\n",
      "  Cloning https://github.com/sladkovm/strava-swagger-client to c:\\users\\james\\appdata\\local\\temp\\pip-req-build-nh_rxhs3\n",
      "  Resolved https://github.com/sladkovm/strava-swagger-client to commit 9f311d40d2fb715dcd098e5eaa6b714c5e70853b\n",
      "  Preparing metadata (setup.py): started\n",
      "  Preparing metadata (setup.py): finished with status 'done'\n",
      "Requirement already satisfied: urllib3>=1.15 in c:\\users\\james\\appdata\\local\\packages\\pythonsoftwarefoundation.python.3.10_qbz5n2kfra8p0\\localcache\\local-packages\\python310\\site-packages (from swagger-client==1.0.0) (1.26.11)\n",
      "Requirement already satisfied: six>=1.10 in c:\\users\\james\\appdata\\local\\packages\\pythonsoftwarefoundation.python.3.10_qbz5n2kfra8p0\\localcache\\local-packages\\python310\\site-packages (from swagger-client==1.0.0) (1.16.0)\n",
      "Requirement already satisfied: certifi in c:\\users\\james\\appdata\\local\\packages\\pythonsoftwarefoundation.python.3.10_qbz5n2kfra8p0\\localcache\\local-packages\\python310\\site-packages (from swagger-client==1.0.0) (2022.6.15)\n",
      "Requirement already satisfied: python-dateutil in c:\\users\\james\\appdata\\local\\packages\\pythonsoftwarefoundation.python.3.10_qbz5n2kfra8p0\\localcache\\local-packages\\python310\\site-packages (from swagger-client==1.0.0) (2.8.2)\n",
      "Installing collected packages: swagger-client\n",
      "  Running setup.py install for swagger-client: started\n",
      "  Running setup.py install for swagger-client: finished with status 'done'\n",
      "Successfully installed swagger-client-1.0.0\n"
     ]
    },
    {
     "name": "stderr",
     "output_type": "stream",
     "text": [
      "  Running command git clone --filter=blob:none --quiet https://github.com/sladkovm/strava-swagger-client 'C:\\Users\\James\\AppData\\Local\\Temp\\pip-req-build-nh_rxhs3'\n",
      "  DEPRECATION: swagger-client is being installed using the legacy 'setup.py install' method, because it does not have a 'pyproject.toml' and the 'wheel' package is not installed. pip 23.1 will enforce this behaviour change. A possible replacement is to enable the '--use-pep517' option. Discussion can be found at https://github.com/pypa/pip/issues/8559\n"
     ]
    }
   ],
   "source": [
    "!pip install git+https://github.com/sladkovm/strava-swagger-client"
   ]
  },
  {
   "attachments": {},
   "cell_type": "markdown",
   "metadata": {},
   "source": [
    "API initialization code"
   ]
  },
  {
   "cell_type": "code",
   "execution_count": 56,
   "metadata": {},
   "outputs": [],
   "source": [
    "\n",
    "#from __future__ import print_statement\n",
    "import time\n",
    "import swagger_client\n",
    "from swagger_client.rest import ApiException\n",
    "from pprint import pprint\n",
    "\n",
    "configuration = swagger_client.Configuration()\n",
    "configuration.access_token = 'd4d834df8cf82ee2e739ea432818f917a70d14f9'\n",
    "\n",
    "# create an instance of the API class\n",
    "api_instance = swagger_client.SegmentsApi(swagger_client.ApiClient(configuration))\n"
   ]
  },
  {
   "cell_type": "code",
   "execution_count": 17,
   "metadata": {},
   "outputs": [],
   "source": [
    "import math\n",
    "def get_bounds_in_area(starting_lat,starting_long,distance):\n",
    "    # returns southwest corner and northeast corner\n",
    "  top_right =   MaxLatLongOnBearing(starting_lat, starting_long,45,distance)\n",
    "  bottom_right = MaxLatLongOnBearing(starting_lat, starting_long, 135, distance)\n",
    "  bottom_left = MaxLatLongOnBearing(starting_lat, starting_long, 225, distance)\n",
    "  top_left = MaxLatLongOnBearing(starting_lat, starting_long, 315, distance)\n",
    "  return {\"top right\":top_right,\"bottom right\":bottom_right,\"bottom left\":bottom_left,\"top left\" :top_left}\n",
    "\n",
    "def MaxLatLongOnBearing(centerLat, centerLong, bearing, distance):\n",
    "    \n",
    "\n",
    "        lon_rads = math.radians(centerLong)\n",
    "        lat_rads = math.radians(centerLat)\n",
    "        bearing_rads = math.radians(bearing)\n",
    "        max_lat_rads = math.asin(math.sin(lat_rads) * math.cos(distance / 6371) + math.cos(lat_rads) * math.sin(distance / 6371) * math.cos(bearing_rads))\n",
    "        max_lon_rads = lon_rads + math.atan2((math.sin(bearing_rads) * math.sin(distance / 6371) * math.cos(lat_rads)), (math.cos(distance / 6371) - math.sin(lat_rads) * math.sin(max_lat_rads)))\n",
    "\n",
    "        maxLat = math.degrees(max_lat_rads)\n",
    "        maxLong = math.degrees(max_lon_rads)\n",
    "\n",
    "        return (maxLat,maxLong)\n",
    "    \n",
    "\n"
   ]
  },
  {
   "cell_type": "code",
   "execution_count": 18,
   "metadata": {},
   "outputs": [
    {
     "data": {
      "text/plain": [
       "{'top right': (38.865669713496985, -104.78052884172236),\n",
       " 'bottom right': (38.80207808250494, -104.78056531050585),\n",
       " 'bottom left': (38.80207808250494, -104.86216468949414),\n",
       " 'top left': (38.865669713496985, -104.86220115827764)}"
      ]
     },
     "execution_count": 18,
     "metadata": {},
     "output_type": "execute_result"
    }
   ],
   "source": [
    "CO_Springs_lat_and_lon = (38.833881,-104.821365)\n",
    "get_bounds_in_area(CO_Springs_lat_and_lon[0],CO_Springs_lat_and_lon[1],5)"
   ]
  },
  {
   "cell_type": "code",
   "execution_count": 52,
   "metadata": {},
   "outputs": [],
   "source": [
    "def get_top_ten_segments_in_area(lat,lon,distance):\n",
    "    area_sqaure = get_bounds_in_area(lat,lon,distance)\n",
    "    bounds =  [area_sqaure[\"bottom left\"][0],area_sqaure[\"bottom left\"][1],area_sqaure[\"top right\"][0],area_sqaure[\"top right\"][1]]# array[Float] | The latitude and longitude for two points describing a rectangular boundary for the search: [southwest corner latitutde, southwest corner longitude, northeast corner latitude, northeast corner longitude]\n",
    "    activity_type = \"running\" # String | Desired activity type. (optional)\n",
    "\n",
    "    try: \n",
    "        # Explore segments\n",
    "        api_response = api_instance.explore_segments(bounds, activity_type=activity_type)\n",
    "        return api_response.to_dict()\n",
    "    except ApiException as e:\n",
    "        print(\"Exception when calling SegmentsApi->exploreSegments: %s\\n\" % e)\n",
    "        return None"
   ]
  },
  {
   "cell_type": "code",
   "execution_count": 54,
   "metadata": {},
   "outputs": [],
   "source": [
    "import json\n",
    "def save_to_json_file(filename,dict):\n",
    "    # check for file already there\n",
    "    try:\n",
    "        segment_data_dict = json.loads(filename)\n",
    "    except Exception as e:\n",
    "        segment_data_dict = None\n",
    "    # append to file if already there\n",
    "    if segment_data_dict:\n",
    "        segment_data_dict[\"segments\"].append(dict[\"segments\"])\n",
    "    else:\n",
    "        segment_data_dict = dict\n",
    "    json_object = json.dumps(segment_data_dict)\n",
    "    # Writing to sample.json\n",
    "    with open(filename, \"w+\") as outfile:\n",
    "        outfile.write(json_object)\n"
   ]
  },
  {
   "attachments": {},
   "cell_type": "markdown",
   "metadata": {},
   "source": [
    "Saving a sample api call to json file"
   ]
  },
  {
   "cell_type": "code",
   "execution_count": 57,
   "metadata": {},
   "outputs": [],
   "source": [
    "api_resp = get_top_ten_segments_in_area(CO_Springs_lat_and_lon[0],CO_Springs_lat_and_lon[1],5)\n",
    "segment_data_file_name = \"segment_data.json\"\n",
    "if api_resp:\n",
    "    save_to_json_file(segment_data_file_name,api_resp)\n",
    "   "
   ]
  },
  {
   "cell_type": "markdown",
   "metadata": {},
   "source": []
  }
 ],
 "metadata": {
  "kernelspec": {
   "display_name": "Python 3",
   "language": "python",
   "name": "python3"
  },
  "language_info": {
   "codemirror_mode": {
    "name": "ipython",
    "version": 3
   },
   "file_extension": ".py",
   "mimetype": "text/x-python",
   "name": "python",
   "nbconvert_exporter": "python",
   "pygments_lexer": "ipython3",
   "version": "3.10.9"
  },
  "orig_nbformat": 4,
  "vscode": {
   "interpreter": {
    "hash": "f7d6fef4803a87b6bf8f046c08ccb2d01bfe26e59291b0f299e6bb7968c27f7f"
   }
  }
 },
 "nbformat": 4,
 "nbformat_minor": 2
}
