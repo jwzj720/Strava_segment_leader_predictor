{
 "cells": [
  {
   "cell_type": "code",
   "execution_count": 3,
   "metadata": {},
   "outputs": [
    {
     "name": "stdout",
     "output_type": "stream",
     "text": [
      "Collecting gpxpy\n",
      "  Using cached gpxpy-1.5.0.tar.gz (111 kB)\n",
      "  Preparing metadata (setup.py) ... \u001b[?25ldone\n",
      "\u001b[?25hBuilding wheels for collected packages: gpxpy\n",
      "  Building wheel for gpxpy (setup.py) ... \u001b[?25ldone\n",
      "\u001b[?25h  Created wheel for gpxpy: filename=gpxpy-1.5.0-py3-none-any.whl size=42881 sha256=1953e133e198b79abeb05d0b7d28e44e80e4bf19b5a012e780cce7373b5ee2e6\n",
      "  Stored in directory: /Users/wjones/Library/Caches/pip/wheels/26/e9/10/bcb9297a4a30efd552b3ddf896ff1666ed8f925973a599ad6c\n",
      "Successfully built gpxpy\n",
      "Installing collected packages: gpxpy\n",
      "Successfully installed gpxpy-1.5.0\n"
     ]
    }
   ],
   "source": [
    "import scipy as sc\n",
    "import numpy as np\n",
    "!pip install gpxpy\n",
    "import gpxpy"
   ]
  },
  {
   "cell_type": "code",
   "execution_count": 4,
   "metadata": {},
   "outputs": [],
   "source": [
    "def dtw(s, t, window):\n",
    "    n, m = len(s), len(t)\n",
    "    w = np.max([window, abs(n-m)])\n",
    "    dtw_matrix = np.zeros((n+1, m+1))\n",
    "    \n",
    "    for i in range(n+1):\n",
    "        for j in range(m+1):\n",
    "            dtw_matrix[i, j] = np.inf\n",
    "    dtw_matrix[0, 0] = 0\n",
    "    \n",
    "    for i in range(1, n+1):\n",
    "        for j in range(np.max([1, i-w]), np.min([m, i+w])+1):\n",
    "            dtw_matrix[i, j] = 0\n",
    "    \n",
    "    for i in range(1, n+1):\n",
    "        for j in range(np.max([1, i-w]), np.min([m, i+w])+1):\n",
    "            cost = abs(s[i-1] - t[j-1])\n",
    "            # take last min from a square box\n",
    "            last_min = np.min([dtw_matrix[i-1, j], dtw_matrix[i, j-1], dtw_matrix[i-1, j-1]])\n",
    "            dtw_matrix[i, j] = cost + last_min\n",
    "    return dtw_matrix"
   ]
  },
  {
   "cell_type": "code",
   "execution_count": 5,
   "metadata": {},
   "outputs": [],
   "source": [
    "# what do we need for this alg to work:\n",
    "    # we need the two lists to be (roughly) the same distance\n",
    "    # how to achieve this: we break up user activity into sizes\n",
    "#def good_data(segment, user):\n"
   ]
  },
  {
   "cell_type": "code",
   "execution_count": 6,
   "metadata": {},
   "outputs": [],
   "source": [
    "def file_to_elevation_arr(fileName):\n",
    "        gpx_file = open(fileName, 'r')\n",
    "        gpx = gpxpy.parse(gpx_file)\n",
    "        elevationOne = []\n",
    "        for track in gpx.tracks:\n",
    "            for segment in track.segments:\n",
    "                for point in segment.points:\n",
    "                    #print('Point at ({0},{1}) -> {2}'.format(point.latitude, point.longitude, point.elevation))\n",
    "                    elevationOne.append(point.elevation)\n",
    "        return elevationOne"
   ]
  },
  {
   "cell_type": "code",
   "execution_count": null,
   "metadata": {},
   "outputs": [],
   "source": []
  }
 ],
 "metadata": {
  "kernelspec": {
   "display_name": "dsa",
   "language": "python",
   "name": "python3"
  },
  "language_info": {
   "codemirror_mode": {
    "name": "ipython",
    "version": 3
   },
   "file_extension": ".py",
   "mimetype": "text/x-python",
   "name": "python",
   "nbconvert_exporter": "python",
   "pygments_lexer": "ipython3",
   "version": "3.9.15"
  },
  "orig_nbformat": 4,
  "vscode": {
   "interpreter": {
    "hash": "60a029060c274fe779a2fcc7bb51dacc2ea85f5b99cbc3686fa63f7965c9aff9"
   }
  }
 },
 "nbformat": 4,
 "nbformat_minor": 2
}
