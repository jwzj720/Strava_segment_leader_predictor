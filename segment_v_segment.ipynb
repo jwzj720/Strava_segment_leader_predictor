{
 "cells": [
  {
   "cell_type": "code",
   "execution_count": 19,
   "metadata": {},
   "outputs": [],
   "source": [
    "import scipy as sc\n",
    "import numpy as np\n",
    "#!pip install gpxpy\n",
    "import gpxpy\n",
    "from geopy import distance\n",
    "import json\n",
    "import pandas as pd\n"
   ]
  },
  {
   "attachments": {},
   "cell_type": "markdown",
   "metadata": {},
   "source": [
    "# Putting it all together:"
   ]
  },
  {
   "attachments": {},
   "cell_type": "markdown",
   "metadata": {},
   "source": [
    "1. read gpx file(s) into an array with elevations and coordinates\n",
    "2. read segement data into array with elevations and coordinates\n",
    "3. get total distance and total elevation difference from segment\n",
    "4. sweep through gpx arrays to find sections that roughly fit the segment\n",
    "5. calculate elapsed times for those sections\n",
    "6. use DTW to see if segments are actually similar\n",
    "    - if they are, compare times.\n",
    "\n",
    "- Thought - skip the prelim data sweep and just use DTW"
   ]
  },
  {
   "cell_type": "code",
   "execution_count": 2,
   "metadata": {},
   "outputs": [],
   "source": [
    "def dtw(s, t, window):\n",
    "    n, m = len(s), len(t)\n",
    "    w = np.max([window, abs(n-m)])\n",
    "    dtw_matrix = np.zeros((n+1, m+1))\n",
    "    \n",
    "    for i in range(n+1):\n",
    "        for j in range(m+1):\n",
    "            dtw_matrix[i, j] = np.inf\n",
    "    dtw_matrix[0, 0] = 0\n",
    "    \n",
    "    for i in range(1, n+1):\n",
    "        for j in range(np.max([1, i-w]), np.min([m, i+w])+1):\n",
    "            dtw_matrix[i, j] = 0\n",
    "    \n",
    "    for i in range(1, n+1):\n",
    "        for j in range(np.max([1, i-w]), np.min([m, i+w])+1):\n",
    "            cost = abs(s[i-1] - t[j-1])\n",
    "            # take last min from a square box\n",
    "            last_min = np.min([dtw_matrix[i-1, j], dtw_matrix[i, j-1], dtw_matrix[i-1, j-1]])\n",
    "            dtw_matrix[i, j] = cost + last_min\n",
    "    return dtw_matrix"
   ]
  },
  {
   "cell_type": "code",
   "execution_count": null,
   "metadata": {},
   "outputs": [],
   "source": [
    "from geopy import distance\n",
    "# method to calculate distances between point\n",
    "def distanceBetweenPoints(p1, p2):\n",
    "    flat_distance = distance.distance(p1[:2], p2[:2]).m\n",
    "    # print(flat_distance)\n",
    "    euclidian_distance = math.sqrt(flat_distance**2 + (p2[2] - p1[2])**2)\n",
    "    return euclidian_distance"
   ]
  },
  {
   "cell_type": "code",
   "execution_count": 14,
   "metadata": {},
   "outputs": [],
   "source": [
    "# method to make GPX file into array of elevations, times, distances\n",
    "def file_to_elevation_arr(fileName):\n",
    "        gpx_file = open(fileName, 'r')\n",
    "        gpx = gpxpy.parse(gpx_file)\n",
    "        elevevation_time_and_distance = []\n",
    "        pointOne = None\n",
    "        for track in gpx.tracks:\n",
    "            for segment in track.segments:\n",
    "                for point in segment.points:\n",
    "                    pointTwo = point\n",
    "                    distance = 0\n",
    "                    if pointOne:\n",
    "                        distance = distanceBetweenPoints(pointOne, pointTwo)\n",
    "                    #print('Point at ({0},{1}) -> {2}'.format(point.latitude, point.longitude, point.elevation))\n",
    "                    elevevation_time_and_distance.append((point.elevation,point.time, distance))\n",
    "        return elevevation_time_and_distance"
   ]
  },
  {
   "cell_type": "code",
   "execution_count": 5,
   "metadata": {},
   "outputs": [],
   "source": [
    "fileOne = \"data/Walt's Strava/activities/4844961125.gpx\"\n",
    "fileTwo  = \"data/Walt's Strava/activities/4812864781.gpx\""
   ]
  },
  {
   "cell_type": "code",
   "execution_count": 15,
   "metadata": {},
   "outputs": [],
   "source": [
    "arrOne = file_to_elevation_arr(fileOne)\n",
    "arrTwo = file_to_elevation_arr(fileTwo)"
   ]
  },
  {
   "cell_type": "code",
   "execution_count": 7,
   "metadata": {},
   "outputs": [
    {
     "name": "stdout",
     "output_type": "stream",
     "text": [
      "[[0.00000e+00         inf         inf ...         inf         inf\n",
      "          inf]\n",
      " [        inf 3.00000e-01 6.00000e-01 ...         inf         inf\n",
      "          inf]\n",
      " [        inf 5.00000e-01 5.00000e-01 ...         inf         inf\n",
      "          inf]\n",
      " ...\n",
      " [        inf         inf         inf ... 3.73075e+04 3.73102e+04\n",
      "  3.73129e+04]\n",
      " [        inf         inf         inf ...         inf 3.73102e+04\n",
      "  3.73129e+04]\n",
      " [        inf         inf         inf ...         inf         inf\n",
      "  3.73127e+04]]\n"
     ]
    }
   ],
   "source": [
    "print(dtw(arrOne, arrTwo,10))"
   ]
  },
  {
   "cell_type": "code",
   "execution_count": 17,
   "metadata": {},
   "outputs": [],
   "source": [
    "segment = \"data/Elevation JSON/segment_location_data_elevation_0.json\""
   ]
  },
  {
   "cell_type": "code",
   "execution_count": 35,
   "metadata": {},
   "outputs": [
    {
     "data": {
      "text/html": [
       "<div>\n",
       "<style scoped>\n",
       "    .dataframe tbody tr th:only-of-type {\n",
       "        vertical-align: middle;\n",
       "    }\n",
       "\n",
       "    .dataframe tbody tr th {\n",
       "        vertical-align: top;\n",
       "    }\n",
       "\n",
       "    .dataframe thead th {\n",
       "        text-align: right;\n",
       "    }\n",
       "</style>\n",
       "<table border=\"1\" class=\"dataframe\">\n",
       "  <thead>\n",
       "    <tr style=\"text-align: right;\">\n",
       "      <th></th>\n",
       "      <th>lat</th>\n",
       "      <th>lon</th>\n",
       "      <th>elev_meters</th>\n",
       "      <th>distance</th>\n",
       "    </tr>\n",
       "  </thead>\n",
       "  <tbody>\n",
       "    <tr>\n",
       "      <th>0</th>\n",
       "      <td>34.09464</td>\n",
       "      <td>-117.71377</td>\n",
       "      <td>355.14</td>\n",
       "      <td>0.000000</td>\n",
       "    </tr>\n",
       "    <tr>\n",
       "      <th>1</th>\n",
       "      <td>34.09467</td>\n",
       "      <td>-117.71362</td>\n",
       "      <td>355.22</td>\n",
       "      <td>14.236931</td>\n",
       "    </tr>\n",
       "    <tr>\n",
       "      <th>2</th>\n",
       "      <td>34.09467</td>\n",
       "      <td>-117.71327</td>\n",
       "      <td>355.12</td>\n",
       "      <td>32.298915</td>\n",
       "    </tr>\n",
       "    <tr>\n",
       "      <th>3</th>\n",
       "      <td>34.09476</td>\n",
       "      <td>-117.71181</td>\n",
       "      <td>356.33</td>\n",
       "      <td>135.106672</td>\n",
       "    </tr>\n",
       "    <tr>\n",
       "      <th>4</th>\n",
       "      <td>34.09474</td>\n",
       "      <td>-117.71131</td>\n",
       "      <td>356.34</td>\n",
       "      <td>46.194346</td>\n",
       "    </tr>\n",
       "  </tbody>\n",
       "</table>\n",
       "</div>"
      ],
      "text/plain": [
       "        lat        lon  elev_meters    distance\n",
       "0  34.09464 -117.71377       355.14    0.000000\n",
       "1  34.09467 -117.71362       355.22   14.236931\n",
       "2  34.09467 -117.71327       355.12   32.298915\n",
       "3  34.09476 -117.71181       356.33  135.106672\n",
       "4  34.09474 -117.71131       356.34   46.194346"
      ]
     },
     "execution_count": 35,
     "metadata": {},
     "output_type": "execute_result"
    }
   ],
   "source": [
    "df = pd.read_json(segment)\n",
    "df.head()\n"
   ]
  },
  {
   "cell_type": "code",
   "execution_count": 49,
   "metadata": {},
   "outputs": [],
   "source": [
    "def dataframe_segment_to_list(df):\n",
    "    sg =[]\n",
    "    # Iterate over each row\n",
    "    for index, rows in df.iterrows():\n",
    "        # Create list for the current row\n",
    "        my_list =[rows[2], rows[3]]\n",
    "        \n",
    "        # append the list to the final list\n",
    "        sg.append(my_list)\n",
    "    return sg\n",
    "  "
   ]
  },
  {
   "cell_type": "code",
   "execution_count": 47,
   "metadata": {},
   "outputs": [],
   "source": [
    "#print(segment_data)\n",
    "def total_segment_elevation(segment_data):\n",
    "    total_elev = segment_data[len(segment_data)-1][0] - segment_data[0][0]\n",
    "    return total_elev\n",
    "\n",
    "def total_segment_distance(segment_data):\n",
    "    total_distance = 0\n",
    "    for i in segment_data:\n",
    "        total_distance += i[1]\n",
    "    return total_distance"
   ]
  },
  {
   "cell_type": "code",
   "execution_count": 50,
   "metadata": {},
   "outputs": [],
   "source": [
    "def sweep_user_activity(user_data, segement_data):\n",
    "    list_of_matches = []\n",
    "    seg_distance = total_segment_distance(segement_data)\n",
    "    seg_elevation = total_segment_elevation(segement_data)\n",
    "    user_distance = 0\n",
    "    user_elev = user_data[0][0]\n",
    "    user_start_elev = user_data[0][0]\n",
    "    count = 0\n",
    "    while user_distance < seg_distance and count < len(user_distance):\n",
    "        # until we get to the window \n",
    "        user_elev = user_data[count][0]-user_start_elev\n",
    "        user_distance += user_data[count][2]\n",
    "        count += 1\n",
    "    delta_distance = user_distance - user_data[0][2]\n",
    "    # now we have the window, so we need to iterate through and see if the profiles match\n",
    "    count2 = 0\n",
    "    user_elev_two = user_data[0][0]\n",
    "    while count < len(user_distance):\n",
    "        if user_elev_two - user_elev in range(seg_distance-100, seg_distance+100, .1):\n",
    "            list_of_matches.append(user_data[count:count2])\n",
    "            # add match to list\n",
    "    return list_of_matches\n",
    "\n",
    "\n"
   ]
  },
  {
   "cell_type": "code",
   "execution_count": 51,
   "metadata": {},
   "outputs": [],
   "source": [
    "# TODO: add DTW algorithm match"
   ]
  },
  {
   "cell_type": "code",
   "execution_count": null,
   "metadata": {},
   "outputs": [],
   "source": []
  }
 ],
 "metadata": {
  "kernelspec": {
   "display_name": "dsa",
   "language": "python",
   "name": "python3"
  },
  "language_info": {
   "codemirror_mode": {
    "name": "ipython",
    "version": 3
   },
   "file_extension": ".py",
   "mimetype": "text/x-python",
   "name": "python",
   "nbconvert_exporter": "python",
   "pygments_lexer": "ipython3",
   "version": "3.9.15"
  },
  "orig_nbformat": 4,
  "vscode": {
   "interpreter": {
    "hash": "60a029060c274fe779a2fcc7bb51dacc2ea85f5b99cbc3686fa63f7965c9aff9"
   }
  }
 },
 "nbformat": 4,
 "nbformat_minor": 2
}
